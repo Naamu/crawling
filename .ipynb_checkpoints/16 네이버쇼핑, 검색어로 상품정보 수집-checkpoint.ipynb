{
 "cells": [
  {
   "cell_type": "code",
   "execution_count": 1,
   "metadata": {},
   "outputs": [],
   "source": [
    "import requests\n",
    "from bs4 import BeautifulSoup"
   ]
  },
  {
   "cell_type": "code",
   "execution_count": 3,
   "metadata": {},
   "outputs": [
    {
     "data": {
      "text/plain": [
       "['query=%EC%97%90%EC%96%B4%ED%8C%9F', 'cat_id=', 'frm=NVSHATC']"
      ]
     },
     "execution_count": 3,
     "metadata": {},
     "output_type": "execute_result"
    }
   ],
   "source": [
    "page_url = 'https://search.shopping.naver.com/search/all.nhn'\n",
    "params = 'query=%EC%97%90%EC%96%B4%ED%8C%9F&cat_id=&frm=NVSHATC'\n",
    "params.split('&')"
   ]
  },
  {
   "cell_type": "code",
   "execution_count": 4,
   "metadata": {},
   "outputs": [
    {
     "data": {
      "text/plain": [
       "b'\\xec\\x97\\x90\\xec\\x96\\xb4\\xed\\x8c\\x9f'"
      ]
     },
     "execution_count": 4,
     "metadata": {},
     "output_type": "execute_result"
    }
   ],
   "source": [
    "'에어팟'.encode('utf8')"
   ]
  },
  {
   "cell_type": "code",
   "execution_count": 5,
   "metadata": {},
   "outputs": [
    {
     "data": {
      "text/plain": [
       "<Response [200]>"
      ]
     },
     "execution_count": 5,
     "metadata": {},
     "output_type": "execute_result"
    }
   ],
   "source": [
    "page_url = 'https://search.shopping.naver.com/search/all.nhn'\n",
    "# 지워보니 cat_id와 frm도 필요없더라..\n",
    "\n",
    "params = {\n",
    "    'query' : '에어팟'\n",
    "}\n",
    "res = requests.get(page_url, params=params)\n",
    "res\n"
   ]
  },
  {
   "cell_type": "code",
   "execution_count": 6,
   "metadata": {},
   "outputs": [],
   "source": [
    "html = res.text\n",
    "soup = BeautifulSoup(html, 'html.parser')"
   ]
  },
  {
   "cell_type": "code",
   "execution_count": 9,
   "metadata": {},
   "outputs": [
    {
     "data": {
      "text/plain": [
       "40"
      ]
     },
     "execution_count": 9,
     "metadata": {},
     "output_type": "execute_result"
    }
   ],
   "source": [
    "tag_list = soup.select('.goods_list ._itemSection')\n",
    "len(tag_list)"
   ]
  },
  {
   "cell_type": "code",
   "execution_count": 10,
   "metadata": {},
   "outputs": [],
   "source": [
    "tag=tag_list[0]"
   ]
  },
  {
   "cell_type": "code",
   "execution_count": 15,
   "metadata": {},
   "outputs": [
    {
     "data": {
      "text/plain": [
       "('http://cr2.shopping.naver.com/adcr.nhn?x=laZEGW%2BtWgOSR6SSnbG4c%2F%2F%2F%2Fw%3D%3DsiEky1DWIRp9RPCm8ky0MMhK519%2FYQpLyuzJwjI0lwM%2FwMHFVfyRR41kkqop4BBe7b8mPFshxxZjUZilPFxJ49LOzWylEKLxqT9tnjLp1ZU9v5vPmSTHMhkGjhp5a56X4H%2Ba899jq4vPrE%2FGLlLG4%2FEZVgIO42F1ZaXskE4po%2F46fokx%2Bl4FoGy1QI9MhYsm97ezzdZ5SmNRKo6EhCioDiHib%2FRhqgYr9wnO%2FynfKSkAY3VoGsDE1XT1S6%2BOsYQTY%2BHjcviF3tCdK3HNpy49BDe8UEBRSWcEZo8%2BvK9eep8YAlHlfLvZE7oHvTvHgz2fijoOGrgwaFoZ%2B%2FQd5RATpAH0uxbhGCKlU8oD%2FYg3hwAniaaJza9DyXc4%2B890sFMHn3BTNc1ou8z07L6rEizbO%2BexhKqqqXKolPp7yRuyM%2B8sWG5xH%2BMDbHiNNiHNZeSlzRCmbo9tv%2Flwtg6f%2BJDJpivGNqpKCAAb85PIlxyhmhd5rPVzI8i4BESS239iSmFOWt5SQ7h9NlJklPiIKyYWpqZg7V7k688qcc3DL6Tr6EA5flfkORtuLbnKw6P2b3CvjwS2WtbSXzYjLNwsTUnaO6iSM7mfoYBKC6ortqtTwHymWQUZa3Xmw4kclqHoMSwVEf6V6dWNLrR48RgpR6lUzeAz8in5VLtp6p%2F8exCeAYHhOAF5ksHaPhHo2JPalOVV7Ax3vTX3vA2N5iwtHqwkD6A%3D%3D',\n",
       " '애플 에어팟 1세대 (MMEF2KH/A)')"
      ]
     },
     "execution_count": 15,
     "metadata": {},
     "output_type": "execute_result"
    }
   ],
   "source": [
    "title_tag = tag.select_one('.tit')\n",
    "goods_url = title_tag['href']\n",
    "goods_name = title_tag['title']\n",
    "goods_url, goods_name"
   ]
  },
  {
   "cell_type": "code",
   "execution_count": 16,
   "metadata": {},
   "outputs": [
    {
     "data": {
      "text/plain": [
       "<img alt=\"애플 에어팟 1세대 (MMEF2KH/A)\" class=\"_productLazyImg\" data-original=\"https://shopping-phinf.pstatic.net/main_1077690/10776906666.20161214174829.jpg?type=f140\" height=\"140\" src=\"https://ssl.pstatic.net/imgshopping/static/pc2014/img/search/p_120_v1.png\" width=\"140\"/>"
      ]
     },
     "execution_count": 16,
     "metadata": {},
     "output_type": "execute_result"
    }
   ],
   "source": [
    "# scr 확인해보면 '이미지 준비중' 으로 나온다. 자바스크립트로 오리지널에 있는 주소로 변경하는 것 같다. src로 하면 안된다!!\n",
    "tag.select_one('.img img')"
   ]
  },
  {
   "cell_type": "code",
   "execution_count": 22,
   "metadata": {},
   "outputs": [
    {
     "data": {
      "text/plain": [
       "'https://shopping-phinf.pstatic.net/main_1077690/10776906666.20161214174829.jpg?type=f140'"
      ]
     },
     "execution_count": 22,
     "metadata": {},
     "output_type": "execute_result"
    }
   ],
   "source": [
    "goods_img_url = tag.select_one('.img img')['data-original']\n",
    "goods_img_url"
   ]
  },
  {
   "cell_type": "code",
   "execution_count": 23,
   "metadata": {},
   "outputs": [
    {
     "data": {
      "text/plain": [
       "214310"
      ]
     },
     "execution_count": 23,
     "metadata": {},
     "output_type": "execute_result"
    }
   ],
   "source": [
    "goods_price = int(tag.select_one('.price .num').text.replace(',',''))\n",
    "goods_price"
   ]
  },
  {
   "cell_type": "code",
   "execution_count": 27,
   "metadata": {},
   "outputs": [
    {
     "data": {
      "text/plain": [
       "['디지털/가전', '음향가전', '블루투스셋', '블루투스이어폰/이어셋']"
      ]
     },
     "execution_count": 27,
     "metadata": {},
     "output_type": "execute_result"
    }
   ],
   "source": [
    "#tag.select('.depth a')\n",
    "category_list = [t.text for t in tag.select('.depth a')] # 리스트 컴프리헨션\n",
    "category_list"
   ]
  },
  {
   "cell_type": "code",
   "execution_count": 65,
   "metadata": {},
   "outputs": [
    {
     "data": {
      "text/plain": [
       "{'용도': '통화+음악(스테레오)',\n",
       " '채널': '스테레오',\n",
       " '무선방식': '블루투스(애플W1칩탑재)',\n",
       " '유닛형태': '코드프리',\n",
       " '구성품': '충전케이스포함',\n",
       " '색상': '화이트계열',\n",
       " '품목': '무선이어폰',\n",
       " '음질개선': 'AAC',\n",
       " '부가기능': ['Siri호출(두번터치)',\n",
       "  '빔포밍마이크',\n",
       "  '가속도계센서(동작,음성)',\n",
       "  '광학센서',\n",
       "  '급속충전(15분충전시3시간재생)',\n",
       "  '터치버튼',\n",
       "  '자동전원']}"
      ]
     },
     "execution_count": 65,
     "metadata": {},
     "output_type": "execute_result"
    }
   ],
   "source": [
    "spec_list = []\n",
    "\n",
    "for spec_tag in tag.select('.detail a'):\n",
    "    spec = spec_tag.text\n",
    "    try : \n",
    "        key, value = spec.split(':', 1)\n",
    "        spec_list.append([key.strip(),value.strip()])    \n",
    "    except ValueError:\n",
    "        key, value = spec_list[-1]\n",
    "        if not isinstance(value, list):\n",
    "            value = [value.strip()]\n",
    "        value.append(spec.strip())\n",
    "        spec_list[-1] = [key, value]\n",
    "dict(spec_list)"
   ]
  },
  {
   "cell_type": "code",
   "execution_count": 66,
   "metadata": {},
   "outputs": [
    {
     "data": {
      "text/plain": [
       "'width:96.0%'"
      ]
     },
     "execution_count": 66,
     "metadata": {},
     "output_type": "execute_result"
    }
   ],
   "source": [
    "import re\n",
    "graph_tag = tag.select_one('.graph')\n",
    "star_tag = graph_tag.select_one('.star_graph span')\n",
    "star_tag['style']"
   ]
  },
  {
   "cell_type": "code",
   "execution_count": 70,
   "metadata": {},
   "outputs": [
    {
     "data": {
      "text/plain": [
       "4.8"
      ]
     },
     "execution_count": 70,
     "metadata": {},
     "output_type": "execute_result"
    }
   ],
   "source": [
    "matched = re.match(r'width:([\\d\\.]+)%', star_tag['style'])\n",
    "if matched:\n",
    "    star_score = float(matched.group(1)) * 5/100 # 74.0 : 100 = x : 5else:\n",
    "else:\n",
    "    star_score = None\n",
    "star_score"
   ]
  },
  {
   "cell_type": "code",
   "execution_count": 71,
   "metadata": {},
   "outputs": [
    {
     "data": {
      "text/plain": [
       "11932"
      ]
     },
     "execution_count": 71,
     "metadata": {},
     "output_type": "execute_result"
    }
   ],
   "source": [
    "review_count = int(graph_tag.select_one('em').text.replace(',',''))\n",
    "review_count"
   ]
  },
  {
   "cell_type": "code",
   "execution_count": 76,
   "metadata": {},
   "outputs": [
    {
     "data": {
      "text/plain": [
       "'2016.12.'"
      ]
     },
     "execution_count": 76,
     "metadata": {},
     "output_type": "execute_result"
    }
   ],
   "source": [
    "created_at = tag.select_one('.etc .date').text.replace('등록일', '').strip()\n",
    "created_at"
   ]
  },
  {
   "cell_type": "code",
   "execution_count": 78,
   "metadata": {},
   "outputs": [
    {
     "data": {
      "text/plain": [
       "<a class=\"jjim _jjim\" data-nv-mid=\"10776906666\" href=\"#\"><span></span>찜하기<em class=\"_keepCount\" nvmid=\"10776906666\"></em></a>"
      ]
     },
     "execution_count": 78,
     "metadata": {},
     "output_type": "execute_result"
    }
   ],
   "source": [
    "tag.select_one('.jjim')\n",
    "# 찜하기 확인하기 위해서 네트워크 탭의 XHR을 열어서 keep.nhn을 확인"
   ]
  },
  {
   "cell_type": "code",
   "execution_count": 80,
   "metadata": {},
   "outputs": [],
   "source": [
    "jjim_tag = tag.select_one('.jjim')\n",
    "nv_mid = jjim_tag['data-nv-mid']"
   ]
  },
  {
   "cell_type": "code",
   "execution_count": 82,
   "metadata": {},
   "outputs": [
    {
     "data": {
      "text/plain": [
       "False"
      ]
     },
     "execution_count": 82,
     "metadata": {},
     "output_type": "execute_result"
    }
   ],
   "source": [
    "is_ad = 'ad' in tag['class']\n",
    "is_ad"
   ]
  },
  {
   "cell_type": "markdown",
   "metadata": {},
   "source": [
    "## 모아서 함수로"
   ]
  },
  {
   "cell_type": "code",
   "execution_count": 83,
   "metadata": {},
   "outputs": [
    {
     "ename": "TypeError",
     "evalue": "'NoneType' object is not subscriptable",
     "output_type": "error",
     "traceback": [
      "\u001b[1;31m---------------------------------------------------------------------------\u001b[0m",
      "\u001b[1;31mTypeError\u001b[0m                                 Traceback (most recent call last)",
      "\u001b[1;32m<ipython-input-83-f10f07e61913>\u001b[0m in \u001b[0;36m<module>\u001b[1;34m()\u001b[0m\n\u001b[0;32m     27\u001b[0m     \u001b[0mgraph_tag\u001b[0m \u001b[1;33m=\u001b[0m \u001b[0mtag\u001b[0m\u001b[1;33m.\u001b[0m\u001b[0mselect_one\u001b[0m\u001b[1;33m(\u001b[0m\u001b[1;34m'.graph'\u001b[0m\u001b[1;33m)\u001b[0m\u001b[1;33m\u001b[0m\u001b[0m\n\u001b[0;32m     28\u001b[0m     \u001b[0mstar_tag\u001b[0m \u001b[1;33m=\u001b[0m \u001b[0mgraph_tag\u001b[0m\u001b[1;33m.\u001b[0m\u001b[0mselect_one\u001b[0m\u001b[1;33m(\u001b[0m\u001b[1;34m'.star_graph span'\u001b[0m\u001b[1;33m)\u001b[0m\u001b[1;33m\u001b[0m\u001b[0m\n\u001b[1;32m---> 29\u001b[1;33m     \u001b[0mstar_tag\u001b[0m\u001b[1;33m[\u001b[0m\u001b[1;34m'style'\u001b[0m\u001b[1;33m]\u001b[0m\u001b[1;33m\u001b[0m\u001b[0m\n\u001b[0m\u001b[0;32m     30\u001b[0m     \u001b[0mmatched\u001b[0m \u001b[1;33m=\u001b[0m \u001b[0mre\u001b[0m\u001b[1;33m.\u001b[0m\u001b[0mmatch\u001b[0m\u001b[1;33m(\u001b[0m\u001b[1;34mr'width:([\\d\\.]+)%'\u001b[0m\u001b[1;33m,\u001b[0m \u001b[0mstar_tag\u001b[0m\u001b[1;33m[\u001b[0m\u001b[1;34m'style'\u001b[0m\u001b[1;33m]\u001b[0m\u001b[1;33m)\u001b[0m\u001b[1;33m\u001b[0m\u001b[0m\n\u001b[0;32m     31\u001b[0m     \u001b[1;32mif\u001b[0m \u001b[0mmatched\u001b[0m\u001b[1;33m:\u001b[0m\u001b[1;33m\u001b[0m\u001b[0m\n",
      "\u001b[1;31mTypeError\u001b[0m: 'NoneType' object is not subscriptable"
     ]
    }
   ],
   "source": [
    "goods_list=[]\n",
    "for tag in tag_list:\n",
    "    is_ad = 'ad' in tag['class']\n",
    "    title_tag = tag.select_one('.tit')\n",
    "    goods_url = title_tag['href']\n",
    "    goods_name = title_tag['title']\n",
    "    \n",
    "    goods_img_url = tag.select_one('.img img')['data-original']\n",
    "    goods_price = int(tag.select_one('.price .num').text.replace(',',''))\n",
    "    category_list = [t.text for t in tag.select('.depth a')]\n",
    "\n",
    "    spec_list = []\n",
    "    for spec_tag in tag.select('.detail a'):\n",
    "        spec = spec_tag.text\n",
    "        try : \n",
    "            key, value = spec.split(':', 1)\n",
    "            spec_list.append([key.strip(),value.strip()])    \n",
    "        except ValueError:\n",
    "            key, value = spec_list[-1]\n",
    "            if not isinstance(value, list):\n",
    "                value = [value.strip()]\n",
    "            value.append(spec.strip())\n",
    "            spec_list[-1] = [key, value]\n",
    "            \n",
    "    spec_dict = dict(spec_list)\n",
    "\n",
    "    graph_tag = tag.select_one('.graph') # NoneType' object is not subscriptable로 아래를 if로 묶어줌.\n",
    "    if graph_tag :\n",
    "        star_tag = graph_tag.select_one('.star_graph span')\n",
    "        matched = re.match(r'width:([\\d\\.]+)%', star_tag['style'])\n",
    "        if matched:\n",
    "            star_score = float(matched.group(1)) * 5/100 # 74.0 : 100 = x : 5else:\n",
    "        else : \n",
    "            star_score = None\n",
    "            \n",
    "        review_count = int(graph_tag.select_one('em').text.replace(',',''))\n",
    "    else :\n",
    "        start_score = None\n",
    "        review_count = None\n",
    "\n",
    "    created_at = tag.select_one('.etc .date').text.replace('등록일', '').strip()\n",
    "\n",
    "    jjim_tag = tag.select_one('.jjim')\n",
    "    nv_mid = jjim_tag['data-nv-mid']\n",
    "    \n",
    "    goods_list.append({\n",
    "        'is_ad' : is_ad,\n",
    "        'url' : goods_url,\n",
    "        'name' : goods_name,\n",
    "        'img_url' : goods_img_url,\n",
    "        'price' : goods_price,\n",
    "        'category_list' : category_list,\n",
    "        'spec_dict' : spec_dict,\n",
    "        'star+score' : star_score,\n",
    "        'review_count' : review_count,\n",
    "        'create_at' : created_at,\n",
    "        'nv_mid' : nv_mid        \n",
    "    })\n",
    "goods_list"
   ]
  },
  {
   "cell_type": "code",
   "execution_count": null,
   "metadata": {},
   "outputs": [],
   "source": []
  },
  {
   "cell_type": "code",
   "execution_count": null,
   "metadata": {},
   "outputs": [],
   "source": []
  }
 ],
 "metadata": {
  "kernelspec": {
   "display_name": "Python 3",
   "language": "python",
   "name": "python3"
  },
  "language_info": {
   "codemirror_mode": {
    "name": "ipython",
    "version": 3
   },
   "file_extension": ".py",
   "mimetype": "text/x-python",
   "name": "python",
   "nbconvert_exporter": "python",
   "pygments_lexer": "ipython3",
   "version": "3.7.0"
  },
  "toc": {
   "base_numbering": 1,
   "nav_menu": {},
   "number_sections": true,
   "sideBar": true,
   "skip_h1_title": false,
   "title_cell": "Table of Contents",
   "title_sidebar": "Contents",
   "toc_cell": false,
   "toc_position": {},
   "toc_section_display": true,
   "toc_window_display": false
  },
  "varInspector": {
   "cols": {
    "lenName": 16,
    "lenType": 16,
    "lenVar": 40
   },
   "kernels_config": {
    "python": {
     "delete_cmd_postfix": "",
     "delete_cmd_prefix": "del ",
     "library": "var_list.py",
     "varRefreshCmd": "print(var_dic_list())"
    },
    "r": {
     "delete_cmd_postfix": ") ",
     "delete_cmd_prefix": "rm(",
     "library": "var_list.r",
     "varRefreshCmd": "cat(var_dic_list()) "
    }
   },
   "types_to_exclude": [
    "module",
    "function",
    "builtin_function_or_method",
    "instance",
    "_Feature"
   ],
   "window_display": false
  }
 },
 "nbformat": 4,
 "nbformat_minor": 2
}
