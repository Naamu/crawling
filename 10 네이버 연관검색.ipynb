{
 "cells": [
  {
   "cell_type": "markdown",
   "metadata": {},
   "source": [
    "## 10 네이버 통합검색(연관 검색어, 뉴스, 블로그 카페)"
   ]
  },
  {
   "cell_type": "code",
   "execution_count": 1,
   "metadata": {},
   "outputs": [],
   "source": [
    "import requests\n",
    "from bs4 import BeautifulSoup"
   ]
  },
  {
   "cell_type": "code",
   "execution_count": 35,
   "metadata": {},
   "outputs": [
    {
     "data": {
      "text/plain": [
       "<Response [200]>"
      ]
     },
     "execution_count": 35,
     "metadata": {},
     "output_type": "execute_result"
    }
   ],
   "source": [
    "page_url = \"https://search.naver.com/search.naver\"\n",
    "query = '에어팟'\n",
    "\n",
    "params = {\n",
    "    'sm' : 'top_hty',\n",
    "    'fbm' : 1,\n",
    "    'ie' : 'utf8',\n",
    "    'query' : query\n",
    "}\n",
    "res = requests.get(page_url, params=params)\n",
    "res"
   ]
  },
  {
   "cell_type": "code",
   "execution_count": 36,
   "metadata": {},
   "outputs": [],
   "source": [
    "html = res.text\n",
    "soup = BeautifulSoup(html, 'html.parser')"
   ]
  },
  {
   "cell_type": "markdown",
   "metadata": {},
   "source": [
    "## 연관검색어"
   ]
  },
  {
   "cell_type": "code",
   "execution_count": 24,
   "metadata": {},
   "outputs": [],
   "source": [
    "tag_list = soup.select(\"._related_keyword_ul a\")\n",
    "for tag in tag_list:\n",
    "    url = tag['href']\n",
    "    print(page_url + url)\n",
    "    break"
   ]
  },
  {
   "cell_type": "code",
   "execution_count": 17,
   "metadata": {},
   "outputs": [],
   "source": [
    "from urllib.parse import urljoin"
   ]
  },
  {
   "cell_type": "code",
   "execution_count": 20,
   "metadata": {},
   "outputs": [
    {
     "name": "stdout",
     "output_type": "stream",
     "text": [
      "https://search.naver.com/search.naver?where=nexearch&query=%EC%97%90%EC%96%B4%ED%8C%9F+2%EC%84%B8%EB%8C%80&ie=utf8&sm=tab_she&qdt=0\n"
     ]
    }
   ],
   "source": [
    "tag_list = soup.select(\"._related_keyword_ul a\")\n",
    "for tag in tag_list:\n",
    "    url = urljoin(page_url, tag['href'])\n",
    "    print(url)\n",
    "    break"
   ]
  },
  {
   "cell_type": "code",
   "execution_count": 37,
   "metadata": {
    "collapsed": true
   },
   "outputs": [
    {
     "name": "stdout",
     "output_type": "stream",
     "text": [
      "에어팟 2세대\n",
      "https://search.naver.com/search.naver?where=nexearch&query=%EC%97%90%EC%96%B4%ED%8C%9F+2%EC%84%B8%EB%8C%80&ie=utf8&sm=tab_she&qdt=0\n",
      "\n",
      "에어팟 특가\n",
      "https://search.naver.com/search.naver?where=nexearch&query=%EC%97%90%EC%96%B4%ED%8C%9F+%ED%8A%B9%EA%B0%80&ie=utf8&sm=tab_she&qdt=0\n",
      "\n",
      "에어팟2\n",
      "https://search.naver.com/search.naver?where=nexearch&query=%EC%97%90%EC%96%B4%ED%8C%9F2&ie=utf8&sm=tab_she&qdt=0\n",
      "\n",
      "에어팟 1세대 2세대 차이\n",
      "https://search.naver.com/search.naver?where=nexearch&query=%EC%97%90%EC%96%B4%ED%8C%9F+1%EC%84%B8%EB%8C%80+2%EC%84%B8%EB%8C%80+%EC%B0%A8%EC%9D%B4&ie=utf8&sm=tab_she&qdt=0\n",
      "\n",
      "에어팟 2세대 무선충전\n",
      "https://search.naver.com/search.naver?where=nexearch&query=%EC%97%90%EC%96%B4%ED%8C%9F+2%EC%84%B8%EB%8C%80+%EB%AC%B4%EC%84%A0%EC%B6%A9%EC%A0%84&ie=utf8&sm=tab_she&qdt=0\n",
      "\n",
      "아이팟\n",
      "https://search.naver.com/search.naver?where=nexearch&query=%EC%95%84%EC%9D%B4%ED%8C%9F&ie=utf8&sm=tab_she&qdt=0\n",
      "\n",
      "에어팟 직구\n",
      "https://search.naver.com/search.naver?where=nexearch&query=%EC%97%90%EC%96%B4%ED%8C%9F+%EC%A7%81%EA%B5%AC&ie=utf8&sm=tab_she&qdt=0\n",
      "\n",
      "에어팟 2세대 출시일\n",
      "https://search.naver.com/search.naver?where=nexearch&query=%EC%97%90%EC%96%B4%ED%8C%9F+2%EC%84%B8%EB%8C%80+%EC%B6%9C%EC%8B%9C%EC%9D%BC&ie=utf8&sm=tab_she&qdt=0\n",
      "\n",
      "애플 에어팟\n",
      "https://search.naver.com/search.naver?where=nexearch&query=%EC%95%A0%ED%94%8C+%EC%97%90%EC%96%B4%ED%8C%9F&ie=utf8&sm=tab_she&qdt=0\n",
      "\n",
      "무선이어폰\n",
      "https://search.naver.com/search.naver?where=nexearch&query=%EB%AC%B4%EC%84%A0%EC%9D%B4%EC%96%B4%ED%8F%B0&ie=utf8&sm=tab_she&qdt=0\n",
      "\n"
     ]
    }
   ],
   "source": [
    "tag_list = soup.select(\"._related_keyword_ul a\")\n",
    "for tag in tag_list:\n",
    "    url = urljoin(page_url, tag['href'])\n",
    "    text = tag.text\n",
    "    print(text)\n",
    "    print(url)\n",
    "    print()\n",
    "# 연관검색어를 그림으로 그릴 수 있습니다~    "
   ]
  },
  {
   "cell_type": "markdown",
   "metadata": {},
   "source": [
    "## 뉴스"
   ]
  },
  {
   "cell_type": "code",
   "execution_count": 41,
   "metadata": {},
   "outputs": [
    {
     "data": {
      "text/plain": [
       "8"
      ]
     },
     "execution_count": 41,
     "metadata": {},
     "output_type": "execute_result"
    }
   ],
   "source": [
    "tag_list = soup.select('[id^=sp_nws_all]') #id가 sp_nws_all 로 시작한다면\n",
    "len(tag_list)"
   ]
  },
  {
   "cell_type": "code",
   "execution_count": 42,
   "metadata": {
    "collapsed": true
   },
   "outputs": [
    {
     "name": "stdout",
     "output_type": "stream",
     "text": [
      "sp_nws_all1\n",
      "sp_nws_all1_base\n",
      "sp_nws_all4\n",
      "sp_nws_all4_base\n",
      "sp_nws_all5\n",
      "sp_nws_all5_base\n",
      "sp_nws_all6\n",
      "sp_nws_all6_base\n"
     ]
    }
   ],
   "source": [
    "for tag in tag_list:\n",
    "    print(tag['id']) # 화면에 4개인데 8개 나와서 확인한결과 base가 있음."
   ]
  },
  {
   "cell_type": "code",
   "execution_count": 44,
   "metadata": {},
   "outputs": [
    {
     "data": {
      "text/plain": [
       "4"
      ]
     },
     "execution_count": 44,
     "metadata": {},
     "output_type": "execute_result"
    }
   ],
   "source": [
    "import re\n",
    "tag_list = soup.find_all(id=re.compile(r'^sp_nws_all\\d+$')) #re는 정규표현식 모듈\n",
    "# r'^sp_nws_all\\d+$' ^sp_nws_all로 시작하고 숫자가 1회이상 들어가고 바로 끝나야한다.\n",
    "len(tag_list)"
   ]
  },
  {
   "cell_type": "code",
   "execution_count": 63,
   "metadata": {
    "collapsed": true
   },
   "outputs": [
    {
     "name": "stdout",
     "output_type": "stream",
     "text": [
      "[종합] 애플에어팟 반값 득템…'불금엔 에이치몰' 행사 참여 방법은?\n",
      "https://www.hankyung.com/article/201905101078g\n",
      "현대에이치몰은 이날 행사를 위해 애플 에어팟, BBQ 황금올리브치킨 세트, 골든구스, 폴스부띠끄, 휴도라 빅 휠 킥보드 등을 비롯해 약 30여가지의 물품을 반값에 준비했다. 이벤트에 참여하기 위해서는 네이버에 '불금엔...\n",
      "\n",
      "갤럭시S10 5G, 갤럭시S10E 가격 최대 75% 할인에 이어 LG V50 구매 시 에어팟...\n",
      "http://www.issuemaker.kr/news/articleView.html?idxno=25485\n",
      "닌텐도스위치, 에어팟2세대+삼성무선충전듀오이며 기기변경의 경우 5개월 요금무료 체험, 20만원 상품권+11만원 포인트로페이, PS4, 닌텐도스위치, 에어팟2세대+삼성무선충전듀오이다. 또한 LG V50 모델에 최대 72...\n",
      "\n",
      "'에스폰' 아이폰XR 할인 조건에 아이폰XS, 맥스MAX 에어팟 2세대 사은품 이벤...\n",
      "http://www.issuemaker.kr/news/articleView.html?idxno=25479\n",
      "뿐만 아니라 아이폰XS, XS맥스 구입 시 기기변경, 번호이동 관계없이 에어팟2세대, 트리플 고속충전기 등의 사은품을 증정하면서 아이폰 유저들의 문의가 증가하고 있다. 평균적으로 아이폰 시리즈들은 공시지원금이...\n",
      "\n",
      "\"에어팟 타 가세요\"…효성, ‘우리가 그린 지구’ SNS 이벤트\n",
      "http://www.etoday.co.kr/news/section/newsview.php?idxno=1754148\n",
      "효성의 친환경 아이디어 공모전 ‘2019 효성이 그린 지구’ 게시물을 자신의 SNS 계정에 공유하면 추첨을 통해 에어팟과 커피교환권을 경품으로 제공한다. 효성은 화학 부문의 일산화탄소를 원료로 생산하는 폴리케톤...\n",
      "\n"
     ]
    }
   ],
   "source": [
    "for tag in tag_list:\n",
    "    title_tag = tag.select_one('._sp_each_title')\n",
    "    url = title_tag['href']\n",
    "    title = title_tag.text\n",
    "    des = tag.select('dd')[1].text\n",
    "    print(title)\n",
    "    print(url)\n",
    "    print(des)\n",
    "    print()    "
   ]
  },
  {
   "cell_type": "markdown",
   "metadata": {},
   "source": [
    "## 블로그"
   ]
  },
  {
   "cell_type": "code",
   "execution_count": 66,
   "metadata": {},
   "outputs": [
    {
     "data": {
      "text/plain": [
       "5"
      ]
     },
     "execution_count": 66,
     "metadata": {},
     "output_type": "execute_result"
    }
   ],
   "source": [
    "tag_list = soup.select('.sh_blog_top') # 클래스가 잘 들어가 있음\n",
    "len(tag_list)"
   ]
  },
  {
   "cell_type": "code",
   "execution_count": 68,
   "metadata": {},
   "outputs": [
    {
     "name": "stdout",
     "output_type": "stream",
     "text": [
      "애플 에어팟 2세대 합리적인 큐텐 직구부터 갤럭시 연결...\n",
      "https://blog.naver.com/dogslife78?Redirect=Log&logNo=221534176655\n",
      "선보인 에어팟이 원인이라고 해도 과언이 아닐 것입니다. 사실 맨 처음 1세대를... 애플 에어팟 2세대를 새롭게 선보였습니다. 흔히 줄여 에어팟2라고도 하는 이 제품에...\n",
      "\n",
      "에어팟 2세대 무선충전 사용기\n",
      "https://blog.naver.com/hdgyung?Redirect=Log&logNo=221534285236\n",
      "에어팟을 사게 됐다 사실 처음 에어팟이 출시됐을때만해도 아니 왜 저런걸 저 돈 주고 사? 돈지랑 애플의 마진조아 등등 부정적인 생각만 가득했었다. 그치만 며칠...\n",
      "\n",
      "애플 에어팟 2세대 최저가 직구, 빠르게 도착했어요 >.<\n",
      "https://blog.naver.com/nas6249?Redirect=Log&logNo=221534334950\n",
      "애플 에어팟 2세대 최저가 직구, 빠르게 도착했어요 >.< 캬~~~ 너무 신이가 나서 쓰는... 잊고 있던 애플 에어팟 2세대 직구 한 것이 드디어 도착한 것 ㅋㅋㅋㅋㅋㅋㅋ 제가...\n",
      "\n",
      "에어팟 2세대 직구 무선충전 할인받고 사는법(큐텐직구)\n",
      "https://wintergreens.blog.me/221533474416\n",
      "에어팟1을 출시 직후에 사서 바로 사용했었는데요. 쓸때마다 은근히 불편한게 많이 있었어요. 아무래도 에어팟 1세대의 경우에는 이어폰 관련 칩이 아닌 애플 워치...\n",
      "\n",
      "에어팟 2세대 개봉기와 1세대와 차이점 비교, iOS12.2...\n",
      "https://blog.naver.com/moimoi1357?Redirect=Log&logNo=221507673944\n",
      "이번에 새롭게 출시되어 아직 국내에서 구입할 수 없는 에어팟 2세대를 선물로... 하지만 이번 에어팟 2세대는 외형이나 기능적으로도 크게 달라졌다고 하기에는...\n",
      "\n"
     ]
    }
   ],
   "source": [
    "for tag in tag_list:\n",
    "    title_tag = tag.select_one('.sh_blog_title')\n",
    "    des_tag = tag.select_one('.sh_blog_passage')\n",
    "    url = title_tag['href']\n",
    "    text = title_tag.text\n",
    "    desc = des_tag.text\n",
    "    print(text)\n",
    "    print(url)\n",
    "    print(desc)\n",
    "    print()"
   ]
  },
  {
   "cell_type": "code",
   "execution_count": 71,
   "metadata": {},
   "outputs": [
    {
     "data": {
      "text/plain": [
       "3"
      ]
     },
     "execution_count": 71,
     "metadata": {},
     "output_type": "execute_result"
    }
   ],
   "source": [
    "tag = tag_list[0]\n",
    "len(tag.select('.txt_block a'))"
   ]
  },
  {
   "cell_type": "code",
   "execution_count": 73,
   "metadata": {},
   "outputs": [],
   "source": [
    "blog_home_tag, post_tag, search_tag = tag.select('.txt_block a')"
   ]
  },
  {
   "cell_type": "code",
   "execution_count": 77,
   "metadata": {},
   "outputs": [
    {
     "data": {
      "text/plain": [
       "('https://blog.naver.com/dogslife78', '노숙페이스')"
      ]
     },
     "execution_count": 77,
     "metadata": {},
     "output_type": "execute_result"
    }
   ],
   "source": [
    "blog_home_tag['href'],blog_home_tag.text"
   ]
  },
  {
   "cell_type": "code",
   "execution_count": 78,
   "metadata": {},
   "outputs": [],
   "source": [
    "blog_home_tag = tag.select_one('.txt_block a')"
   ]
  },
  {
   "cell_type": "code",
   "execution_count": 79,
   "metadata": {},
   "outputs": [
    {
     "data": {
      "text/plain": [
       "('https://blog.naver.com/dogslife78', '노숙페이스')"
      ]
     },
     "execution_count": 79,
     "metadata": {},
     "output_type": "execute_result"
    }
   ],
   "source": [
    "blog_home_tag['href'],blog_home_tag.text"
   ]
  },
  {
   "cell_type": "code",
   "execution_count": 83,
   "metadata": {
    "collapsed": true
   },
   "outputs": [
    {
     "name": "stdout",
     "output_type": "stream",
     "text": [
      "애플 에어팟 2세대 합리적인 큐텐 직구부터 갤럭시 연결...\n",
      "https://blog.naver.com/dogslife78?Redirect=Log&logNo=221534176655\n",
      "선보인 에어팟이 원인이라고 해도 과언이 아닐 것입니다. 사실 맨 처음 1세대를... 애플 에어팟 2세대를 새롭게 선보였습니다. 흔히 줄여 에어팟2라고도 하는 이 제품에...\n",
      ">>> 노숙페이스 https://blog.naver.com/dogslife78\n",
      "\n",
      "에어팟 2세대 무선충전 사용기\n",
      "https://blog.naver.com/hdgyung?Redirect=Log&logNo=221534285236\n",
      "에어팟을 사게 됐다 사실 처음 에어팟이 출시됐을때만해도 아니 왜 저런걸 저 돈 주고 사? 돈지랑 애플의 마진조아 등등 부정적인 생각만 가득했었다. 그치만 며칠...\n",
      ">>> 체어러스- 소란스런... https://blog.naver.com/hdgyung\n",
      "\n",
      "애플 에어팟 2세대 최저가 직구, 빠르게 도착했어요 >.<\n",
      "https://blog.naver.com/nas6249?Redirect=Log&logNo=221534334950\n",
      "애플 에어팟 2세대 최저가 직구, 빠르게 도착했어요 >.< 캬~~~ 너무 신이가 나서 쓰는... 잊고 있던 애플 에어팟 2세대 직구 한 것이 드디어 도착한 것 ㅋㅋㅋㅋㅋㅋㅋ 제가...\n",
      ">>> 부산블로거 뷰스타 ... https://blog.naver.com/nas6249\n",
      "\n",
      "에어팟 2세대 직구 무선충전 할인받고 사는법(큐텐직구)\n",
      "https://wintergreens.blog.me/221533474416\n",
      "에어팟1을 출시 직후에 사서 바로 사용했었는데요. 쓸때마다 은근히 불편한게 많이 있었어요. 아무래도 에어팟 1세대의 경우에는 이어폰 관련 칩이 아닌 애플 워치...\n",
      ">>> アマランス。 https://wintergreens.blog.me\n",
      "\n",
      "에어팟 2세대 개봉기와 1세대와 차이점 비교, iOS12.2...\n",
      "https://blog.naver.com/moimoi1357?Redirect=Log&logNo=221507673944\n",
      "이번에 새롭게 출시되어 아직 국내에서 구입할 수 없는 에어팟 2세대를 선물로... 하지만 이번 에어팟 2세대는 외형이나 기능적으로도 크게 달라졌다고 하기에는...\n",
      ">>> 모이모이의 IT 이야... https://blog.naver.com/moimoi1357\n",
      "\n"
     ]
    }
   ],
   "source": [
    "for tag in tag_list:\n",
    "    title_tag = tag.select_one('.sh_blog_title')\n",
    "    des_tag = tag.select_one('.sh_blog_passage')\n",
    "    blog_home_tag = tag.select_one('.txt_block a')\n",
    "    \n",
    "    url = title_tag['href']    \n",
    "    text = title_tag.text\n",
    "    desc = des_tag.text\n",
    "    blog_home = blog_home_tag['href']\n",
    "    blog_text = blog_home_tag.text\n",
    "    print(text)\n",
    "    print(url)\n",
    "    print(desc)\n",
    "    print('>>>',blog_text, blog_home)\n",
    "    print()"
   ]
  },
  {
   "cell_type": "code",
   "execution_count": null,
   "metadata": {},
   "outputs": [],
   "source": []
  },
  {
   "cell_type": "code",
   "execution_count": null,
   "metadata": {},
   "outputs": [],
   "source": []
  },
  {
   "cell_type": "code",
   "execution_count": null,
   "metadata": {},
   "outputs": [],
   "source": []
  }
 ],
 "metadata": {
  "kernelspec": {
   "display_name": "Python 3",
   "language": "python",
   "name": "python3"
  },
  "language_info": {
   "codemirror_mode": {
    "name": "ipython",
    "version": 3
   },
   "file_extension": ".py",
   "mimetype": "text/x-python",
   "name": "python",
   "nbconvert_exporter": "python",
   "pygments_lexer": "ipython3",
   "version": "3.7.0"
  },
  "toc": {
   "base_numbering": 1,
   "nav_menu": {},
   "number_sections": true,
   "sideBar": true,
   "skip_h1_title": false,
   "title_cell": "Table of Contents",
   "title_sidebar": "Contents",
   "toc_cell": false,
   "toc_position": {},
   "toc_section_display": true,
   "toc_window_display": false
  },
  "varInspector": {
   "cols": {
    "lenName": 16,
    "lenType": 16,
    "lenVar": 40
   },
   "kernels_config": {
    "python": {
     "delete_cmd_postfix": "",
     "delete_cmd_prefix": "del ",
     "library": "var_list.py",
     "varRefreshCmd": "print(var_dic_list())"
    },
    "r": {
     "delete_cmd_postfix": ") ",
     "delete_cmd_prefix": "rm(",
     "library": "var_list.r",
     "varRefreshCmd": "cat(var_dic_list()) "
    }
   },
   "types_to_exclude": [
    "module",
    "function",
    "builtin_function_or_method",
    "instance",
    "_Feature"
   ],
   "window_display": false
  }
 },
 "nbformat": 4,
 "nbformat_minor": 2
}
