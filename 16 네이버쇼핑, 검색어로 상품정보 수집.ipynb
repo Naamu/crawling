{
 "cells": [
  {
   "cell_type": "code",
   "execution_count": 1,
   "metadata": {},
   "outputs": [],
   "source": [
    "import requests\n",
    "from bs4 import BeautifulSoup"
   ]
  },
  {
   "cell_type": "code",
   "execution_count": 3,
   "metadata": {},
   "outputs": [
    {
     "data": {
      "text/plain": [
       "['query=%EC%97%90%EC%96%B4%ED%8C%9F', 'cat_id=', 'frm=NVSHATC']"
      ]
     },
     "execution_count": 3,
     "metadata": {},
     "output_type": "execute_result"
    }
   ],
   "source": [
    "page_url = 'https://search.shopping.naver.com/search/all.nhn'\n",
    "params = 'query=%EC%97%90%EC%96%B4%ED%8C%9F&cat_id=&frm=NVSHATC'\n",
    "params.split('&')"
   ]
  },
  {
   "cell_type": "code",
   "execution_count": 4,
   "metadata": {},
   "outputs": [
    {
     "data": {
      "text/plain": [
       "b'\\xec\\x97\\x90\\xec\\x96\\xb4\\xed\\x8c\\x9f'"
      ]
     },
     "execution_count": 4,
     "metadata": {},
     "output_type": "execute_result"
    }
   ],
   "source": [
    "'에어팟'.encode('utf8')"
   ]
  },
  {
   "cell_type": "code",
   "execution_count": 5,
   "metadata": {},
   "outputs": [
    {
     "data": {
      "text/plain": [
       "<Response [200]>"
      ]
     },
     "execution_count": 5,
     "metadata": {},
     "output_type": "execute_result"
    }
   ],
   "source": [
    "page_url = 'https://search.shopping.naver.com/search/all.nhn'\n",
    "# 지워보니 cat_id와 frm도 필요없더라..\n",
    "\n",
    "params = {\n",
    "    'query' : '에어팟'\n",
    "}\n",
    "res = requests.get(page_url, params=params)\n",
    "res\n"
   ]
  },
  {
   "cell_type": "code",
   "execution_count": 6,
   "metadata": {},
   "outputs": [],
   "source": [
    "html = res.text\n",
    "soup = BeautifulSoup(html, 'html.parser')"
   ]
  },
  {
   "cell_type": "code",
   "execution_count": 9,
   "metadata": {},
   "outputs": [
    {
     "data": {
      "text/plain": [
       "40"
      ]
     },
     "execution_count": 9,
     "metadata": {},
     "output_type": "execute_result"
    }
   ],
   "source": [
    "tag_list = soup.select('.goods_list ._itemSection')\n",
    "len(tag_list)"
   ]
  },
  {
   "cell_type": "code",
   "execution_count": 10,
   "metadata": {},
   "outputs": [],
   "source": [
    "tag=tag_list[0]"
   ]
  },
  {
   "cell_type": "code",
   "execution_count": 15,
   "metadata": {},
   "outputs": [
    {
     "data": {
      "text/plain": [
       "('http://cr2.shopping.naver.com/adcr.nhn?x=laZEGW%2BtWgOSR6SSnbG4c%2F%2F%2F%2Fw%3D%3DsiEky1DWIRp9RPCm8ky0MMhK519%2FYQpLyuzJwjI0lwM%2FwMHFVfyRR41kkqop4BBe7b8mPFshxxZjUZilPFxJ49LOzWylEKLxqT9tnjLp1ZU9v5vPmSTHMhkGjhp5a56X4H%2Ba899jq4vPrE%2FGLlLG4%2FEZVgIO42F1ZaXskE4po%2F46fokx%2Bl4FoGy1QI9MhYsm97ezzdZ5SmNRKo6EhCioDiHib%2FRhqgYr9wnO%2FynfKSkAY3VoGsDE1XT1S6%2BOsYQTY%2BHjcviF3tCdK3HNpy49BDe8UEBRSWcEZo8%2BvK9eep8YAlHlfLvZE7oHvTvHgz2fijoOGrgwaFoZ%2B%2FQd5RATpAH0uxbhGCKlU8oD%2FYg3hwAniaaJza9DyXc4%2B890sFMHn3BTNc1ou8z07L6rEizbO%2BexhKqqqXKolPp7yRuyM%2B8sWG5xH%2BMDbHiNNiHNZeSlzRCmbo9tv%2Flwtg6f%2BJDJpivGNqpKCAAb85PIlxyhmhd5rPVzI8i4BESS239iSmFOWt5SQ7h9NlJklPiIKyYWpqZg7V7k688qcc3DL6Tr6EA5flfkORtuLbnKw6P2b3CvjwS2WtbSXzYjLNwsTUnaO6iSM7mfoYBKC6ortqtTwHymWQUZa3Xmw4kclqHoMSwVEf6V6dWNLrR48RgpR6lUzeAz8in5VLtp6p%2F8exCeAYHhOAF5ksHaPhHo2JPalOVV7Ax3vTX3vA2N5iwtHqwkD6A%3D%3D',\n",
       " '애플 에어팟 1세대 (MMEF2KH/A)')"
      ]
     },
     "execution_count": 15,
     "metadata": {},
     "output_type": "execute_result"
    }
   ],
   "source": [
    "title_tag = tag.select_one('.tit')\n",
    "goods_url = title_tag['href']\n",
    "goods_name = title_tag['title']\n",
    "goods_url, goods_name"
   ]
  },
  {
   "cell_type": "code",
   "execution_count": 16,
   "metadata": {},
   "outputs": [
    {
     "data": {
      "text/plain": [
       "<img alt=\"애플 에어팟 1세대 (MMEF2KH/A)\" class=\"_productLazyImg\" data-original=\"https://shopping-phinf.pstatic.net/main_1077690/10776906666.20161214174829.jpg?type=f140\" height=\"140\" src=\"https://ssl.pstatic.net/imgshopping/static/pc2014/img/search/p_120_v1.png\" width=\"140\"/>"
      ]
     },
     "execution_count": 16,
     "metadata": {},
     "output_type": "execute_result"
    }
   ],
   "source": [
    "# scr 확인해보면 '이미지 준비중' 으로 나온다. 자바스크립트로 오리지널에 있는 주소로 변경하는 것 같다. src로 하면 안된다!!\n",
    "tag.select_one('.img img')"
   ]
  },
  {
   "cell_type": "code",
   "execution_count": 22,
   "metadata": {},
   "outputs": [
    {
     "data": {
      "text/plain": [
       "'https://shopping-phinf.pstatic.net/main_1077690/10776906666.20161214174829.jpg?type=f140'"
      ]
     },
     "execution_count": 22,
     "metadata": {},
     "output_type": "execute_result"
    }
   ],
   "source": [
    "goods_img_url = tag.select_one('.img img')['data-original']\n",
    "goods_img_url"
   ]
  },
  {
   "cell_type": "code",
   "execution_count": 23,
   "metadata": {},
   "outputs": [
    {
     "data": {
      "text/plain": [
       "214310"
      ]
     },
     "execution_count": 23,
     "metadata": {},
     "output_type": "execute_result"
    }
   ],
   "source": [
    "goods_price = int(tag.select_one('.price .num').text.replace(',',''))\n",
    "goods_price"
   ]
  },
  {
   "cell_type": "code",
   "execution_count": 27,
   "metadata": {},
   "outputs": [
    {
     "data": {
      "text/plain": [
       "['디지털/가전', '음향가전', '블루투스셋', '블루투스이어폰/이어셋']"
      ]
     },
     "execution_count": 27,
     "metadata": {},
     "output_type": "execute_result"
    }
   ],
   "source": [
    "#tag.select('.depth a')\n",
    "category_list = [t.text for t in tag.select('.depth a')] # 리스트 컴프리헨션\n",
    "category_list"
   ]
  },
  {
   "cell_type": "code",
   "execution_count": 65,
   "metadata": {},
   "outputs": [
    {
     "data": {
      "text/plain": [
       "{'용도': '통화+음악(스테레오)',\n",
       " '채널': '스테레오',\n",
       " '무선방식': '블루투스(애플W1칩탑재)',\n",
       " '유닛형태': '코드프리',\n",
       " '구성품': '충전케이스포함',\n",
       " '색상': '화이트계열',\n",
       " '품목': '무선이어폰',\n",
       " '음질개선': 'AAC',\n",
       " '부가기능': ['Siri호출(두번터치)',\n",
       "  '빔포밍마이크',\n",
       "  '가속도계센서(동작,음성)',\n",
       "  '광학센서',\n",
       "  '급속충전(15분충전시3시간재생)',\n",
       "  '터치버튼',\n",
       "  '자동전원']}"
      ]
     },
     "execution_count": 65,
     "metadata": {},
     "output_type": "execute_result"
    }
   ],
   "source": [
    "spec_list = []\n",
    "\n",
    "for spec_tag in tag.select('.detail a'):\n",
    "    spec = spec_tag.text\n",
    "    try : \n",
    "        key, value = spec.split(':', 1)\n",
    "        spec_list.append([key.strip(),value.strip()])    \n",
    "    except ValueError:\n",
    "        key, value = spec_list[-1]\n",
    "        if not isinstance(value, list):\n",
    "            value = [value.strip()]\n",
    "        value.append(spec.strip())\n",
    "        spec_list[-1] = [key, value]\n",
    "dict(spec_list)"
   ]
  },
  {
   "cell_type": "code",
   "execution_count": 66,
   "metadata": {},
   "outputs": [
    {
     "data": {
      "text/plain": [
       "'width:96.0%'"
      ]
     },
     "execution_count": 66,
     "metadata": {},
     "output_type": "execute_result"
    }
   ],
   "source": [
    "import re\n",
    "graph_tag = tag.select_one('.graph')\n",
    "star_tag = graph_tag.select_one('.star_graph span')\n",
    "star_tag['style']"
   ]
  },
  {
   "cell_type": "code",
   "execution_count": 70,
   "metadata": {},
   "outputs": [
    {
     "data": {
      "text/plain": [
       "4.8"
      ]
     },
     "execution_count": 70,
     "metadata": {},
     "output_type": "execute_result"
    }
   ],
   "source": [
    "matched = re.match(r'width:([\\d\\.]+)%', star_tag['style'])\n",
    "if matched:\n",
    "    star_score = float(matched.group(1)) * 5/100 # 74.0 : 100 = x : 5else:\n",
    "else:\n",
    "    star_score = None\n",
    "star_score"
   ]
  },
  {
   "cell_type": "code",
   "execution_count": 71,
   "metadata": {},
   "outputs": [
    {
     "data": {
      "text/plain": [
       "11932"
      ]
     },
     "execution_count": 71,
     "metadata": {},
     "output_type": "execute_result"
    }
   ],
   "source": [
    "review_count = int(graph_tag.select_one('em').text.replace(',',''))\n",
    "review_count"
   ]
  },
  {
   "cell_type": "code",
   "execution_count": 76,
   "metadata": {},
   "outputs": [
    {
     "data": {
      "text/plain": [
       "'2016.12.'"
      ]
     },
     "execution_count": 76,
     "metadata": {},
     "output_type": "execute_result"
    }
   ],
   "source": [
    "created_at = tag.select_one('.etc .date').text.replace('등록일', '').strip()\n",
    "created_at"
   ]
  },
  {
   "cell_type": "code",
   "execution_count": 78,
   "metadata": {},
   "outputs": [
    {
     "data": {
      "text/plain": [
       "<a class=\"jjim _jjim\" data-nv-mid=\"10776906666\" href=\"#\"><span></span>찜하기<em class=\"_keepCount\" nvmid=\"10776906666\"></em></a>"
      ]
     },
     "execution_count": 78,
     "metadata": {},
     "output_type": "execute_result"
    }
   ],
   "source": [
    "tag.select_one('.jjim')\n",
    "# 찜하기 확인하기 위해서 네트워크 탭의 XHR을 열어서 keep.nhn을 확인"
   ]
  },
  {
   "cell_type": "code",
   "execution_count": 80,
   "metadata": {},
   "outputs": [],
   "source": [
    "jjim_tag = tag.select_one('.jjim')\n",
    "nv_mid = jjim_tag['data-nv-mid']"
   ]
  },
  {
   "cell_type": "code",
   "execution_count": 82,
   "metadata": {},
   "outputs": [
    {
     "data": {
      "text/plain": [
       "False"
      ]
     },
     "execution_count": 82,
     "metadata": {},
     "output_type": "execute_result"
    }
   ],
   "source": [
    "is_ad = 'ad' in tag['class']\n",
    "is_ad"
   ]
  },
  {
   "cell_type": "markdown",
   "metadata": {},
   "source": [
    "## 모아서 함수로"
   ]
  },
  {
   "cell_type": "code",
   "execution_count": 89,
   "metadata": {},
   "outputs": [
    {
     "data": {
      "text/plain": [
       "{'is_ad': False,\n",
       " 'url': 'http://cr2.shopping.naver.com/adcr.nhn?x=laZEGW%2BtWgOSR6SSnbG4c%2F%2F%2F%2Fw%3D%3DsiEky1DWIRp9RPCm8ky0MMhK519%2FYQpLyuzJwjI0lwM%2FwMHFVfyRR41kkqop4BBe7b8mPFshxxZjUZilPFxJ49LOzWylEKLxqT9tnjLp1ZU9v5vPmSTHMhkGjhp5a56X4H%2Ba899jq4vPrE%2FGLlLG4%2FEZVgIO42F1ZaXskE4po%2F46fokx%2Bl4FoGy1QI9MhYsm97ezzdZ5SmNRKo6EhCioDiHib%2FRhqgYr9wnO%2FynfKSkAY3VoGsDE1XT1S6%2BOsYQTY%2BHjcviF3tCdK3HNpy49BDe8UEBRSWcEZo8%2BvK9eep8YAlHlfLvZE7oHvTvHgz2fijoOGrgwaFoZ%2B%2FQd5RATpAH0uxbhGCKlU8oD%2FYg3hwAniaaJza9DyXc4%2B890sFMHn3BTNc1ou8z07L6rEizbO%2BexhKqqqXKolPp7yRuyM%2B8sWG5xH%2BMDbHiNNiHNZeSlzRCmbo9tv%2Flwtg6f%2BJDJpivGNqpKCAAb85PIlxyhmhd5rPVzI8i4BESS239iSmFOWt5SQ7h9NlJklPiIKyYWpqZg7V7k688qcc3DL6Tr6EA5flfkORtuLbnKw6P2b3CvjwS2WtbSXzYjLNwsTUnaO6iSM7mfoYBKC6ortqtTwHymWQUZa3Xmw4kclqHoMSwVEf6V6dWNLrR48RgpR6lUzeAz8in5VLtp6p%2F8exCeAYHhOAF5ksHaPhHo2JPalOVV7Ax3vTX3vA2N5iwtHqwkD6A%3D%3D',\n",
       " 'name': '애플 에어팟 1세대 (MMEF2KH/A)',\n",
       " 'img_url': 'https://shopping-phinf.pstatic.net/main_1077690/10776906666.20161214174829.jpg?type=f140',\n",
       " 'price': 214310,\n",
       " 'category_list': ['디지털/가전', '음향가전', '블루투스셋', '블루투스이어폰/이어셋'],\n",
       " 'spec_dict': {'용도': '통화+음악(스테레오)',\n",
       "  '채널': '스테레오',\n",
       "  '무선방식': '블루투스(애플W1칩탑재)',\n",
       "  '유닛형태': '코드프리',\n",
       "  '구성품': '충전케이스포함',\n",
       "  '색상': '화이트계열',\n",
       "  '품목': '무선이어폰',\n",
       "  '음질개선': 'AAC',\n",
       "  '부가기능': ['Siri호출(두번터치)',\n",
       "   '빔포밍마이크',\n",
       "   '가속도계센서(동작,음성)',\n",
       "   '광학센서',\n",
       "   '급속충전(15분충전시3시간재생)',\n",
       "   '터치버튼',\n",
       "   '자동전원']},\n",
       " 'star+score': 4.8,\n",
       " 'review_count': 11932,\n",
       " 'create_at': '2016.12.',\n",
       " 'nv_mid': '10776906666'}"
      ]
     },
     "execution_count": 89,
     "metadata": {},
     "output_type": "execute_result"
    }
   ],
   "source": [
    "goods_list=[]\n",
    "for tag in tag_list:\n",
    "    is_ad = 'ad' in tag['class']\n",
    "    title_tag = tag.select_one('.tit')\n",
    "    goods_url = title_tag['href']\n",
    "    \n",
    "    goods_name = title_tag.text.strip()\n",
    "    \n",
    "    goods_img_url = tag.select_one('.img img')['data-original']\n",
    "    goods_price = int(tag.select_one('.price .num').text.replace(',',''))\n",
    "    category_list = [t.text for t in tag.select('.depth a')]\n",
    "\n",
    "    spec_list = []\n",
    "    for spec_tag in tag.select('.detail a'):\n",
    "        spec = spec_tag.text\n",
    "        try : \n",
    "            key, value = spec.split(':', 1)\n",
    "            spec_list.append([key.strip(),value.strip()])    \n",
    "        except ValueError:\n",
    "            key, value = spec_list[-1]\n",
    "            if not isinstance(value, list):\n",
    "                value = [value.strip()]\n",
    "            value.append(spec.strip())\n",
    "            spec_list[-1] = [key, value]\n",
    "            \n",
    "    spec_dict = dict(spec_list)\n",
    "\n",
    "    graph_tag = tag.select_one('.graph') # NoneType' object is not subscriptable로 아래를 if로 묶어줌.\n",
    "    if graph_tag :\n",
    "        star_tag = graph_tag.select_one('.star_graph span')\n",
    "        if star_tag:\n",
    "            matched = re.match(r'width:([\\d\\.]+)%', star_tag['style'])\n",
    "            if matched:\n",
    "                star_score = float(matched.group(1)) * 5/100 \n",
    "            else : \n",
    "                star_score = None\n",
    "        else:\n",
    "            star_score = None\n",
    "            \n",
    "        review_count = int(graph_tag.select_one('em').text.replace(',',''))\n",
    "    else :\n",
    "        start_score = None\n",
    "        review_count = None\n",
    "    \n",
    "    try : \n",
    "        created_at = tag.select_one('.etc .date').text.replace('등록일', '').strip()\n",
    "    except AttributeError:\n",
    "        created_at = None\n",
    "\n",
    "    jjim_tag = tag.select_one('.jjim')\n",
    "    nv_mid = jjim_tag['data-nv-mid']\n",
    "    \n",
    "    goods_list.append({\n",
    "        'is_ad' : is_ad,\n",
    "        'url' : goods_url,\n",
    "        'name' : goods_name,\n",
    "        'img_url' : goods_img_url,\n",
    "        'price' : goods_price,\n",
    "        'category_list' : category_list,\n",
    "        'spec_dict' : spec_dict,\n",
    "        'star+score' : star_score,\n",
    "        'review_count' : review_count,\n",
    "        'create_at' : created_at,\n",
    "        'nv_mid' : nv_mid        \n",
    "    })\n",
    "goods_list[0]"
   ]
  },
  {
   "cell_type": "code",
   "execution_count": 90,
   "metadata": {},
   "outputs": [],
   "source": [
    "import pandas as pd"
   ]
  },
  {
   "cell_type": "code",
   "execution_count": 94,
   "metadata": {
    "scrolled": true
   },
   "outputs": [
    {
     "name": "stdout",
     "output_type": "stream",
     "text": [
      "(40, 11)\n"
     ]
    },
    {
     "data": {
      "text/html": [
       "<div>\n",
       "<style scoped>\n",
       "    .dataframe tbody tr th:only-of-type {\n",
       "        vertical-align: middle;\n",
       "    }\n",
       "\n",
       "    .dataframe tbody tr th {\n",
       "        vertical-align: top;\n",
       "    }\n",
       "\n",
       "    .dataframe thead th {\n",
       "        text-align: right;\n",
       "    }\n",
       "</style>\n",
       "<table border=\"1\" class=\"dataframe\">\n",
       "  <thead>\n",
       "    <tr style=\"text-align: right;\">\n",
       "      <th></th>\n",
       "      <th>category_list</th>\n",
       "      <th>create_at</th>\n",
       "      <th>img_url</th>\n",
       "      <th>is_ad</th>\n",
       "      <th>name</th>\n",
       "      <th>nv_mid</th>\n",
       "      <th>price</th>\n",
       "      <th>review_count</th>\n",
       "      <th>spec_dict</th>\n",
       "      <th>star+score</th>\n",
       "      <th>url</th>\n",
       "    </tr>\n",
       "  </thead>\n",
       "  <tbody>\n",
       "    <tr>\n",
       "      <th>0</th>\n",
       "      <td>[디지털/가전, 음향가전, 블루투스셋, 블루투스이어폰/이어셋]</td>\n",
       "      <td>2016.12.</td>\n",
       "      <td>https://shopping-phinf.pstatic.net/main_107769...</td>\n",
       "      <td>False</td>\n",
       "      <td>애플 에어팟 1세대 (MMEF2KH/A)</td>\n",
       "      <td>10776906666</td>\n",
       "      <td>214310</td>\n",
       "      <td>11932.0</td>\n",
       "      <td>{'용도': '통화+음악(스테레오)', '채널': '스테레오', '무선방식': '블...</td>\n",
       "      <td>4.8</td>\n",
       "      <td>http://cr2.shopping.naver.com/adcr.nhn?x=laZEG...</td>\n",
       "    </tr>\n",
       "    <tr>\n",
       "      <th>1</th>\n",
       "      <td>[디지털/가전, 음향가전, 블루투스셋, 블루투스이어폰/이어셋]</td>\n",
       "      <td>2019.04.</td>\n",
       "      <td>https://shopping-phinf.pstatic.net/main_186220...</td>\n",
       "      <td>False</td>\n",
       "      <td>애플 에어팟 2세대 유선충전 (MV7N2KH/A)</td>\n",
       "      <td>18622086330</td>\n",
       "      <td>209000</td>\n",
       "      <td>151.0</td>\n",
       "      <td>{'종류': '이어셋', '용도': '통화+음악(스테레오)', '유닛형태': '코드...</td>\n",
       "      <td>4.8</td>\n",
       "      <td>http://cr2.shopping.naver.com/adcr.nhn?x=m8WjU...</td>\n",
       "    </tr>\n",
       "    <tr>\n",
       "      <th>2</th>\n",
       "      <td>[디지털/가전, 음향가전, 블루투스셋, 블루투스이어폰/이어셋]</td>\n",
       "      <td>2019.04.</td>\n",
       "      <td>https://shopping-phinf.pstatic.net/main_184837...</td>\n",
       "      <td>False</td>\n",
       "      <td>해외애플 에어팟 2세대 무선충전</td>\n",
       "      <td>18483728924</td>\n",
       "      <td>235320</td>\n",
       "      <td>108.0</td>\n",
       "      <td>{'종류': '이어셋', '용도': '통화+음악감상겸용', '무선방식': '블루투스'}</td>\n",
       "      <td>4.9</td>\n",
       "      <td>http://cr2.shopping.naver.com/adcr.nhn?x=xGh%2...</td>\n",
       "    </tr>\n",
       "  </tbody>\n",
       "</table>\n",
       "</div>"
      ],
      "text/plain": [
       "                        category_list create_at  \\\n",
       "0  [디지털/가전, 음향가전, 블루투스셋, 블루투스이어폰/이어셋]  2016.12.   \n",
       "1  [디지털/가전, 음향가전, 블루투스셋, 블루투스이어폰/이어셋]  2019.04.   \n",
       "2  [디지털/가전, 음향가전, 블루투스셋, 블루투스이어폰/이어셋]  2019.04.   \n",
       "\n",
       "                                             img_url  is_ad  \\\n",
       "0  https://shopping-phinf.pstatic.net/main_107769...  False   \n",
       "1  https://shopping-phinf.pstatic.net/main_186220...  False   \n",
       "2  https://shopping-phinf.pstatic.net/main_184837...  False   \n",
       "\n",
       "                          name       nv_mid   price  review_count  \\\n",
       "0       애플 에어팟 1세대 (MMEF2KH/A)  10776906666  214310       11932.0   \n",
       "1  애플 에어팟 2세대 유선충전 (MV7N2KH/A)  18622086330  209000         151.0   \n",
       "2            해외애플 에어팟 2세대 무선충전  18483728924  235320         108.0   \n",
       "\n",
       "                                           spec_dict  star+score  \\\n",
       "0  {'용도': '통화+음악(스테레오)', '채널': '스테레오', '무선방식': '블...         4.8   \n",
       "1  {'종류': '이어셋', '용도': '통화+음악(스테레오)', '유닛형태': '코드...         4.8   \n",
       "2   {'종류': '이어셋', '용도': '통화+음악감상겸용', '무선방식': '블루투스'}         4.9   \n",
       "\n",
       "                                                 url  \n",
       "0  http://cr2.shopping.naver.com/adcr.nhn?x=laZEG...  \n",
       "1  http://cr2.shopping.naver.com/adcr.nhn?x=m8WjU...  \n",
       "2  http://cr2.shopping.naver.com/adcr.nhn?x=xGh%2...  "
      ]
     },
     "execution_count": 94,
     "metadata": {},
     "output_type": "execute_result"
    }
   ],
   "source": [
    "df= pd.DataFrame(goods_list)\n",
    "print(df.shape)\n",
    "df.head(3)"
   ]
  },
  {
   "cell_type": "code",
   "execution_count": 96,
   "metadata": {},
   "outputs": [
    {
     "data": {
      "text/plain": [
       "'10776906666,18622086330,18483728924,18754856889,81919971590,18428627338,18344345265,81946053258,17060334679,81958588252,12654509207,81786680577,17011209371,81934833520,13838748967,81765026705,18735689119,81919971590,80628902191,81996763612,18740571933,81988008453,18367305169,16341587630,82005912375,18899954783,16950823115,81736134795,16611371198,18607171841,16963250393,18146893827,18314856361,18711537902,18802429798,18845425918,15121518343,18679867694,14176537731,18429947106'"
      ]
     },
     "execution_count": 96,
     "metadata": {},
     "output_type": "execute_result"
    }
   ],
   "source": [
    "','.join(df['nv_mid'])"
   ]
  },
  {
   "cell_type": "code",
   "execution_count": 101,
   "metadata": {},
   "outputs": [
    {
     "data": {
      "text/plain": [
       "<Response [200]>"
      ]
     },
     "execution_count": 101,
     "metadata": {},
     "output_type": "execute_result"
    }
   ],
   "source": [
    "keep_url = 'https://search.shopping.naver.com/search/ajax/keep.nhn'\n",
    "data = {\n",
    "    'nvMid' : ','.join(df['nv_mid']),\n",
    "    'serviceCode' : 'SHOPPING',\n",
    "}\n",
    "res = requests.post(keep_url, data=data) #get 이 아니라 post 이다\n",
    "res"
   ]
  },
  {
   "cell_type": "code",
   "execution_count": 104,
   "metadata": {},
   "outputs": [
    {
     "data": {
      "text/plain": [
       "40"
      ]
     },
     "execution_count": 104,
     "metadata": {},
     "output_type": "execute_result"
    }
   ],
   "source": [
    "keep_count_list = res.json()['keepCount']\n",
    "len(keep_count_list)"
   ]
  },
  {
   "cell_type": "code",
   "execution_count": 105,
   "metadata": {},
   "outputs": [],
   "source": [
    "df['keep_count'] = keep_count_list"
   ]
  },
  {
   "cell_type": "code",
   "execution_count": 107,
   "metadata": {},
   "outputs": [
    {
     "data": {
      "text/html": [
       "<div>\n",
       "<style scoped>\n",
       "    .dataframe tbody tr th:only-of-type {\n",
       "        vertical-align: middle;\n",
       "    }\n",
       "\n",
       "    .dataframe tbody tr th {\n",
       "        vertical-align: top;\n",
       "    }\n",
       "\n",
       "    .dataframe thead th {\n",
       "        text-align: right;\n",
       "    }\n",
       "</style>\n",
       "<table border=\"1\" class=\"dataframe\">\n",
       "  <thead>\n",
       "    <tr style=\"text-align: right;\">\n",
       "      <th></th>\n",
       "      <th>name</th>\n",
       "      <th>nv_mid</th>\n",
       "      <th>keep_count</th>\n",
       "    </tr>\n",
       "  </thead>\n",
       "  <tbody>\n",
       "    <tr>\n",
       "      <th>0</th>\n",
       "      <td>애플 에어팟 1세대 (MMEF2KH/A)</td>\n",
       "      <td>10776906666</td>\n",
       "      <td>3097</td>\n",
       "    </tr>\n",
       "    <tr>\n",
       "      <th>1</th>\n",
       "      <td>애플 에어팟 2세대 유선충전 (MV7N2KH/A)</td>\n",
       "      <td>18622086330</td>\n",
       "      <td>247</td>\n",
       "    </tr>\n",
       "    <tr>\n",
       "      <th>2</th>\n",
       "      <td>해외애플 에어팟 2세대 무선충전</td>\n",
       "      <td>18483728924</td>\n",
       "      <td>165</td>\n",
       "    </tr>\n",
       "    <tr>\n",
       "      <th>3</th>\n",
       "      <td>애플 에어팟 2세대 무선충전 (MRXJ2KH/A)</td>\n",
       "      <td>18754856889</td>\n",
       "      <td>35</td>\n",
       "    </tr>\n",
       "    <tr>\n",
       "      <th>4</th>\n",
       "      <td>캔디팟 가성비 에어로팟 에어팟 i10 i12 i9 tws 차이팟x</td>\n",
       "      <td>81919971590</td>\n",
       "      <td>268</td>\n",
       "    </tr>\n",
       "    <tr>\n",
       "      <th>5</th>\n",
       "      <td>해외애플 에어팟 MMEF2KH</td>\n",
       "      <td>18428627338</td>\n",
       "      <td>237</td>\n",
       "    </tr>\n",
       "    <tr>\n",
       "      <th>6</th>\n",
       "      <td>해외애플 에어팟 2세대 유선충전 케이스</td>\n",
       "      <td>18344345265</td>\n",
       "      <td>384</td>\n",
       "    </tr>\n",
       "    <tr>\n",
       "      <th>7</th>\n",
       "      <td>애플 에어팟 MMEF2KH/A 왼쪽 오른쪽 단품 한쪽 국내정식발매품 AS 가능</td>\n",
       "      <td>81946053258</td>\n",
       "      <td>22</td>\n",
       "    </tr>\n",
       "    <tr>\n",
       "      <th>8</th>\n",
       "      <td>마이룸 무선 블루투스 이어폰 차이팟 애플 아이폰 에어팟 x 에어로팟 에이블팟</td>\n",
       "      <td>17060334679</td>\n",
       "      <td>487</td>\n",
       "    </tr>\n",
       "    <tr>\n",
       "      <th>9</th>\n",
       "      <td>[입고시발송예약/유선,무선충전버전/순서발송] 애플 국내정품 에어팟 2세대 Apple...</td>\n",
       "      <td>81958588252</td>\n",
       "      <td>291</td>\n",
       "    </tr>\n",
       "    <tr>\n",
       "      <th>10</th>\n",
       "      <td>해외애플 애플 에어팟 1세대 /2세대/ Airpods 1/2세대</td>\n",
       "      <td>12654509207</td>\n",
       "      <td>50</td>\n",
       "    </tr>\n",
       "    <tr>\n",
       "      <th>11</th>\n",
       "      <td>에어팟 ios 안드로이드 차이팟 3.5세대 acro 아크로 i9 PLUS i8 mini</td>\n",
       "      <td>81786680577</td>\n",
       "      <td>166</td>\n",
       "    </tr>\n",
       "    <tr>\n",
       "      <th>12</th>\n",
       "      <td>해외[앱구매캐시백]애플 에어팟 AirPods 무선이어폰 국내 AS가능 홍콩에어배송 ...</td>\n",
       "      <td>17011209371</td>\n",
       "      <td>55</td>\n",
       "    </tr>\n",
       "    <tr>\n",
       "      <th>13</th>\n",
       "      <td>차이팟 i10 tws 에어로팟 에어팟 i12 i9 에어팟2</td>\n",
       "      <td>81934833520</td>\n",
       "      <td>68</td>\n",
       "    </tr>\n",
       "    <tr>\n",
       "      <th>14</th>\n",
       "      <td>애플 애플정품 에어팟 이어폰 AirPods MMEF2KH/A 빠른배송</td>\n",
       "      <td>13838748967</td>\n",
       "      <td>9</td>\n",
       "    </tr>\n",
       "    <tr>\n",
       "      <th>15</th>\n",
       "      <td>애플 정품 에어팟 MMEF2KH/A 애플코리아 정품 당일출고</td>\n",
       "      <td>81765026705</td>\n",
       "      <td>315</td>\n",
       "    </tr>\n",
       "    <tr>\n",
       "      <th>16</th>\n",
       "      <td>i13 Tws 블랙 블랙  블루투스이어폰 에어팟 아이팟</td>\n",
       "      <td>18735689119</td>\n",
       "      <td>4</td>\n",
       "    </tr>\n",
       "    <tr>\n",
       "      <th>17</th>\n",
       "      <td>캔디팟 가성비 에어로팟 에어팟 i10 i12 i9 tws 차이팟x</td>\n",
       "      <td>81919971590</td>\n",
       "      <td>268</td>\n",
       "    </tr>\n",
       "    <tr>\n",
       "      <th>18</th>\n",
       "      <td>블루투스 무선 이어폰 아이폰 애플 에어팟 2세대 이어팟 벌크 i8 에이블팟 차이팟 ...</td>\n",
       "      <td>80628902191</td>\n",
       "      <td>1094</td>\n",
       "    </tr>\n",
       "    <tr>\n",
       "      <th>19</th>\n",
       "      <td>DGG i10 프로 블루투스 가성비이어폰 5.0 터치식 3세대 에어팟</td>\n",
       "      <td>81996763612</td>\n",
       "      <td>63</td>\n",
       "    </tr>\n",
       "    <tr>\n",
       "      <th>20</th>\n",
       "      <td>완전 에어팟 콩나물이어폰 i10s블루투스 무선 코드리스 갤럭시버드 대륙의실수  uxlr</td>\n",
       "      <td>18740571933</td>\n",
       "      <td>5</td>\n",
       "    </tr>\n",
       "    <tr>\n",
       "      <th>21</th>\n",
       "      <td>에어팟 왼쪽 오른쪽 충전케이스 개별 판매 애플코리아 AirPods 낱개 [국내정품]...</td>\n",
       "      <td>81988008453</td>\n",
       "      <td>1</td>\n",
       "    </tr>\n",
       "    <tr>\n",
       "      <th>22</th>\n",
       "      <td>해외애플 에어팟/Apple Airpods/국내 AS 가능</td>\n",
       "      <td>18367305169</td>\n",
       "      <td>27</td>\n",
       "    </tr>\n",
       "    <tr>\n",
       "      <th>23</th>\n",
       "      <td>에어팟스타일ACRO-I8 아크로 I-8</td>\n",
       "      <td>16341587630</td>\n",
       "      <td>2</td>\n",
       "    </tr>\n",
       "    <tr>\n",
       "      <th>24</th>\n",
       "      <td>국내정품 Apple 뉴 에어팟2세대 MV7N2KH/A 오늘출발 내일도착 우체국택배 ...</td>\n",
       "      <td>82005912375</td>\n",
       "      <td>131</td>\n",
       "    </tr>\n",
       "    <tr>\n",
       "      <th>25</th>\n",
       "      <td>해외Apple airpod2 애플 에어팟2 + 무선충전 케이스</td>\n",
       "      <td>18899954783</td>\n",
       "      <td>22</td>\n",
       "    </tr>\n",
       "    <tr>\n",
       "      <th>26</th>\n",
       "      <td>해외정품 미국 코스트코 애플 에어팟</td>\n",
       "      <td>16950823115</td>\n",
       "      <td>2</td>\n",
       "    </tr>\n",
       "    <tr>\n",
       "      <th>27</th>\n",
       "      <td>차이팟 i10 tws 플러스 콩나물팟 에어팟x</td>\n",
       "      <td>81736134795</td>\n",
       "      <td>154</td>\n",
       "    </tr>\n",
       "    <tr>\n",
       "      <th>28</th>\n",
       "      <td>[디파] 무선 블루투스 이어폰 CN-700T 4color, diifa, 에어팟</td>\n",
       "      <td>16611371198</td>\n",
       "      <td>6</td>\n",
       "    </tr>\n",
       "    <tr>\n",
       "      <th>29</th>\n",
       "      <td>해외애플 에어팟 화이트 블루투스이어폰/이어셋 Apple AirPods</td>\n",
       "      <td>18607171841</td>\n",
       "      <td>3</td>\n",
       "    </tr>\n",
       "    <tr>\n",
       "      <th>30</th>\n",
       "      <td>해외애플 에어팟 블루투스 무선 이어폰 MMEF2J/A</td>\n",
       "      <td>16963250393</td>\n",
       "      <td>40</td>\n",
       "    </tr>\n",
       "    <tr>\n",
       "      <th>31</th>\n",
       "      <td>해외새로운 Apple Airpods (최신 버전) iOS 10 이상이 장착 된 iP...</td>\n",
       "      <td>18146893827</td>\n",
       "      <td>5</td>\n",
       "    </tr>\n",
       "    <tr>\n",
       "      <th>32</th>\n",
       "      <td>[애플정품] 에어팟 AirPods (마켓) 30665 A1602</td>\n",
       "      <td>18314856361</td>\n",
       "      <td>6</td>\n",
       "    </tr>\n",
       "    <tr>\n",
       "      <th>33</th>\n",
       "      <td>i11-tws 무선에어팟 아이폰X 아이폰8 아이폰7 아이폰6</td>\n",
       "      <td>18711537902</td>\n",
       "      <td>0</td>\n",
       "    </tr>\n",
       "    <tr>\n",
       "      <th>34</th>\n",
       "      <td>VOD240710불루투스 무선이어폰i9S-TWS 에어팟 차이팟 이어셋</td>\n",
       "      <td>18802429798</td>\n",
       "      <td>4</td>\n",
       "    </tr>\n",
       "    <tr>\n",
       "      <th>35</th>\n",
       "      <td>YCF106769ACRO I9 에어팟과 제일 비슷한 크기</td>\n",
       "      <td>18845425918</td>\n",
       "      <td>0</td>\n",
       "    </tr>\n",
       "    <tr>\n",
       "      <th>36</th>\n",
       "      <td>TORCHIC G7 스테레오 블루투스 이어폰</td>\n",
       "      <td>15121518343</td>\n",
       "      <td>91</td>\n",
       "    </tr>\n",
       "    <tr>\n",
       "      <th>37</th>\n",
       "      <td>애플 에어팟 2세대 / 유선충전 케이스</td>\n",
       "      <td>18679867694</td>\n",
       "      <td>9</td>\n",
       "    </tr>\n",
       "    <tr>\n",
       "      <th>38</th>\n",
       "      <td>해외[오사카]Apple AirPods 메탈조 프리미엄 스킨 씰브러시 드 골드</td>\n",
       "      <td>14176537731</td>\n",
       "      <td>1</td>\n",
       "    </tr>\n",
       "    <tr>\n",
       "      <th>39</th>\n",
       "      <td>애플 에어팟 2세대 유선충전케이스 (케이스/철가루방지스티커증정)</td>\n",
       "      <td>18429947106</td>\n",
       "      <td>3</td>\n",
       "    </tr>\n",
       "  </tbody>\n",
       "</table>\n",
       "</div>"
      ],
      "text/plain": [
       "                                                 name       nv_mid  keep_count\n",
       "0                              애플 에어팟 1세대 (MMEF2KH/A)  10776906666        3097\n",
       "1                         애플 에어팟 2세대 유선충전 (MV7N2KH/A)  18622086330         247\n",
       "2                                   해외애플 에어팟 2세대 무선충전  18483728924         165\n",
       "3                         애플 에어팟 2세대 무선충전 (MRXJ2KH/A)  18754856889          35\n",
       "4                캔디팟 가성비 에어로팟 에어팟 i10 i12 i9 tws 차이팟x  81919971590         268\n",
       "5                                    해외애플 에어팟 MMEF2KH  18428627338         237\n",
       "6                               해외애플 에어팟 2세대 유선충전 케이스  18344345265         384\n",
       "7         애플 에어팟 MMEF2KH/A 왼쪽 오른쪽 단품 한쪽 국내정식발매품 AS 가능  81946053258          22\n",
       "8          마이룸 무선 블루투스 이어폰 차이팟 애플 아이폰 에어팟 x 에어로팟 에이블팟  17060334679         487\n",
       "9   [입고시발송예약/유선,무선충전버전/순서발송] 애플 국내정품 에어팟 2세대 Apple...  81958588252         291\n",
       "10                해외애플 애플 에어팟 1세대 /2세대/ Airpods 1/2세대  12654509207          50\n",
       "11   에어팟 ios 안드로이드 차이팟 3.5세대 acro 아크로 i9 PLUS i8 mini  81786680577         166\n",
       "12  해외[앱구매캐시백]애플 에어팟 AirPods 무선이어폰 국내 AS가능 홍콩에어배송 ...  17011209371          55\n",
       "13                   차이팟 i10 tws 에어로팟 에어팟 i12 i9 에어팟2  81934833520          68\n",
       "14             애플 애플정품 에어팟 이어폰 AirPods MMEF2KH/A 빠른배송  13838748967           9\n",
       "15                  애플 정품 에어팟 MMEF2KH/A 애플코리아 정품 당일출고  81765026705         315\n",
       "16                     i13 Tws 블랙 블랙  블루투스이어폰 에어팟 아이팟  18735689119           4\n",
       "17               캔디팟 가성비 에어로팟 에어팟 i10 i12 i9 tws 차이팟x  81919971590         268\n",
       "18  블루투스 무선 이어폰 아이폰 애플 에어팟 2세대 이어팟 벌크 i8 에이블팟 차이팟 ...  80628902191        1094\n",
       "19             DGG i10 프로 블루투스 가성비이어폰 5.0 터치식 3세대 에어팟  81996763612          63\n",
       "20   완전 에어팟 콩나물이어폰 i10s블루투스 무선 코드리스 갤럭시버드 대륙의실수  uxlr  18740571933           5\n",
       "21  에어팟 왼쪽 오른쪽 충전케이스 개별 판매 애플코리아 AirPods 낱개 [국내정품]...  81988008453           1\n",
       "22                    해외애플 에어팟/Apple Airpods/국내 AS 가능  18367305169          27\n",
       "23                              에어팟스타일ACRO-I8 아크로 I-8  16341587630           2\n",
       "24  국내정품 Apple 뉴 에어팟2세대 MV7N2KH/A 오늘출발 내일도착 우체국택배 ...  82005912375         131\n",
       "25                 해외Apple airpod2 애플 에어팟2 + 무선충전 케이스  18899954783          22\n",
       "26                                해외정품 미국 코스트코 애플 에어팟  16950823115           2\n",
       "27                          차이팟 i10 tws 플러스 콩나물팟 에어팟x  81736134795         154\n",
       "28        [디파] 무선 블루투스 이어폰 CN-700T 4color, diifa, 에어팟  16611371198           6\n",
       "29             해외애플 에어팟 화이트 블루투스이어폰/이어셋 Apple AirPods  18607171841           3\n",
       "30                      해외애플 에어팟 블루투스 무선 이어폰 MMEF2J/A  16963250393          40\n",
       "31  해외새로운 Apple Airpods (최신 버전) iOS 10 이상이 장착 된 iP...  18146893827           5\n",
       "32                [애플정품] 에어팟 AirPods (마켓) 30665 A1602  18314856361           6\n",
       "33                  i11-tws 무선에어팟 아이폰X 아이폰8 아이폰7 아이폰6  18711537902           0\n",
       "34             VOD240710불루투스 무선이어폰i9S-TWS 에어팟 차이팟 이어셋  18802429798           4\n",
       "35                    YCF106769ACRO I9 에어팟과 제일 비슷한 크기  18845425918           0\n",
       "36                           TORCHIC G7 스테레오 블루투스 이어폰  15121518343          91\n",
       "37                              애플 에어팟 2세대 / 유선충전 케이스  18679867694           9\n",
       "38         해외[오사카]Apple AirPods 메탈조 프리미엄 스킨 씰브러시 드 골드  14176537731           1\n",
       "39                애플 에어팟 2세대 유선충전케이스 (케이스/철가루방지스티커증정)  18429947106           3"
      ]
     },
     "execution_count": 107,
     "metadata": {},
     "output_type": "execute_result"
    }
   ],
   "source": [
    "names = ['name','nv_mid', 'keep_count']\n",
    "df[names]"
   ]
  },
  {
   "cell_type": "code",
   "execution_count": 110,
   "metadata": {},
   "outputs": [],
   "source": [
    "df.drop(['img_url', 'url'], axis = 'columns', inplace=True)# 긴 url 때문에 오류 나옴.\n",
    "df.to_excel('네이버쇼핑검색결과-에어팟.xlsx')"
   ]
  },
  {
   "cell_type": "code",
   "execution_count": null,
   "metadata": {},
   "outputs": [],
   "source": []
  },
  {
   "cell_type": "code",
   "execution_count": null,
   "metadata": {},
   "outputs": [],
   "source": []
  },
  {
   "cell_type": "code",
   "execution_count": null,
   "metadata": {},
   "outputs": [],
   "source": []
  }
 ],
 "metadata": {
  "kernelspec": {
   "display_name": "Python 3",
   "language": "python",
   "name": "python3"
  },
  "language_info": {
   "codemirror_mode": {
    "name": "ipython",
    "version": 3
   },
   "file_extension": ".py",
   "mimetype": "text/x-python",
   "name": "python",
   "nbconvert_exporter": "python",
   "pygments_lexer": "ipython3",
   "version": "3.7.0"
  },
  "toc": {
   "base_numbering": 1,
   "nav_menu": {},
   "number_sections": true,
   "sideBar": true,
   "skip_h1_title": false,
   "title_cell": "Table of Contents",
   "title_sidebar": "Contents",
   "toc_cell": false,
   "toc_position": {},
   "toc_section_display": true,
   "toc_window_display": false
  },
  "varInspector": {
   "cols": {
    "lenName": 16,
    "lenType": 16,
    "lenVar": 40
   },
   "kernels_config": {
    "python": {
     "delete_cmd_postfix": "",
     "delete_cmd_prefix": "del ",
     "library": "var_list.py",
     "varRefreshCmd": "print(var_dic_list())"
    },
    "r": {
     "delete_cmd_postfix": ") ",
     "delete_cmd_prefix": "rm(",
     "library": "var_list.r",
     "varRefreshCmd": "cat(var_dic_list()) "
    }
   },
   "types_to_exclude": [
    "module",
    "function",
    "builtin_function_or_method",
    "instance",
    "_Feature"
   ],
   "window_display": false
  }
 },
 "nbformat": 4,
 "nbformat_minor": 2
}
