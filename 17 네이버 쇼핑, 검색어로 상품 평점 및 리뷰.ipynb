{
 "cells": [
  {
   "cell_type": "code",
   "execution_count": 13,
   "metadata": {},
   "outputs": [],
   "source": [
    "import pandas as pd\n",
    "import requests\n",
    "from bs4 import BeautifulSoup"
   ]
  },
  {
   "cell_type": "code",
   "execution_count": 22,
   "metadata": {},
   "outputs": [],
   "source": [
    "df = pd.read_csv('네이버쇼핑검색결과-에어팟.csv', engine='python', encoding='utf8')\n",
    "#추정 원인은 pandas에서 사용하는 CParserWrapper의 자체 버그이며, 해결방법\n",
    "#Python 3.6에서 한글파일명이 포함된 CSV 읽을 경우 에러가 날 떄가 있습니다."
   ]
  },
  {
   "cell_type": "code",
   "execution_count": 23,
   "metadata": {},
   "outputs": [
    {
     "data": {
      "text/html": [
       "<div>\n",
       "<style scoped>\n",
       "    .dataframe tbody tr th:only-of-type {\n",
       "        vertical-align: middle;\n",
       "    }\n",
       "\n",
       "    .dataframe tbody tr th {\n",
       "        vertical-align: top;\n",
       "    }\n",
       "\n",
       "    .dataframe thead th {\n",
       "        text-align: right;\n",
       "    }\n",
       "</style>\n",
       "<table border=\"1\" class=\"dataframe\">\n",
       "  <thead>\n",
       "    <tr style=\"text-align: right;\">\n",
       "      <th></th>\n",
       "      <th>category_list</th>\n",
       "      <th>create_at</th>\n",
       "      <th>img_url</th>\n",
       "      <th>is_ad</th>\n",
       "      <th>name</th>\n",
       "      <th>nv_mid</th>\n",
       "      <th>price</th>\n",
       "      <th>review_count</th>\n",
       "      <th>spec_dict</th>\n",
       "      <th>star+score</th>\n",
       "      <th>url</th>\n",
       "    </tr>\n",
       "  </thead>\n",
       "  <tbody>\n",
       "    <tr>\n",
       "      <th>0</th>\n",
       "      <td>['디지털/가전', '음향가전', '블루투스셋', '블루투스이어폰/이어셋']</td>\n",
       "      <td>2016.12.</td>\n",
       "      <td>https://shopping-phinf.pstatic.net/main_107769...</td>\n",
       "      <td>False</td>\n",
       "      <td>애플 에어팟 1세대 (MMEF2KH/A)</td>\n",
       "      <td>10776906666</td>\n",
       "      <td>214310</td>\n",
       "      <td>11932.0</td>\n",
       "      <td>{'용도': '통화+음악(스테레오)', '채널': '스테레오', '무선방식': '블...</td>\n",
       "      <td>4.8</td>\n",
       "      <td>http://cr2.shopping.naver.com/adcr.nhn?x=laZEG...</td>\n",
       "    </tr>\n",
       "    <tr>\n",
       "      <th>1</th>\n",
       "      <td>['디지털/가전', '음향가전', '블루투스셋', '블루투스이어폰/이어셋']</td>\n",
       "      <td>2019.04.</td>\n",
       "      <td>https://shopping-phinf.pstatic.net/main_186220...</td>\n",
       "      <td>False</td>\n",
       "      <td>애플 에어팟 2세대 유선충전 (MV7N2KH/A)</td>\n",
       "      <td>18622086330</td>\n",
       "      <td>209000</td>\n",
       "      <td>151.0</td>\n",
       "      <td>{'종류': '이어셋', '용도': '통화+음악(스테레오)', '유닛형태': '코드...</td>\n",
       "      <td>4.8</td>\n",
       "      <td>http://cr2.shopping.naver.com/adcr.nhn?x=m8WjU...</td>\n",
       "    </tr>\n",
       "    <tr>\n",
       "      <th>2</th>\n",
       "      <td>['디지털/가전', '음향가전', '블루투스셋', '블루투스이어폰/이어셋']</td>\n",
       "      <td>2019.04.</td>\n",
       "      <td>https://shopping-phinf.pstatic.net/main_184837...</td>\n",
       "      <td>False</td>\n",
       "      <td>해외애플 에어팟 2세대 무선충전</td>\n",
       "      <td>18483728924</td>\n",
       "      <td>235320</td>\n",
       "      <td>108.0</td>\n",
       "      <td>{'종류': '이어셋', '용도': '통화+음악감상겸용', '무선방식': '블루투스'}</td>\n",
       "      <td>4.9</td>\n",
       "      <td>http://cr2.shopping.naver.com/adcr.nhn?x=xGh%2...</td>\n",
       "    </tr>\n",
       "  </tbody>\n",
       "</table>\n",
       "</div>"
      ],
      "text/plain": [
       "                                category_list create_at  \\\n",
       "0  ['디지털/가전', '음향가전', '블루투스셋', '블루투스이어폰/이어셋']  2016.12.   \n",
       "1  ['디지털/가전', '음향가전', '블루투스셋', '블루투스이어폰/이어셋']  2019.04.   \n",
       "2  ['디지털/가전', '음향가전', '블루투스셋', '블루투스이어폰/이어셋']  2019.04.   \n",
       "\n",
       "                                             img_url  is_ad  \\\n",
       "0  https://shopping-phinf.pstatic.net/main_107769...  False   \n",
       "1  https://shopping-phinf.pstatic.net/main_186220...  False   \n",
       "2  https://shopping-phinf.pstatic.net/main_184837...  False   \n",
       "\n",
       "                          name       nv_mid   price  review_count  \\\n",
       "0       애플 에어팟 1세대 (MMEF2KH/A)  10776906666  214310       11932.0   \n",
       "1  애플 에어팟 2세대 유선충전 (MV7N2KH/A)  18622086330  209000         151.0   \n",
       "2            해외애플 에어팟 2세대 무선충전  18483728924  235320         108.0   \n",
       "\n",
       "                                           spec_dict  star+score  \\\n",
       "0  {'용도': '통화+음악(스테레오)', '채널': '스테레오', '무선방식': '블...         4.8   \n",
       "1  {'종류': '이어셋', '용도': '통화+음악(스테레오)', '유닛형태': '코드...         4.8   \n",
       "2   {'종류': '이어셋', '용도': '통화+음악감상겸용', '무선방식': '블루투스'}         4.9   \n",
       "\n",
       "                                                 url  \n",
       "0  http://cr2.shopping.naver.com/adcr.nhn?x=laZEG...  \n",
       "1  http://cr2.shopping.naver.com/adcr.nhn?x=m8WjU...  \n",
       "2  http://cr2.shopping.naver.com/adcr.nhn?x=xGh%2...  "
      ]
     },
     "execution_count": 23,
     "metadata": {},
     "output_type": "execute_result"
    }
   ],
   "source": [
    "df.head(3)"
   ]
  },
  {
   "cell_type": "code",
   "execution_count": 71,
   "metadata": {},
   "outputs": [
    {
     "name": "stdout",
     "output_type": "stream",
     "text": [
      "http://cr2.shopping.naver.com/adcr.nhn?x=laZEGW%2BtWgOSR6SSnbG4c%2F%2F%2F%2Fw%3D%3DsiEky1DWIRp9RPCm8ky0MMhK519%2FYQpLyuzJwjI0lwM%2FwMHFVfyRR41kkqop4BBe7b8mPFshxxZjUZilPFxJ49LOzWylEKLxqT9tnjLp1ZU9v5vPmSTHMhkGjhp5a56X4H%2Ba899jq4vPrE%2FGLlLG4%2FEZVgIO42F1ZaXskE4po%2F46fokx%2Bl4FoGy1QI9MhYsm97ezzdZ5SmNRKo6EhCioDiHib%2FRhqgYr9wnO%2FynfKSkAY3VoGsDE1XT1S6%2BOsYQTY%2BHjcviF3tCdK3HNpy49BDe8UEBRSWcEZo8%2BvK9eep8YAlHlfLvZE7oHvTvHgz2fijoOGrgwaFoZ%2B%2FQd5RATpAH0uxbhGCKlU8oD%2FYg3hwAniaaJza9DyXc4%2B890sFMHn3BTNc1ou8z07L6rEizbO%2BexhKqqqXKolPp7yRuyM%2B8sWG5xH%2BMDbHiNNiHNZeSlzRCmbo9tv%2Flwtg6f%2BJDJpivGNqpKCAAb85PIlxyhmhd5rPVzI8i4BESS239iSmFOWt5SQ7h9NlJklPiIKyYWpqZg7V7k688qcc3DL6Tr6EA5flfkORtuLbnKw6P2b3CvjwS2WtbSXzYjLNwsTUnaO6iSM7mfoYBKC6ortqtTwHymWQUZa3Xmw4kclqHoMSwVEf6V6dWNLrR48RgpR6lUzeAz8in5VLtp6p%2F8exCeAYHhOAF5ksHaPhHo2JPalOVV7Ax3vTX3vA2N5iwtHqwkD6A%3D%3D\n"
     ]
    }
   ],
   "source": [
    "for detail_url in df.url:\n",
    "    print(detail_url)\n",
    "    break"
   ]
  },
  {
   "cell_type": "code",
   "execution_count": 72,
   "metadata": {},
   "outputs": [],
   "source": [
    "detail_url = df.url[1]"
   ]
  },
  {
   "cell_type": "markdown",
   "metadata": {},
   "source": [
    "## 크롤링 시작"
   ]
  },
  {
   "cell_type": "code",
   "execution_count": 73,
   "metadata": {},
   "outputs": [
    {
     "data": {
      "text/plain": [
       "<Response [200]>"
      ]
     },
     "execution_count": 73,
     "metadata": {},
     "output_type": "execute_result"
    }
   ],
   "source": [
    "res = requests.get(detail_url)\n",
    "res"
   ]
  },
  {
   "cell_type": "code",
   "execution_count": 74,
   "metadata": {},
   "outputs": [],
   "source": [
    "html = res.text\n",
    "soup = BeautifulSoup(html, 'html.parser')"
   ]
  },
  {
   "cell_type": "code",
   "execution_count": 75,
   "metadata": {
    "scrolled": true
   },
   "outputs": [
    {
     "data": {
      "text/plain": [
       "9"
      ]
     },
     "execution_count": 75,
     "metadata": {},
     "output_type": "execute_result"
    }
   ],
   "source": [
    "tag_list = soup.select('.sub_list li a')\n",
    "len(tag_list)"
   ]
  },
  {
   "cell_type": "code",
   "execution_count": 76,
   "metadata": {},
   "outputs": [
    {
     "data": {
      "text/plain": [
       "<a class=\"_topics\" data-review-seq=\"\" data-topic-code=\"\" href=\"#\">\n",
       "<span>주제전체</span>\n",
       "</a>"
      ]
     },
     "execution_count": 76,
     "metadata": {},
     "output_type": "execute_result"
    }
   ],
   "source": [
    "tag_list[0]"
   ]
  },
  {
   "cell_type": "code",
   "execution_count": 77,
   "metadata": {},
   "outputs": [
    {
     "data": {
      "text/plain": [
       "<a class=\"_topics\" data-review-seq=\"\" data-topic-code=\"price\" href=\"#\"><span>가격</span></a>"
      ]
     },
     "execution_count": 77,
     "metadata": {},
     "output_type": "execute_result"
    }
   ],
   "source": [
    "tag_list[1]"
   ]
  },
  {
   "cell_type": "code",
   "execution_count": 78,
   "metadata": {},
   "outputs": [
    {
     "data": {
      "text/plain": [
       "{'주제전체': '',\n",
       " '가격': 'price',\n",
       " '음질': 'sound',\n",
       " '만족도': 'total',\n",
       " '충전': 'charging',\n",
       " '디자인': 'design',\n",
       " '기능': 'function',\n",
       " '품질': 'quality',\n",
       " '사용성': 'usability'}"
      ]
     },
     "execution_count": 78,
     "metadata": {},
     "output_type": "execute_result"
    }
   ],
   "source": [
    "topic_dict = {}\n",
    "\n",
    "for tag in tag_list:\n",
    "    topic_code = tag['data-topic-code']\n",
    "    topic_name = tag.text.strip()\n",
    "    #print(topic_code, topic_name)\n",
    "    topic_dict[topic_name] = topic_code\n",
    "\n",
    "topic_dict"
   ]
  },
  {
   "cell_type": "markdown",
   "metadata": {},
   "source": [
    "## Review_rist"
   ]
  },
  {
   "cell_type": "code",
   "execution_count": 79,
   "metadata": {},
   "outputs": [
    {
     "data": {
      "text/plain": [
       "['nvMid=10776906666',\n",
       " 'page=1',\n",
       " 'reviewSort=accuracy',\n",
       " 'reviewType=all',\n",
       " 'topicCode=price',\n",
       " 'ligh=true']"
      ]
     },
     "execution_count": 79,
     "metadata": {},
     "output_type": "execute_result"
    }
   ],
   "source": [
    "review_list_url = 'https://search.shopping.naver.com/detail/review_list.nhn'\n",
    "\n",
    "params = 'nvMid=10776906666&page=1&reviewSort=accuracy&reviewType=all&topicCode=price&ligh=true'\n",
    "params.split('&')"
   ]
  },
  {
   "cell_type": "code",
   "execution_count": 80,
   "metadata": {},
   "outputs": [
    {
     "name": "stdout",
     "output_type": "stream",
     "text": [
      "\"nvMid\" : \"10776906666\"\n",
      "\"page\" : \"1\"\n",
      "\"reviewSort\" : \"accuracy\"\n",
      "\"reviewType\" : \"all\"\n",
      "\"topicCode\" : \"price\"\n",
      "\"ligh\" : \"true\"\n"
     ]
    }
   ],
   "source": [
    "for row in params.split('&'):\n",
    "    print('\"{}\" : \"{}\"'.format(*row.split('=')))"
   ]
  },
  {
   "cell_type": "code",
   "execution_count": 81,
   "metadata": {},
   "outputs": [
    {
     "data": {
      "text/plain": [
       "<Response [200]>"
      ]
     },
     "execution_count": 81,
     "metadata": {},
     "output_type": "execute_result"
    }
   ],
   "source": [
    "review_list_url = 'https://search.shopping.naver.com/detail/review_list.nhn'\n",
    "params = {\n",
    "    \"nvMid\" : \"10776906666\",\n",
    "    \"page\" : 1,\n",
    "    \"reviewSort\" : \"accuracy\", # 랭킹순(accuracy), 최신순(registration)\n",
    "    \"reviewType\" : \"all\", # 전체(all). 포토리뷰(photo)\n",
    "    # \"topicCode\" : topic_dict['가격'],    \"price\", 넣얻 되고 안넣어도 되고\n",
    "    \"score\" : 1, # 1-5 지정않아면 전체\n",
    "    \"ligh\" : \"true\",\n",
    "}\n",
    "res = requests.post(review_list_url, params=params) # get에서 post로 변경\n",
    "res"
   ]
  },
  {
   "cell_type": "code",
   "execution_count": 82,
   "metadata": {},
   "outputs": [],
   "source": [
    "html = res.text\n",
    "soup = BeautifulSoup(html, 'html.parser')"
   ]
  },
  {
   "cell_type": "code",
   "execution_count": 84,
   "metadata": {},
   "outputs": [
    {
     "data": {
      "text/plain": [
       "20"
      ]
     },
     "execution_count": 84,
     "metadata": {},
     "output_type": "execute_result"
    }
   ],
   "source": [
    "tag_list = soup.select('#_review_list > li')\n",
    "len(tag_list)"
   ]
  },
  {
   "cell_type": "code",
   "execution_count": 86,
   "metadata": {
    "scrolled": true
   },
   "outputs": [],
   "source": [
    "tag = tag_list[0]\n"
   ]
  },
  {
   "cell_type": "code",
   "execution_count": 88,
   "metadata": {},
   "outputs": [
    {
     "data": {
      "text/plain": [
       "1"
      ]
     },
     "execution_count": 88,
     "metadata": {},
     "output_type": "execute_result"
    }
   ],
   "source": [
    "star_score = int(tag.select_one('.curr_avg').text)\n",
    "star_score"
   ]
  },
  {
   "cell_type": "code",
   "execution_count": 90,
   "metadata": {},
   "outputs": [
    {
     "data": {
      "text/plain": [
       "('엘롯데', 'ehdr****님')"
      ]
     },
     "execution_count": 90,
     "metadata": {},
     "output_type": "execute_result"
    }
   ],
   "source": [
    "path = tag.select_one('.info .path').text # 쇼핑몰\n",
    "author = tag.select_one('.info .name').text # 구매자\n",
    "path, author"
   ]
  },
  {
   "cell_type": "code",
   "execution_count": 93,
   "metadata": {},
   "outputs": [],
   "source": [
    "date = tag.select_one('.date').text # 작성날짜"
   ]
  },
  {
   "cell_type": "code",
   "execution_count": 95,
   "metadata": {},
   "outputs": [
    {
     "data": {
      "text/plain": [
       "'개봉하자말자 이어폰 양쪽 둘다 들리더니 갑자기 오른쪽이 안들림 또 되다가 안되다가 알고보니 페어링이 문제였던거임 내폰이 문제인가 싶어 다른 아이폰에 연결해봄 똑같음 불량인줄 모르고'"
      ]
     },
     "execution_count": 95,
     "metadata": {},
     "output_type": "execute_result"
    }
   ],
   "source": [
    "subject = tag.select_one('.subjcet, .subject').text.strip() #css 선택자에서 ,(쉼표)는 or의 용도로 오타가 있는경우를 대비해서 입력해줌\n",
    "subject"
   ]
  },
  {
   "cell_type": "code",
   "execution_count": 97,
   "metadata": {},
   "outputs": [
    {
     "data": {
      "text/plain": [
       "'개봉하자말자 이어폰 양쪽 둘다 들리더니 갑자기 오른쪽이 안들림 또 되다가 안되다가 알고보니 페어링이 문제였던거임 내폰이 문제인가 싶어 다른 아이폰에 연결해봄 똑같음 불량인줄 모르고 보냈겠지만 여기서 구매를 했으면 반품 교환을 해줘야 된다고 생각함 그런데 무슨 지침 무슨 지침 이러면서 안된다함 저번에도 엘롯데에서 가디건 사는데 재고 있다하면서 배송이 2주나 늦어짐 다시는 롯데 이용 안할거임 나몰라라하는데 업체측이랑 고객센터 말이 둘다 다름 롯데?서비스 쪽에선 한계가 있는듯^^다시는 이용안함 에어팟 불량옴~'"
      ]
     },
     "execution_count": 97,
     "metadata": {},
     "output_type": "execute_result"
    }
   ],
   "source": [
    "content = tag.select_one('.atc').text.strip()\n",
    "content"
   ]
  },
  {
   "cell_type": "code",
   "execution_count": 102,
   "metadata": {},
   "outputs": [
    {
     "data": {
      "text/plain": [
       "{'star_score': 1,\n",
       " 'path': '엘롯데',\n",
       " 'author': 'ehdr****님',\n",
       " 'date': '2019.02.20.',\n",
       " 'subject': '개봉하자말자 이어폰 양쪽 둘다 들리더니 갑자기 오른쪽이 안들림 또 되다가 안되다가 알고보니 페어링이 문제였던거임 내폰이 문제인가 싶어 다른 아이폰에 연결해봄 똑같음 불량인줄 모르고',\n",
       " 'content': '개봉하자말자 이어폰 양쪽 둘다 들리더니 갑자기 오른쪽이 안들림 또 되다가 안되다가 알고보니 페어링이 문제였던거임 내폰이 문제인가 싶어 다른 아이폰에 연결해봄 똑같음 불량인줄 모르고 보냈겠지만 여기서 구매를 했으면 반품 교환을 해줘야 된다고 생각함 그런데 무슨 지침 무슨 지침 이러면서 안된다함 저번에도 엘롯데에서 가디건 사는데 재고 있다하면서 배송이 2주나 늦어짐 다시는 롯데 이용 안할거임 나몰라라하는데 업체측이랑 고객센터 말이 둘다 다름 롯데?서비스 쪽에선 한계가 있는듯^^다시는 이용안함 에어팟 불량옴~'}"
      ]
     },
     "execution_count": 102,
     "metadata": {},
     "output_type": "execute_result"
    }
   ],
   "source": [
    "# shift + m 으로 합칠 수 있음\n",
    "\n",
    "commnet_list = []\n",
    "for tag in tag_list:\n",
    "    star_score = int(tag.select_one('.curr_avg').text)\n",
    "    path = tag.select_one('.info .path').text # 쇼핑몰\n",
    "    author = tag.select_one('.info .name').text # 구매자\n",
    "    date = tag.select_one('.date').text # 작성날짜\n",
    "    subject = tag.select_one('.subjcet, .subject').text.strip() #css 선택자에서 ,(쉼표)는 or의 용도로 오타가 있는경우를 대비해서 입력해줌\n",
    "    content = tag.select_one('.atc').text.strip()\n",
    "    comment = {\n",
    "        'star_score' : star_score,\n",
    "        'path' : path,\n",
    "        'author' : author,\n",
    "        'date' : date,\n",
    "        'subject' : subject,\n",
    "        'content' : content,\n",
    "    }\n",
    "    commnet_list.append(comment)\n",
    "\n",
    "commnet_list[0]\n",
    "    \n",
    "    \n"
   ]
  },
  {
   "cell_type": "code",
   "execution_count": 105,
   "metadata": {},
   "outputs": [
    {
     "name": "stdout",
     "output_type": "stream",
     "text": [
      "(20, 6)\n"
     ]
    },
    {
     "data": {
      "text/html": [
       "<div>\n",
       "<style scoped>\n",
       "    .dataframe tbody tr th:only-of-type {\n",
       "        vertical-align: middle;\n",
       "    }\n",
       "\n",
       "    .dataframe tbody tr th {\n",
       "        vertical-align: top;\n",
       "    }\n",
       "\n",
       "    .dataframe thead th {\n",
       "        text-align: right;\n",
       "    }\n",
       "</style>\n",
       "<table border=\"1\" class=\"dataframe\">\n",
       "  <thead>\n",
       "    <tr style=\"text-align: right;\">\n",
       "      <th></th>\n",
       "      <th>author</th>\n",
       "      <th>content</th>\n",
       "      <th>date</th>\n",
       "      <th>path</th>\n",
       "      <th>star_score</th>\n",
       "      <th>subject</th>\n",
       "    </tr>\n",
       "  </thead>\n",
       "  <tbody>\n",
       "    <tr>\n",
       "      <th>0</th>\n",
       "      <td>ehdr****님</td>\n",
       "      <td>개봉하자말자 이어폰 양쪽 둘다 들리더니 갑자기 오른쪽이 안들림 또 되다가 안되다가 ...</td>\n",
       "      <td>2019.02.20.</td>\n",
       "      <td>엘롯데</td>\n",
       "      <td>1</td>\n",
       "      <td>개봉하자말자 이어폰 양쪽 둘다 들리더니 갑자기 오른쪽이 안들림 또 되다가 안되다가 ...</td>\n",
       "    </tr>\n",
       "    <tr>\n",
       "      <th>1</th>\n",
       "      <td>mous****님</td>\n",
       "      <td>남자친구 선물로 구매했는데 열어보더니 중고 아니냐고 하더군여 저도 봤는데 원래 마감...</td>\n",
       "      <td>2019.03.26.</td>\n",
       "      <td>M mall</td>\n",
       "      <td>1</td>\n",
       "      <td>남자친구 선물로 구매했는데 열어보더니 중고 아니냐고 하더군여 저도 봤는데 원래 마감...</td>\n",
       "    </tr>\n",
       "    <tr>\n",
       "      <th>2</th>\n",
       "      <td>leem****님</td>\n",
       "      <td>동생 선물주려고 구입했는데 다른 에어팟 기기처럼 바로 연결이 안돼서 밤새 연결 해보...</td>\n",
       "      <td>2019.05.10.</td>\n",
       "      <td>에스투피</td>\n",
       "      <td>1</td>\n",
       "      <td>동생 선물주려고 구입했는데 다른 에어팟 기기처럼 바로 연결이 안돼서 밤새 연결 해보...</td>\n",
       "    </tr>\n",
       "  </tbody>\n",
       "</table>\n",
       "</div>"
      ],
      "text/plain": [
       "      author                                            content         date  \\\n",
       "0  ehdr****님  개봉하자말자 이어폰 양쪽 둘다 들리더니 갑자기 오른쪽이 안들림 또 되다가 안되다가 ...  2019.02.20.   \n",
       "1  mous****님  남자친구 선물로 구매했는데 열어보더니 중고 아니냐고 하더군여 저도 봤는데 원래 마감...  2019.03.26.   \n",
       "2  leem****님  동생 선물주려고 구입했는데 다른 에어팟 기기처럼 바로 연결이 안돼서 밤새 연결 해보...  2019.05.10.   \n",
       "\n",
       "     path  star_score                                            subject  \n",
       "0     엘롯데           1  개봉하자말자 이어폰 양쪽 둘다 들리더니 갑자기 오른쪽이 안들림 또 되다가 안되다가 ...  \n",
       "1  M mall           1  남자친구 선물로 구매했는데 열어보더니 중고 아니냐고 하더군여 저도 봤는데 원래 마감...  \n",
       "2    에스투피           1  동생 선물주려고 구입했는데 다른 에어팟 기기처럼 바로 연결이 안돼서 밤새 연결 해보...  "
      ]
     },
     "execution_count": 105,
     "metadata": {},
     "output_type": "execute_result"
    }
   ],
   "source": [
    "df_comment = pd.DataFrame(commnet_list)\n",
    "print(df_comment.shape)\n",
    "df_comment.head(3)"
   ]
  },
  {
   "cell_type": "code",
   "execution_count": 109,
   "metadata": {},
   "outputs": [],
   "source": [
    "def get_review_list(nvMid, page=1, reviewSort='accuracy', reviewType = 'all', topicCode=None\n",
    "                   ,score = None):\n",
    "\n",
    "    review_list_url = 'https://search.shopping.naver.com/detail/review_list.nhn'\n",
    "    params = {\n",
    "        \"nvMid\" : nvMid,\n",
    "        \"page\" : page,\n",
    "        \"reviewSort\" : reviewSort, # 랭킹순(accuracy), 최신순(registration)\n",
    "        \"reviewType\" : reviewType, # 전체(all). 포토리뷰(photo)\n",
    "        \"ligh\" : \"true\",\n",
    "    }\n",
    "    \n",
    "    if topicCode:\n",
    "        params['topicCode'] = topicCode\n",
    "    if score:\n",
    "        params['score'] = score\n",
    "    \n",
    "    res = requests.post(review_list_url, params=params) # get에서 post로 변경\n",
    "    html = res.text\n",
    "    soup = BeautifulSoup(html, 'html.parser')\n",
    "    tag_list = soup.select('#_review_list > li')\n",
    "    \n",
    "    commnet_list = []\n",
    "    for tag in tag_list:\n",
    "        star_score = int(tag.select_one('.curr_avg').text)\n",
    "        path = tag.select_one('.info .path').text # 쇼핑몰\n",
    "        author = tag.select_one('.info .name').text # 구매자\n",
    "        date = tag.select_one('.date').text # 작성날짜\n",
    "        subject = tag.select_one('.subjcet, .subject').text.strip() #css 선택자에서 ,(쉼표)는 or의 용도로 오타가 있는경우를 대비해서 입력해줌\n",
    "        content = tag.select_one('.atc').text.strip()\n",
    "        comment = {\n",
    "            'star_score' : star_score,\n",
    "            'path' : path,\n",
    "            'author' : author,\n",
    "            'date' : date,\n",
    "            'subject' : subject,\n",
    "            'content' : content,\n",
    "        }\n",
    "        commnet_list.append(comment)\n",
    "\n",
    "    return commnet_list "
   ]
  },
  {
   "cell_type": "code",
   "execution_count": 110,
   "metadata": {},
   "outputs": [
    {
     "data": {
      "text/plain": [
       "<function __main__.get_review_list(nvMid, page=1, reviewSort='accuracy', reviewType='all', topicCode=None, score=None)>"
      ]
     },
     "execution_count": 110,
     "metadata": {},
     "output_type": "execute_result"
    }
   ],
   "source": [
    "get_review_list"
   ]
  },
  {
   "cell_type": "code",
   "execution_count": 113,
   "metadata": {},
   "outputs": [
    {
     "data": {
      "text/plain": [
       "category_list           ['디지털/가전', '음향가전', '블루투스셋', '블루투스이어폰/이어셋']\n",
       "create_at                                                 2019.04.\n",
       "img_url          https://shopping-phinf.pstatic.net/main_184837...\n",
       "is_ad                                                        False\n",
       "name                                             해외애플 에어팟 2세대 무선충전\n",
       "nv_mid                                                 18483728924\n",
       "price                                                       235320\n",
       "review_count                                                   108\n",
       "spec_dict         {'종류': '이어셋', '용도': '통화+음악감상겸용', '무선방식': '블루투스'}\n",
       "star+score                                                     4.9\n",
       "url              http://cr2.shopping.naver.com/adcr.nhn?x=xGh%2...\n",
       "Name: 2, dtype: object"
      ]
     },
     "execution_count": 113,
     "metadata": {},
     "output_type": "execute_result"
    }
   ],
   "source": [
    "df.iloc[2]"
   ]
  },
  {
   "cell_type": "code",
   "execution_count": 117,
   "metadata": {},
   "outputs": [],
   "source": [
    "review_list = get_review_list('18483728924', page=1)"
   ]
  },
  {
   "cell_type": "code",
   "execution_count": 119,
   "metadata": {},
   "outputs": [
    {
     "data": {
      "text/plain": [
       "60"
      ]
     },
     "execution_count": 119,
     "metadata": {},
     "output_type": "execute_result"
    }
   ],
   "source": [
    "import time\n",
    "\n",
    "review_list = []\n",
    "for page in range(1,4):\n",
    "    review_list.extend(get_review_list('18483728924', page=1))\n",
    "    time.sleep(0.1)\n",
    "len(review_list)"
   ]
  },
  {
   "cell_type": "code",
   "execution_count": 120,
   "metadata": {},
   "outputs": [
    {
     "name": "stdout",
     "output_type": "stream",
     "text": [
      "(60, 6)\n"
     ]
    },
    {
     "data": {
      "text/html": [
       "<div>\n",
       "<style scoped>\n",
       "    .dataframe tbody tr th:only-of-type {\n",
       "        vertical-align: middle;\n",
       "    }\n",
       "\n",
       "    .dataframe tbody tr th {\n",
       "        vertical-align: top;\n",
       "    }\n",
       "\n",
       "    .dataframe thead th {\n",
       "        text-align: right;\n",
       "    }\n",
       "</style>\n",
       "<table border=\"1\" class=\"dataframe\">\n",
       "  <thead>\n",
       "    <tr style=\"text-align: right;\">\n",
       "      <th></th>\n",
       "      <th>author</th>\n",
       "      <th>content</th>\n",
       "      <th>date</th>\n",
       "      <th>path</th>\n",
       "      <th>star_score</th>\n",
       "      <th>subject</th>\n",
       "    </tr>\n",
       "  </thead>\n",
       "  <tbody>\n",
       "    <tr>\n",
       "      <th>0</th>\n",
       "      <td>hell****님</td>\n",
       "      <td>5월 7일 주문해서 5월 10일에 물건을 받았습니다. 배송 진짜 빠르네요. 해외 배...</td>\n",
       "      <td>2019.05.11.</td>\n",
       "      <td>민트홍콩</td>\n",
       "      <td>5</td>\n",
       "      <td>5월 7일 주문해서 5월 10일에 물건을 받았습니다. 배송 진짜 빠르네요. 해외 배...</td>\n",
       "    </tr>\n",
       "    <tr>\n",
       "      <th>1</th>\n",
       "      <td>dms*****님</td>\n",
       "      <td>6일 밤에 주문했는데 11일 오후에 왔어요 중국 노동절에 해외배송인데도 개인적으로 ...</td>\n",
       "      <td>2019.05.11.</td>\n",
       "      <td>위메프</td>\n",
       "      <td>5</td>\n",
       "      <td>6일 밤에 주문했는데 11일 오후에 왔어요 중국 노동절에 해외배송인데도 개인적으로 ...</td>\n",
       "    </tr>\n",
       "    <tr>\n",
       "      <th>2</th>\n",
       "      <td>ovo0****님</td>\n",
       "      <td>구입하고 4일만에 배송왔어요. 정품 등록도 구입한날로하니 됩니다. 왜 지금까지 망설...</td>\n",
       "      <td>2019.05.10.</td>\n",
       "      <td>민트홍콩</td>\n",
       "      <td>5</td>\n",
       "      <td>구입하고 4일만에 배송왔어요. 정품 등록도 구입한날로하니 됩니다. 왜 지금까지 망설...</td>\n",
       "    </tr>\n",
       "  </tbody>\n",
       "</table>\n",
       "</div>"
      ],
      "text/plain": [
       "      author                                            content         date  \\\n",
       "0  hell****님  5월 7일 주문해서 5월 10일에 물건을 받았습니다. 배송 진짜 빠르네요. 해외 배...  2019.05.11.   \n",
       "1  dms*****님  6일 밤에 주문했는데 11일 오후에 왔어요 중국 노동절에 해외배송인데도 개인적으로 ...  2019.05.11.   \n",
       "2  ovo0****님  구입하고 4일만에 배송왔어요. 정품 등록도 구입한날로하니 됩니다. 왜 지금까지 망설...  2019.05.10.   \n",
       "\n",
       "   path  star_score                                            subject  \n",
       "0  민트홍콩           5  5월 7일 주문해서 5월 10일에 물건을 받았습니다. 배송 진짜 빠르네요. 해외 배...  \n",
       "1   위메프           5  6일 밤에 주문했는데 11일 오후에 왔어요 중국 노동절에 해외배송인데도 개인적으로 ...  \n",
       "2  민트홍콩           5  구입하고 4일만에 배송왔어요. 정품 등록도 구입한날로하니 됩니다. 왜 지금까지 망설...  "
      ]
     },
     "execution_count": 120,
     "metadata": {},
     "output_type": "execute_result"
    }
   ],
   "source": [
    "df_review_list = pd.DataFrame(review_list)\n",
    "print(df_review_list.shape)\n",
    "df_review_list.head(3)"
   ]
  },
  {
   "cell_type": "code",
   "execution_count": 126,
   "metadata": {},
   "outputs": [
    {
     "data": {
      "text/html": [
       "<div>\n",
       "<style scoped>\n",
       "    .dataframe tbody tr th:only-of-type {\n",
       "        vertical-align: middle;\n",
       "    }\n",
       "\n",
       "    .dataframe tbody tr th {\n",
       "        vertical-align: top;\n",
       "    }\n",
       "\n",
       "    .dataframe thead th {\n",
       "        text-align: right;\n",
       "    }\n",
       "</style>\n",
       "<table border=\"1\" class=\"dataframe\">\n",
       "  <thead>\n",
       "    <tr style=\"text-align: right;\">\n",
       "      <th></th>\n",
       "      <th>author</th>\n",
       "      <th>content</th>\n",
       "      <th>date</th>\n",
       "      <th>path</th>\n",
       "      <th>star_score</th>\n",
       "      <th>subject</th>\n",
       "    </tr>\n",
       "  </thead>\n",
       "  <tbody>\n",
       "    <tr>\n",
       "      <th>27</th>\n",
       "      <td>minv****님</td>\n",
       "      <td>배송도너무빠르고 상품도좋아여</td>\n",
       "      <td>2019.05.12.</td>\n",
       "      <td>민트홍콩</td>\n",
       "      <td>5</td>\n",
       "      <td>배송도너무빠르고 상품도좋아여</td>\n",
       "    </tr>\n",
       "    <tr>\n",
       "      <th>53</th>\n",
       "      <td>fufu****님</td>\n",
       "      <td>이건 머 말이필요없쥬배송 엄청 빠르고 그냥 아주..짱입니다요.</td>\n",
       "      <td>2019.05.12.</td>\n",
       "      <td>민트홍콩</td>\n",
       "      <td>5</td>\n",
       "      <td>이건 머 말이필요없쥬배송 엄청 빠르고 그냥 아주..짱입니다요.</td>\n",
       "    </tr>\n",
       "    <tr>\n",
       "      <th>13</th>\n",
       "      <td>fufu****님</td>\n",
       "      <td>이건 머 말이필요없쥬배송 엄청 빠르고 그냥 아주..짱입니다요.</td>\n",
       "      <td>2019.05.12.</td>\n",
       "      <td>민트홍콩</td>\n",
       "      <td>5</td>\n",
       "      <td>이건 머 말이필요없쥬배송 엄청 빠르고 그냥 아주..짱입니다요.</td>\n",
       "    </tr>\n",
       "    <tr>\n",
       "      <th>47</th>\n",
       "      <td>minv****님</td>\n",
       "      <td>배송도너무빠르고 상품도좋아여</td>\n",
       "      <td>2019.05.12.</td>\n",
       "      <td>민트홍콩</td>\n",
       "      <td>5</td>\n",
       "      <td>배송도너무빠르고 상품도좋아여</td>\n",
       "    </tr>\n",
       "    <tr>\n",
       "      <th>7</th>\n",
       "      <td>minv****님</td>\n",
       "      <td>배송도너무빠르고 상품도좋아여</td>\n",
       "      <td>2019.05.12.</td>\n",
       "      <td>민트홍콩</td>\n",
       "      <td>5</td>\n",
       "      <td>배송도너무빠르고 상품도좋아여</td>\n",
       "    </tr>\n",
       "    <tr>\n",
       "      <th>33</th>\n",
       "      <td>fufu****님</td>\n",
       "      <td>이건 머 말이필요없쥬배송 엄청 빠르고 그냥 아주..짱입니다요.</td>\n",
       "      <td>2019.05.12.</td>\n",
       "      <td>민트홍콩</td>\n",
       "      <td>5</td>\n",
       "      <td>이건 머 말이필요없쥬배송 엄청 빠르고 그냥 아주..짱입니다요.</td>\n",
       "    </tr>\n",
       "    <tr>\n",
       "      <th>0</th>\n",
       "      <td>hell****님</td>\n",
       "      <td>5월 7일 주문해서 5월 10일에 물건을 받았습니다. 배송 진짜 빠르네요. 해외 배...</td>\n",
       "      <td>2019.05.11.</td>\n",
       "      <td>민트홍콩</td>\n",
       "      <td>5</td>\n",
       "      <td>5월 7일 주문해서 5월 10일에 물건을 받았습니다. 배송 진짜 빠르네요. 해외 배...</td>\n",
       "    </tr>\n",
       "    <tr>\n",
       "      <th>40</th>\n",
       "      <td>hell****님</td>\n",
       "      <td>5월 7일 주문해서 5월 10일에 물건을 받았습니다. 배송 진짜 빠르네요. 해외 배...</td>\n",
       "      <td>2019.05.11.</td>\n",
       "      <td>민트홍콩</td>\n",
       "      <td>5</td>\n",
       "      <td>5월 7일 주문해서 5월 10일에 물건을 받았습니다. 배송 진짜 빠르네요. 해외 배...</td>\n",
       "    </tr>\n",
       "    <tr>\n",
       "      <th>1</th>\n",
       "      <td>dms*****님</td>\n",
       "      <td>6일 밤에 주문했는데 11일 오후에 왔어요 중국 노동절에 해외배송인데도 개인적으로 ...</td>\n",
       "      <td>2019.05.11.</td>\n",
       "      <td>위메프</td>\n",
       "      <td>5</td>\n",
       "      <td>6일 밤에 주문했는데 11일 오후에 왔어요 중국 노동절에 해외배송인데도 개인적으로 ...</td>\n",
       "    </tr>\n",
       "    <tr>\n",
       "      <th>41</th>\n",
       "      <td>dms*****님</td>\n",
       "      <td>6일 밤에 주문했는데 11일 오후에 왔어요 중국 노동절에 해외배송인데도 개인적으로 ...</td>\n",
       "      <td>2019.05.11.</td>\n",
       "      <td>위메프</td>\n",
       "      <td>5</td>\n",
       "      <td>6일 밤에 주문했는데 11일 오후에 왔어요 중국 노동절에 해외배송인데도 개인적으로 ...</td>\n",
       "    </tr>\n",
       "    <tr>\n",
       "      <th>20</th>\n",
       "      <td>hell****님</td>\n",
       "      <td>5월 7일 주문해서 5월 10일에 물건을 받았습니다. 배송 진짜 빠르네요. 해외 배...</td>\n",
       "      <td>2019.05.11.</td>\n",
       "      <td>민트홍콩</td>\n",
       "      <td>5</td>\n",
       "      <td>5월 7일 주문해서 5월 10일에 물건을 받았습니다. 배송 진짜 빠르네요. 해외 배...</td>\n",
       "    </tr>\n",
       "    <tr>\n",
       "      <th>21</th>\n",
       "      <td>dms*****님</td>\n",
       "      <td>6일 밤에 주문했는데 11일 오후에 왔어요 중국 노동절에 해외배송인데도 개인적으로 ...</td>\n",
       "      <td>2019.05.11.</td>\n",
       "      <td>위메프</td>\n",
       "      <td>5</td>\n",
       "      <td>6일 밤에 주문했는데 11일 오후에 왔어요 중국 노동절에 해외배송인데도 개인적으로 ...</td>\n",
       "    </tr>\n",
       "    <tr>\n",
       "      <th>35</th>\n",
       "      <td>hotg****님</td>\n",
       "      <td>선물 하려고 산건데 엄청 좋아하네요배송 진짜 빨라요</td>\n",
       "      <td>2019.05.10.</td>\n",
       "      <td>민트홍콩</td>\n",
       "      <td>5</td>\n",
       "      <td>선물 하려고 산건데 엄청 좋아하네요배송 진짜 빨라요</td>\n",
       "    </tr>\n",
       "    <tr>\n",
       "      <th>42</th>\n",
       "      <td>ovo0****님</td>\n",
       "      <td>구입하고 4일만에 배송왔어요. 정품 등록도 구입한날로하니 됩니다. 왜 지금까지 망설...</td>\n",
       "      <td>2019.05.10.</td>\n",
       "      <td>민트홍콩</td>\n",
       "      <td>5</td>\n",
       "      <td>구입하고 4일만에 배송왔어요. 정품 등록도 구입한날로하니 됩니다. 왜 지금까지 망설...</td>\n",
       "    </tr>\n",
       "    <tr>\n",
       "      <th>48</th>\n",
       "      <td>rin1****님</td>\n",
       "      <td>7일 오후 12시 결제 10일 오후 12시 도착공홈 품절이라 후기에 빠르다는 리뷰 ...</td>\n",
       "      <td>2019.05.10.</td>\n",
       "      <td>민트홍콩</td>\n",
       "      <td>5</td>\n",
       "      <td>7일 오후 12시 결제 10일 오후 12시 도착공홈 품절이라 후기에 빠르다는 리뷰 ...</td>\n",
       "    </tr>\n",
       "    <tr>\n",
       "      <th>50</th>\n",
       "      <td>dayw****님</td>\n",
       "      <td>병원에 있어서 늦게 받았지만 직구치고빠른배송에 놀라고 성능에 놀랍니다</td>\n",
       "      <td>2019.05.10.</td>\n",
       "      <td>민트홍콩</td>\n",
       "      <td>5</td>\n",
       "      <td>병원에 있어서 늦게 받았지만 직구치고빠른배송에 놀라고 성능에 놀랍니다</td>\n",
       "    </tr>\n",
       "    <tr>\n",
       "      <th>28</th>\n",
       "      <td>rin1****님</td>\n",
       "      <td>7일 오후 12시 결제 10일 오후 12시 도착공홈 품절이라 후기에 빠르다는 리뷰 ...</td>\n",
       "      <td>2019.05.10.</td>\n",
       "      <td>민트홍콩</td>\n",
       "      <td>5</td>\n",
       "      <td>7일 오후 12시 결제 10일 오후 12시 도착공홈 품절이라 후기에 빠르다는 리뷰 ...</td>\n",
       "    </tr>\n",
       "    <tr>\n",
       "      <th>55</th>\n",
       "      <td>hotg****님</td>\n",
       "      <td>선물 하려고 산건데 엄청 좋아하네요배송 진짜 빨라요</td>\n",
       "      <td>2019.05.10.</td>\n",
       "      <td>민트홍콩</td>\n",
       "      <td>5</td>\n",
       "      <td>선물 하려고 산건데 엄청 좋아하네요배송 진짜 빨라요</td>\n",
       "    </tr>\n",
       "    <tr>\n",
       "      <th>22</th>\n",
       "      <td>ovo0****님</td>\n",
       "      <td>구입하고 4일만에 배송왔어요. 정품 등록도 구입한날로하니 됩니다. 왜 지금까지 망설...</td>\n",
       "      <td>2019.05.10.</td>\n",
       "      <td>민트홍콩</td>\n",
       "      <td>5</td>\n",
       "      <td>구입하고 4일만에 배송왔어요. 정품 등록도 구입한날로하니 됩니다. 왜 지금까지 망설...</td>\n",
       "    </tr>\n",
       "    <tr>\n",
       "      <th>30</th>\n",
       "      <td>dayw****님</td>\n",
       "      <td>병원에 있어서 늦게 받았지만 직구치고빠른배송에 놀라고 성능에 놀랍니다</td>\n",
       "      <td>2019.05.10.</td>\n",
       "      <td>민트홍콩</td>\n",
       "      <td>5</td>\n",
       "      <td>병원에 있어서 늦게 받았지만 직구치고빠른배송에 놀라고 성능에 놀랍니다</td>\n",
       "    </tr>\n",
       "    <tr>\n",
       "      <th>10</th>\n",
       "      <td>dayw****님</td>\n",
       "      <td>병원에 있어서 늦게 받았지만 직구치고빠른배송에 놀라고 성능에 놀랍니다</td>\n",
       "      <td>2019.05.10.</td>\n",
       "      <td>민트홍콩</td>\n",
       "      <td>5</td>\n",
       "      <td>병원에 있어서 늦게 받았지만 직구치고빠른배송에 놀라고 성능에 놀랍니다</td>\n",
       "    </tr>\n",
       "    <tr>\n",
       "      <th>8</th>\n",
       "      <td>rin1****님</td>\n",
       "      <td>7일 오후 12시 결제 10일 오후 12시 도착공홈 품절이라 후기에 빠르다는 리뷰 ...</td>\n",
       "      <td>2019.05.10.</td>\n",
       "      <td>민트홍콩</td>\n",
       "      <td>5</td>\n",
       "      <td>7일 오후 12시 결제 10일 오후 12시 도착공홈 품절이라 후기에 빠르다는 리뷰 ...</td>\n",
       "    </tr>\n",
       "    <tr>\n",
       "      <th>2</th>\n",
       "      <td>ovo0****님</td>\n",
       "      <td>구입하고 4일만에 배송왔어요. 정품 등록도 구입한날로하니 됩니다. 왜 지금까지 망설...</td>\n",
       "      <td>2019.05.10.</td>\n",
       "      <td>민트홍콩</td>\n",
       "      <td>5</td>\n",
       "      <td>구입하고 4일만에 배송왔어요. 정품 등록도 구입한날로하니 됩니다. 왜 지금까지 망설...</td>\n",
       "    </tr>\n",
       "    <tr>\n",
       "      <th>15</th>\n",
       "      <td>hotg****님</td>\n",
       "      <td>선물 하려고 산건데 엄청 좋아하네요배송 진짜 빨라요</td>\n",
       "      <td>2019.05.10.</td>\n",
       "      <td>민트홍콩</td>\n",
       "      <td>5</td>\n",
       "      <td>선물 하려고 산건데 엄청 좋아하네요배송 진짜 빨라요</td>\n",
       "    </tr>\n",
       "    <tr>\n",
       "      <th>46</th>\n",
       "      <td>grbg****님</td>\n",
       "      <td>빠른배송, 제품 모두 만족입니다!</td>\n",
       "      <td>2019.05.09.</td>\n",
       "      <td>민트홍콩</td>\n",
       "      <td>5</td>\n",
       "      <td>빠른배송, 제품 모두 만족입니다!</td>\n",
       "    </tr>\n",
       "    <tr>\n",
       "      <th>6</th>\n",
       "      <td>grbg****님</td>\n",
       "      <td>빠른배송, 제품 모두 만족입니다!</td>\n",
       "      <td>2019.05.09.</td>\n",
       "      <td>민트홍콩</td>\n",
       "      <td>5</td>\n",
       "      <td>빠른배송, 제품 모두 만족입니다!</td>\n",
       "    </tr>\n",
       "    <tr>\n",
       "      <th>49</th>\n",
       "      <td>taeh****님</td>\n",
       "      <td>배송은 빨라서 좋네요.구매날짜가 20일전꺼라 리퍼기간이 짧아지는게 아쉽지만 그래도 ...</td>\n",
       "      <td>2019.05.09.</td>\n",
       "      <td>민트홍콩</td>\n",
       "      <td>4</td>\n",
       "      <td>배송은 빨라서 좋네요.구매날짜가 20일전꺼라 리퍼기간이 짧아지는게 아쉽지만 그래도 ...</td>\n",
       "    </tr>\n",
       "    <tr>\n",
       "      <th>36</th>\n",
       "      <td>doub****님</td>\n",
       "      <td>빠르네요.일욜오후주문했는데요.수욜에오니 좋네요.아이폰에 바로접속되고 좋아요</td>\n",
       "      <td>2019.05.09.</td>\n",
       "      <td>민트홍콩</td>\n",
       "      <td>5</td>\n",
       "      <td>빠르네요.일욜오후주문했는데요.수욜에오니 좋네요.아이폰에 바로접속되고 좋아요</td>\n",
       "    </tr>\n",
       "    <tr>\n",
       "      <th>11</th>\n",
       "      <td>naba****님</td>\n",
       "      <td>좋아요 에어팟1을 쓰고있었는데 기분탓인지 2가 음량도 풍부하고 좋네요</td>\n",
       "      <td>2019.05.09.</td>\n",
       "      <td>민트홍콩</td>\n",
       "      <td>5</td>\n",
       "      <td>좋아요 에어팟1을 쓰고있었는데 기분탓인지 2가 음량도 풍부하고 좋네요</td>\n",
       "    </tr>\n",
       "    <tr>\n",
       "      <th>51</th>\n",
       "      <td>naba****님</td>\n",
       "      <td>좋아요 에어팟1을 쓰고있었는데 기분탓인지 2가 음량도 풍부하고 좋네요</td>\n",
       "      <td>2019.05.09.</td>\n",
       "      <td>민트홍콩</td>\n",
       "      <td>5</td>\n",
       "      <td>좋아요 에어팟1을 쓰고있었는데 기분탓인지 2가 음량도 풍부하고 좋네요</td>\n",
       "    </tr>\n",
       "    <tr>\n",
       "      <th>31</th>\n",
       "      <td>naba****님</td>\n",
       "      <td>좋아요 에어팟1을 쓰고있었는데 기분탓인지 2가 음량도 풍부하고 좋네요</td>\n",
       "      <td>2019.05.09.</td>\n",
       "      <td>민트홍콩</td>\n",
       "      <td>5</td>\n",
       "      <td>좋아요 에어팟1을 쓰고있었는데 기분탓인지 2가 음량도 풍부하고 좋네요</td>\n",
       "    </tr>\n",
       "    <tr>\n",
       "      <th>29</th>\n",
       "      <td>taeh****님</td>\n",
       "      <td>배송은 빨라서 좋네요.구매날짜가 20일전꺼라 리퍼기간이 짧아지는게 아쉽지만 그래도 ...</td>\n",
       "      <td>2019.05.09.</td>\n",
       "      <td>민트홍콩</td>\n",
       "      <td>4</td>\n",
       "      <td>배송은 빨라서 좋네요.구매날짜가 20일전꺼라 리퍼기간이 짧아지는게 아쉽지만 그래도 ...</td>\n",
       "    </tr>\n",
       "    <tr>\n",
       "      <th>16</th>\n",
       "      <td>doub****님</td>\n",
       "      <td>빠르네요.일욜오후주문했는데요.수욜에오니 좋네요.아이폰에 바로접속되고 좋아요</td>\n",
       "      <td>2019.05.09.</td>\n",
       "      <td>민트홍콩</td>\n",
       "      <td>5</td>\n",
       "      <td>빠르네요.일욜오후주문했는데요.수욜에오니 좋네요.아이폰에 바로접속되고 좋아요</td>\n",
       "    </tr>\n",
       "    <tr>\n",
       "      <th>26</th>\n",
       "      <td>grbg****님</td>\n",
       "      <td>빠른배송, 제품 모두 만족입니다!</td>\n",
       "      <td>2019.05.09.</td>\n",
       "      <td>민트홍콩</td>\n",
       "      <td>5</td>\n",
       "      <td>빠른배송, 제품 모두 만족입니다!</td>\n",
       "    </tr>\n",
       "    <tr>\n",
       "      <th>56</th>\n",
       "      <td>doub****님</td>\n",
       "      <td>빠르네요.일욜오후주문했는데요.수욜에오니 좋네요.아이폰에 바로접속되고 좋아요</td>\n",
       "      <td>2019.05.09.</td>\n",
       "      <td>민트홍콩</td>\n",
       "      <td>5</td>\n",
       "      <td>빠르네요.일욜오후주문했는데요.수욜에오니 좋네요.아이폰에 바로접속되고 좋아요</td>\n",
       "    </tr>\n",
       "    <tr>\n",
       "      <th>9</th>\n",
       "      <td>taeh****님</td>\n",
       "      <td>배송은 빨라서 좋네요.구매날짜가 20일전꺼라 리퍼기간이 짧아지는게 아쉽지만 그래도 ...</td>\n",
       "      <td>2019.05.09.</td>\n",
       "      <td>민트홍콩</td>\n",
       "      <td>4</td>\n",
       "      <td>배송은 빨라서 좋네요.구매날짜가 20일전꺼라 리퍼기간이 짧아지는게 아쉽지만 그래도 ...</td>\n",
       "    </tr>\n",
       "    <tr>\n",
       "      <th>54</th>\n",
       "      <td>tvst****님</td>\n",
       "      <td>홍콩이라고해서 일주일예상했는데배송빠르고 아주좋아요~</td>\n",
       "      <td>2019.05.08.</td>\n",
       "      <td>민트홍콩</td>\n",
       "      <td>5</td>\n",
       "      <td>홍콩이라고해서 일주일예상했는데배송빠르고 아주좋아요~</td>\n",
       "    </tr>\n",
       "    <tr>\n",
       "      <th>52</th>\n",
       "      <td>lsc4****님</td>\n",
       "      <td>배송이 정말 빠른 것 같아요! 주말 포함해서 3일?4일 만에 받았네요 ^^</td>\n",
       "      <td>2019.05.08.</td>\n",
       "      <td>민트홍콩</td>\n",
       "      <td>5</td>\n",
       "      <td>배송이 정말 빠른 것 같아요! 주말 포함해서 3일?4일 만에 받았네요 ^^</td>\n",
       "    </tr>\n",
       "    <tr>\n",
       "      <th>4</th>\n",
       "      <td>lmin****님</td>\n",
       "      <td>받자마자 개봉 페어링 속도도 엄청빠름 잘들림 좋음 말이필요없음</td>\n",
       "      <td>2019.05.08.</td>\n",
       "      <td>민트홍콩</td>\n",
       "      <td>5</td>\n",
       "      <td>받자마자 개봉 페어링 속도도 엄청빠름 잘들림 좋음 말이필요없음</td>\n",
       "    </tr>\n",
       "    <tr>\n",
       "      <th>57</th>\n",
       "      <td>whr0****님</td>\n",
       "      <td>정말 총알 배송이네요. 품질은 뭐 말 안 해도 ❤️</td>\n",
       "      <td>2019.05.08.</td>\n",
       "      <td>민트홍콩</td>\n",
       "      <td>5</td>\n",
       "      <td>정말 총알 배송이네요. 품질은 뭐 말 안 해도 ❤️</td>\n",
       "    </tr>\n",
       "    <tr>\n",
       "      <th>58</th>\n",
       "      <td>jsh3****님</td>\n",
       "      <td>금요일에 시켜서 수요일에 도착햇어요 중간에 어린이날 대체휴무도 끼어잇엇는데 배송 빠...</td>\n",
       "      <td>2019.05.08.</td>\n",
       "      <td>옥션</td>\n",
       "      <td>5</td>\n",
       "      <td>에어팟 2세대 무선충전</td>\n",
       "    </tr>\n",
       "    <tr>\n",
       "      <th>44</th>\n",
       "      <td>lmin****님</td>\n",
       "      <td>받자마자 개봉 페어링 속도도 엄청빠름 잘들림 좋음 말이필요없음</td>\n",
       "      <td>2019.05.08.</td>\n",
       "      <td>민트홍콩</td>\n",
       "      <td>5</td>\n",
       "      <td>받자마자 개봉 페어링 속도도 엄청빠름 잘들림 좋음 말이필요없음</td>\n",
       "    </tr>\n",
       "    <tr>\n",
       "      <th>19</th>\n",
       "      <td>god8****님</td>\n",
       "      <td>넘 좋네요 연휴가껴서 좀 기다리긴 했지만 ㅠㅠ</td>\n",
       "      <td>2019.05.08.</td>\n",
       "      <td>민트홍콩</td>\n",
       "      <td>5</td>\n",
       "      <td>넘 좋네요 연휴가껴서 좀 기다리긴 했지만 ㅠㅠ</td>\n",
       "    </tr>\n",
       "    <tr>\n",
       "      <th>12</th>\n",
       "      <td>lsc4****님</td>\n",
       "      <td>배송이 정말 빠른 것 같아요! 주말 포함해서 3일?4일 만에 받았네요 ^^</td>\n",
       "      <td>2019.05.08.</td>\n",
       "      <td>민트홍콩</td>\n",
       "      <td>5</td>\n",
       "      <td>배송이 정말 빠른 것 같아요! 주말 포함해서 3일?4일 만에 받았네요 ^^</td>\n",
       "    </tr>\n",
       "    <tr>\n",
       "      <th>34</th>\n",
       "      <td>tvst****님</td>\n",
       "      <td>홍콩이라고해서 일주일예상했는데배송빠르고 아주좋아요~</td>\n",
       "      <td>2019.05.08.</td>\n",
       "      <td>민트홍콩</td>\n",
       "      <td>5</td>\n",
       "      <td>홍콩이라고해서 일주일예상했는데배송빠르고 아주좋아요~</td>\n",
       "    </tr>\n",
       "    <tr>\n",
       "      <th>17</th>\n",
       "      <td>whr0****님</td>\n",
       "      <td>정말 총알 배송이네요. 품질은 뭐 말 안 해도 ❤️</td>\n",
       "      <td>2019.05.08.</td>\n",
       "      <td>민트홍콩</td>\n",
       "      <td>5</td>\n",
       "      <td>정말 총알 배송이네요. 품질은 뭐 말 안 해도 ❤️</td>\n",
       "    </tr>\n",
       "    <tr>\n",
       "      <th>24</th>\n",
       "      <td>lmin****님</td>\n",
       "      <td>받자마자 개봉 페어링 속도도 엄청빠름 잘들림 좋음 말이필요없음</td>\n",
       "      <td>2019.05.08.</td>\n",
       "      <td>민트홍콩</td>\n",
       "      <td>5</td>\n",
       "      <td>받자마자 개봉 페어링 속도도 엄청빠름 잘들림 좋음 말이필요없음</td>\n",
       "    </tr>\n",
       "    <tr>\n",
       "      <th>14</th>\n",
       "      <td>tvst****님</td>\n",
       "      <td>홍콩이라고해서 일주일예상했는데배송빠르고 아주좋아요~</td>\n",
       "      <td>2019.05.08.</td>\n",
       "      <td>민트홍콩</td>\n",
       "      <td>5</td>\n",
       "      <td>홍콩이라고해서 일주일예상했는데배송빠르고 아주좋아요~</td>\n",
       "    </tr>\n",
       "    <tr>\n",
       "      <th>32</th>\n",
       "      <td>lsc4****님</td>\n",
       "      <td>배송이 정말 빠른 것 같아요! 주말 포함해서 3일?4일 만에 받았네요 ^^</td>\n",
       "      <td>2019.05.08.</td>\n",
       "      <td>민트홍콩</td>\n",
       "      <td>5</td>\n",
       "      <td>배송이 정말 빠른 것 같아요! 주말 포함해서 3일?4일 만에 받았네요 ^^</td>\n",
       "    </tr>\n",
       "    <tr>\n",
       "      <th>18</th>\n",
       "      <td>jsh3****님</td>\n",
       "      <td>금요일에 시켜서 수요일에 도착햇어요 중간에 어린이날 대체휴무도 끼어잇엇는데 배송 빠...</td>\n",
       "      <td>2019.05.08.</td>\n",
       "      <td>옥션</td>\n",
       "      <td>5</td>\n",
       "      <td>에어팟 2세대 무선충전</td>\n",
       "    </tr>\n",
       "    <tr>\n",
       "      <th>59</th>\n",
       "      <td>god8****님</td>\n",
       "      <td>넘 좋네요 연휴가껴서 좀 기다리긴 했지만 ㅠㅠ</td>\n",
       "      <td>2019.05.08.</td>\n",
       "      <td>민트홍콩</td>\n",
       "      <td>5</td>\n",
       "      <td>넘 좋네요 연휴가껴서 좀 기다리긴 했지만 ㅠㅠ</td>\n",
       "    </tr>\n",
       "    <tr>\n",
       "      <th>37</th>\n",
       "      <td>whr0****님</td>\n",
       "      <td>정말 총알 배송이네요. 품질은 뭐 말 안 해도 ❤️</td>\n",
       "      <td>2019.05.08.</td>\n",
       "      <td>민트홍콩</td>\n",
       "      <td>5</td>\n",
       "      <td>정말 총알 배송이네요. 품질은 뭐 말 안 해도 ❤️</td>\n",
       "    </tr>\n",
       "    <tr>\n",
       "      <th>38</th>\n",
       "      <td>jsh3****님</td>\n",
       "      <td>금요일에 시켜서 수요일에 도착햇어요 중간에 어린이날 대체휴무도 끼어잇엇는데 배송 빠...</td>\n",
       "      <td>2019.05.08.</td>\n",
       "      <td>옥션</td>\n",
       "      <td>5</td>\n",
       "      <td>에어팟 2세대 무선충전</td>\n",
       "    </tr>\n",
       "    <tr>\n",
       "      <th>39</th>\n",
       "      <td>god8****님</td>\n",
       "      <td>넘 좋네요 연휴가껴서 좀 기다리긴 했지만 ㅠㅠ</td>\n",
       "      <td>2019.05.08.</td>\n",
       "      <td>민트홍콩</td>\n",
       "      <td>5</td>\n",
       "      <td>넘 좋네요 연휴가껴서 좀 기다리긴 했지만 ㅠㅠ</td>\n",
       "    </tr>\n",
       "    <tr>\n",
       "      <th>5</th>\n",
       "      <td>y4r*****님</td>\n",
       "      <td>4.29저녁에 주문해서 오늘 받았어요?. 품질. 가격. 배송. 다 만족합니다. 감사...</td>\n",
       "      <td>2019.05.02.</td>\n",
       "      <td>위메프</td>\n",
       "      <td>5</td>\n",
       "      <td>4.29저녁에 주문해서 오늘 받았어요?. 품질. 가격. 배송. 다 만족합니다. 감사...</td>\n",
       "    </tr>\n",
       "    <tr>\n",
       "      <th>25</th>\n",
       "      <td>y4r*****님</td>\n",
       "      <td>4.29저녁에 주문해서 오늘 받았어요?. 품질. 가격. 배송. 다 만족합니다. 감사...</td>\n",
       "      <td>2019.05.02.</td>\n",
       "      <td>위메프</td>\n",
       "      <td>5</td>\n",
       "      <td>4.29저녁에 주문해서 오늘 받았어요?. 품질. 가격. 배송. 다 만족합니다. 감사...</td>\n",
       "    </tr>\n",
       "    <tr>\n",
       "      <th>45</th>\n",
       "      <td>y4r*****님</td>\n",
       "      <td>4.29저녁에 주문해서 오늘 받았어요?. 품질. 가격. 배송. 다 만족합니다. 감사...</td>\n",
       "      <td>2019.05.02.</td>\n",
       "      <td>위메프</td>\n",
       "      <td>5</td>\n",
       "      <td>4.29저녁에 주문해서 오늘 받았어요?. 품질. 가격. 배송. 다 만족합니다. 감사...</td>\n",
       "    </tr>\n",
       "    <tr>\n",
       "      <th>3</th>\n",
       "      <td>blue****님</td>\n",
       "      <td>배송이 생각보다 일찍 와서 좋습니다. 에어팟이니만큼 품질은 말할 것도 없구요</td>\n",
       "      <td>2019.04.02.</td>\n",
       "      <td>민트홍콩</td>\n",
       "      <td>5</td>\n",
       "      <td>배송이 생각보다 일찍 와서 좋습니다. 에어팟이니만큼 품질은 말할 것도 없구요</td>\n",
       "    </tr>\n",
       "    <tr>\n",
       "      <th>23</th>\n",
       "      <td>blue****님</td>\n",
       "      <td>배송이 생각보다 일찍 와서 좋습니다. 에어팟이니만큼 품질은 말할 것도 없구요</td>\n",
       "      <td>2019.04.02.</td>\n",
       "      <td>민트홍콩</td>\n",
       "      <td>5</td>\n",
       "      <td>배송이 생각보다 일찍 와서 좋습니다. 에어팟이니만큼 품질은 말할 것도 없구요</td>\n",
       "    </tr>\n",
       "    <tr>\n",
       "      <th>43</th>\n",
       "      <td>blue****님</td>\n",
       "      <td>배송이 생각보다 일찍 와서 좋습니다. 에어팟이니만큼 품질은 말할 것도 없구요</td>\n",
       "      <td>2019.04.02.</td>\n",
       "      <td>민트홍콩</td>\n",
       "      <td>5</td>\n",
       "      <td>배송이 생각보다 일찍 와서 좋습니다. 에어팟이니만큼 품질은 말할 것도 없구요</td>\n",
       "    </tr>\n",
       "  </tbody>\n",
       "</table>\n",
       "</div>"
      ],
      "text/plain": [
       "       author                                            content         date  \\\n",
       "27  minv****님                                    배송도너무빠르고 상품도좋아여  2019.05.12.   \n",
       "53  fufu****님                 이건 머 말이필요없쥬배송 엄청 빠르고 그냥 아주..짱입니다요.  2019.05.12.   \n",
       "13  fufu****님                 이건 머 말이필요없쥬배송 엄청 빠르고 그냥 아주..짱입니다요.  2019.05.12.   \n",
       "47  minv****님                                    배송도너무빠르고 상품도좋아여  2019.05.12.   \n",
       "7   minv****님                                    배송도너무빠르고 상품도좋아여  2019.05.12.   \n",
       "33  fufu****님                 이건 머 말이필요없쥬배송 엄청 빠르고 그냥 아주..짱입니다요.  2019.05.12.   \n",
       "0   hell****님  5월 7일 주문해서 5월 10일에 물건을 받았습니다. 배송 진짜 빠르네요. 해외 배...  2019.05.11.   \n",
       "40  hell****님  5월 7일 주문해서 5월 10일에 물건을 받았습니다. 배송 진짜 빠르네요. 해외 배...  2019.05.11.   \n",
       "1   dms*****님  6일 밤에 주문했는데 11일 오후에 왔어요 중국 노동절에 해외배송인데도 개인적으로 ...  2019.05.11.   \n",
       "41  dms*****님  6일 밤에 주문했는데 11일 오후에 왔어요 중국 노동절에 해외배송인데도 개인적으로 ...  2019.05.11.   \n",
       "20  hell****님  5월 7일 주문해서 5월 10일에 물건을 받았습니다. 배송 진짜 빠르네요. 해외 배...  2019.05.11.   \n",
       "21  dms*****님  6일 밤에 주문했는데 11일 오후에 왔어요 중국 노동절에 해외배송인데도 개인적으로 ...  2019.05.11.   \n",
       "35  hotg****님                       선물 하려고 산건데 엄청 좋아하네요배송 진짜 빨라요  2019.05.10.   \n",
       "42  ovo0****님  구입하고 4일만에 배송왔어요. 정품 등록도 구입한날로하니 됩니다. 왜 지금까지 망설...  2019.05.10.   \n",
       "48  rin1****님  7일 오후 12시 결제 10일 오후 12시 도착공홈 품절이라 후기에 빠르다는 리뷰 ...  2019.05.10.   \n",
       "50  dayw****님             병원에 있어서 늦게 받았지만 직구치고빠른배송에 놀라고 성능에 놀랍니다  2019.05.10.   \n",
       "28  rin1****님  7일 오후 12시 결제 10일 오후 12시 도착공홈 품절이라 후기에 빠르다는 리뷰 ...  2019.05.10.   \n",
       "55  hotg****님                       선물 하려고 산건데 엄청 좋아하네요배송 진짜 빨라요  2019.05.10.   \n",
       "22  ovo0****님  구입하고 4일만에 배송왔어요. 정품 등록도 구입한날로하니 됩니다. 왜 지금까지 망설...  2019.05.10.   \n",
       "30  dayw****님             병원에 있어서 늦게 받았지만 직구치고빠른배송에 놀라고 성능에 놀랍니다  2019.05.10.   \n",
       "10  dayw****님             병원에 있어서 늦게 받았지만 직구치고빠른배송에 놀라고 성능에 놀랍니다  2019.05.10.   \n",
       "8   rin1****님  7일 오후 12시 결제 10일 오후 12시 도착공홈 품절이라 후기에 빠르다는 리뷰 ...  2019.05.10.   \n",
       "2   ovo0****님  구입하고 4일만에 배송왔어요. 정품 등록도 구입한날로하니 됩니다. 왜 지금까지 망설...  2019.05.10.   \n",
       "15  hotg****님                       선물 하려고 산건데 엄청 좋아하네요배송 진짜 빨라요  2019.05.10.   \n",
       "46  grbg****님                                 빠른배송, 제품 모두 만족입니다!  2019.05.09.   \n",
       "6   grbg****님                                 빠른배송, 제품 모두 만족입니다!  2019.05.09.   \n",
       "49  taeh****님  배송은 빨라서 좋네요.구매날짜가 20일전꺼라 리퍼기간이 짧아지는게 아쉽지만 그래도 ...  2019.05.09.   \n",
       "36  doub****님          빠르네요.일욜오후주문했는데요.수욜에오니 좋네요.아이폰에 바로접속되고 좋아요  2019.05.09.   \n",
       "11  naba****님             좋아요 에어팟1을 쓰고있었는데 기분탓인지 2가 음량도 풍부하고 좋네요  2019.05.09.   \n",
       "51  naba****님             좋아요 에어팟1을 쓰고있었는데 기분탓인지 2가 음량도 풍부하고 좋네요  2019.05.09.   \n",
       "31  naba****님             좋아요 에어팟1을 쓰고있었는데 기분탓인지 2가 음량도 풍부하고 좋네요  2019.05.09.   \n",
       "29  taeh****님  배송은 빨라서 좋네요.구매날짜가 20일전꺼라 리퍼기간이 짧아지는게 아쉽지만 그래도 ...  2019.05.09.   \n",
       "16  doub****님          빠르네요.일욜오후주문했는데요.수욜에오니 좋네요.아이폰에 바로접속되고 좋아요  2019.05.09.   \n",
       "26  grbg****님                                 빠른배송, 제품 모두 만족입니다!  2019.05.09.   \n",
       "56  doub****님          빠르네요.일욜오후주문했는데요.수욜에오니 좋네요.아이폰에 바로접속되고 좋아요  2019.05.09.   \n",
       "9   taeh****님  배송은 빨라서 좋네요.구매날짜가 20일전꺼라 리퍼기간이 짧아지는게 아쉽지만 그래도 ...  2019.05.09.   \n",
       "54  tvst****님                       홍콩이라고해서 일주일예상했는데배송빠르고 아주좋아요~  2019.05.08.   \n",
       "52  lsc4****님          배송이 정말 빠른 것 같아요! 주말 포함해서 3일?4일 만에 받았네요 ^^  2019.05.08.   \n",
       "4   lmin****님                 받자마자 개봉 페어링 속도도 엄청빠름 잘들림 좋음 말이필요없음  2019.05.08.   \n",
       "57  whr0****님                       정말 총알 배송이네요. 품질은 뭐 말 안 해도 ❤️  2019.05.08.   \n",
       "58  jsh3****님  금요일에 시켜서 수요일에 도착햇어요 중간에 어린이날 대체휴무도 끼어잇엇는데 배송 빠...  2019.05.08.   \n",
       "44  lmin****님                 받자마자 개봉 페어링 속도도 엄청빠름 잘들림 좋음 말이필요없음  2019.05.08.   \n",
       "19  god8****님                          넘 좋네요 연휴가껴서 좀 기다리긴 했지만 ㅠㅠ  2019.05.08.   \n",
       "12  lsc4****님          배송이 정말 빠른 것 같아요! 주말 포함해서 3일?4일 만에 받았네요 ^^  2019.05.08.   \n",
       "34  tvst****님                       홍콩이라고해서 일주일예상했는데배송빠르고 아주좋아요~  2019.05.08.   \n",
       "17  whr0****님                       정말 총알 배송이네요. 품질은 뭐 말 안 해도 ❤️  2019.05.08.   \n",
       "24  lmin****님                 받자마자 개봉 페어링 속도도 엄청빠름 잘들림 좋음 말이필요없음  2019.05.08.   \n",
       "14  tvst****님                       홍콩이라고해서 일주일예상했는데배송빠르고 아주좋아요~  2019.05.08.   \n",
       "32  lsc4****님          배송이 정말 빠른 것 같아요! 주말 포함해서 3일?4일 만에 받았네요 ^^  2019.05.08.   \n",
       "18  jsh3****님  금요일에 시켜서 수요일에 도착햇어요 중간에 어린이날 대체휴무도 끼어잇엇는데 배송 빠...  2019.05.08.   \n",
       "59  god8****님                          넘 좋네요 연휴가껴서 좀 기다리긴 했지만 ㅠㅠ  2019.05.08.   \n",
       "37  whr0****님                       정말 총알 배송이네요. 품질은 뭐 말 안 해도 ❤️  2019.05.08.   \n",
       "38  jsh3****님  금요일에 시켜서 수요일에 도착햇어요 중간에 어린이날 대체휴무도 끼어잇엇는데 배송 빠...  2019.05.08.   \n",
       "39  god8****님                          넘 좋네요 연휴가껴서 좀 기다리긴 했지만 ㅠㅠ  2019.05.08.   \n",
       "5   y4r*****님  4.29저녁에 주문해서 오늘 받았어요?. 품질. 가격. 배송. 다 만족합니다. 감사...  2019.05.02.   \n",
       "25  y4r*****님  4.29저녁에 주문해서 오늘 받았어요?. 품질. 가격. 배송. 다 만족합니다. 감사...  2019.05.02.   \n",
       "45  y4r*****님  4.29저녁에 주문해서 오늘 받았어요?. 품질. 가격. 배송. 다 만족합니다. 감사...  2019.05.02.   \n",
       "3   blue****님         배송이 생각보다 일찍 와서 좋습니다. 에어팟이니만큼 품질은 말할 것도 없구요  2019.04.02.   \n",
       "23  blue****님         배송이 생각보다 일찍 와서 좋습니다. 에어팟이니만큼 품질은 말할 것도 없구요  2019.04.02.   \n",
       "43  blue****님         배송이 생각보다 일찍 와서 좋습니다. 에어팟이니만큼 품질은 말할 것도 없구요  2019.04.02.   \n",
       "\n",
       "    path  star_score                                            subject  \n",
       "27  민트홍콩           5                                    배송도너무빠르고 상품도좋아여  \n",
       "53  민트홍콩           5                 이건 머 말이필요없쥬배송 엄청 빠르고 그냥 아주..짱입니다요.  \n",
       "13  민트홍콩           5                 이건 머 말이필요없쥬배송 엄청 빠르고 그냥 아주..짱입니다요.  \n",
       "47  민트홍콩           5                                    배송도너무빠르고 상품도좋아여  \n",
       "7   민트홍콩           5                                    배송도너무빠르고 상품도좋아여  \n",
       "33  민트홍콩           5                 이건 머 말이필요없쥬배송 엄청 빠르고 그냥 아주..짱입니다요.  \n",
       "0   민트홍콩           5  5월 7일 주문해서 5월 10일에 물건을 받았습니다. 배송 진짜 빠르네요. 해외 배...  \n",
       "40  민트홍콩           5  5월 7일 주문해서 5월 10일에 물건을 받았습니다. 배송 진짜 빠르네요. 해외 배...  \n",
       "1    위메프           5  6일 밤에 주문했는데 11일 오후에 왔어요 중국 노동절에 해외배송인데도 개인적으로 ...  \n",
       "41   위메프           5  6일 밤에 주문했는데 11일 오후에 왔어요 중국 노동절에 해외배송인데도 개인적으로 ...  \n",
       "20  민트홍콩           5  5월 7일 주문해서 5월 10일에 물건을 받았습니다. 배송 진짜 빠르네요. 해외 배...  \n",
       "21   위메프           5  6일 밤에 주문했는데 11일 오후에 왔어요 중국 노동절에 해외배송인데도 개인적으로 ...  \n",
       "35  민트홍콩           5                       선물 하려고 산건데 엄청 좋아하네요배송 진짜 빨라요  \n",
       "42  민트홍콩           5  구입하고 4일만에 배송왔어요. 정품 등록도 구입한날로하니 됩니다. 왜 지금까지 망설...  \n",
       "48  민트홍콩           5  7일 오후 12시 결제 10일 오후 12시 도착공홈 품절이라 후기에 빠르다는 리뷰 ...  \n",
       "50  민트홍콩           5             병원에 있어서 늦게 받았지만 직구치고빠른배송에 놀라고 성능에 놀랍니다  \n",
       "28  민트홍콩           5  7일 오후 12시 결제 10일 오후 12시 도착공홈 품절이라 후기에 빠르다는 리뷰 ...  \n",
       "55  민트홍콩           5                       선물 하려고 산건데 엄청 좋아하네요배송 진짜 빨라요  \n",
       "22  민트홍콩           5  구입하고 4일만에 배송왔어요. 정품 등록도 구입한날로하니 됩니다. 왜 지금까지 망설...  \n",
       "30  민트홍콩           5             병원에 있어서 늦게 받았지만 직구치고빠른배송에 놀라고 성능에 놀랍니다  \n",
       "10  민트홍콩           5             병원에 있어서 늦게 받았지만 직구치고빠른배송에 놀라고 성능에 놀랍니다  \n",
       "8   민트홍콩           5  7일 오후 12시 결제 10일 오후 12시 도착공홈 품절이라 후기에 빠르다는 리뷰 ...  \n",
       "2   민트홍콩           5  구입하고 4일만에 배송왔어요. 정품 등록도 구입한날로하니 됩니다. 왜 지금까지 망설...  \n",
       "15  민트홍콩           5                       선물 하려고 산건데 엄청 좋아하네요배송 진짜 빨라요  \n",
       "46  민트홍콩           5                                 빠른배송, 제품 모두 만족입니다!  \n",
       "6   민트홍콩           5                                 빠른배송, 제품 모두 만족입니다!  \n",
       "49  민트홍콩           4  배송은 빨라서 좋네요.구매날짜가 20일전꺼라 리퍼기간이 짧아지는게 아쉽지만 그래도 ...  \n",
       "36  민트홍콩           5          빠르네요.일욜오후주문했는데요.수욜에오니 좋네요.아이폰에 바로접속되고 좋아요  \n",
       "11  민트홍콩           5             좋아요 에어팟1을 쓰고있었는데 기분탓인지 2가 음량도 풍부하고 좋네요  \n",
       "51  민트홍콩           5             좋아요 에어팟1을 쓰고있었는데 기분탓인지 2가 음량도 풍부하고 좋네요  \n",
       "31  민트홍콩           5             좋아요 에어팟1을 쓰고있었는데 기분탓인지 2가 음량도 풍부하고 좋네요  \n",
       "29  민트홍콩           4  배송은 빨라서 좋네요.구매날짜가 20일전꺼라 리퍼기간이 짧아지는게 아쉽지만 그래도 ...  \n",
       "16  민트홍콩           5          빠르네요.일욜오후주문했는데요.수욜에오니 좋네요.아이폰에 바로접속되고 좋아요  \n",
       "26  민트홍콩           5                                 빠른배송, 제품 모두 만족입니다!  \n",
       "56  민트홍콩           5          빠르네요.일욜오후주문했는데요.수욜에오니 좋네요.아이폰에 바로접속되고 좋아요  \n",
       "9   민트홍콩           4  배송은 빨라서 좋네요.구매날짜가 20일전꺼라 리퍼기간이 짧아지는게 아쉽지만 그래도 ...  \n",
       "54  민트홍콩           5                       홍콩이라고해서 일주일예상했는데배송빠르고 아주좋아요~  \n",
       "52  민트홍콩           5          배송이 정말 빠른 것 같아요! 주말 포함해서 3일?4일 만에 받았네요 ^^  \n",
       "4   민트홍콩           5                 받자마자 개봉 페어링 속도도 엄청빠름 잘들림 좋음 말이필요없음  \n",
       "57  민트홍콩           5                       정말 총알 배송이네요. 품질은 뭐 말 안 해도 ❤️  \n",
       "58    옥션           5                                       에어팟 2세대 무선충전  \n",
       "44  민트홍콩           5                 받자마자 개봉 페어링 속도도 엄청빠름 잘들림 좋음 말이필요없음  \n",
       "19  민트홍콩           5                          넘 좋네요 연휴가껴서 좀 기다리긴 했지만 ㅠㅠ  \n",
       "12  민트홍콩           5          배송이 정말 빠른 것 같아요! 주말 포함해서 3일?4일 만에 받았네요 ^^  \n",
       "34  민트홍콩           5                       홍콩이라고해서 일주일예상했는데배송빠르고 아주좋아요~  \n",
       "17  민트홍콩           5                       정말 총알 배송이네요. 품질은 뭐 말 안 해도 ❤️  \n",
       "24  민트홍콩           5                 받자마자 개봉 페어링 속도도 엄청빠름 잘들림 좋음 말이필요없음  \n",
       "14  민트홍콩           5                       홍콩이라고해서 일주일예상했는데배송빠르고 아주좋아요~  \n",
       "32  민트홍콩           5          배송이 정말 빠른 것 같아요! 주말 포함해서 3일?4일 만에 받았네요 ^^  \n",
       "18    옥션           5                                       에어팟 2세대 무선충전  \n",
       "59  민트홍콩           5                          넘 좋네요 연휴가껴서 좀 기다리긴 했지만 ㅠㅠ  \n",
       "37  민트홍콩           5                       정말 총알 배송이네요. 품질은 뭐 말 안 해도 ❤️  \n",
       "38    옥션           5                                       에어팟 2세대 무선충전  \n",
       "39  민트홍콩           5                          넘 좋네요 연휴가껴서 좀 기다리긴 했지만 ㅠㅠ  \n",
       "5    위메프           5  4.29저녁에 주문해서 오늘 받았어요?. 품질. 가격. 배송. 다 만족합니다. 감사...  \n",
       "25   위메프           5  4.29저녁에 주문해서 오늘 받았어요?. 품질. 가격. 배송. 다 만족합니다. 감사...  \n",
       "45   위메프           5  4.29저녁에 주문해서 오늘 받았어요?. 품질. 가격. 배송. 다 만족합니다. 감사...  \n",
       "3   민트홍콩           5         배송이 생각보다 일찍 와서 좋습니다. 에어팟이니만큼 품질은 말할 것도 없구요  \n",
       "23  민트홍콩           5         배송이 생각보다 일찍 와서 좋습니다. 에어팟이니만큼 품질은 말할 것도 없구요  \n",
       "43  민트홍콩           5         배송이 생각보다 일찍 와서 좋습니다. 에어팟이니만큼 품질은 말할 것도 없구요  "
      ]
     },
     "execution_count": 126,
     "metadata": {},
     "output_type": "execute_result"
    }
   ],
   "source": [
    "# shift + tab으로 설명 볼 수 있음.\n",
    "\n",
    "df_review_list.sort_values('date', ascending=False)"
   ]
  },
  {
   "cell_type": "code",
   "execution_count": 127,
   "metadata": {},
   "outputs": [],
   "source": [
    "df_review_list.to_excel('리뷰리스트.xlsx')"
   ]
  }
 ],
 "metadata": {
  "kernelspec": {
   "display_name": "Python 3",
   "language": "python",
   "name": "python3"
  },
  "language_info": {
   "codemirror_mode": {
    "name": "ipython",
    "version": 3
   },
   "file_extension": ".py",
   "mimetype": "text/x-python",
   "name": "python",
   "nbconvert_exporter": "python",
   "pygments_lexer": "ipython3",
   "version": "3.7.0"
  },
  "toc": {
   "base_numbering": 1,
   "nav_menu": {},
   "number_sections": true,
   "sideBar": true,
   "skip_h1_title": false,
   "title_cell": "Table of Contents",
   "title_sidebar": "Contents",
   "toc_cell": false,
   "toc_position": {},
   "toc_section_display": true,
   "toc_window_display": false
  },
  "varInspector": {
   "cols": {
    "lenName": 16,
    "lenType": 16,
    "lenVar": 40
   },
   "kernels_config": {
    "python": {
     "delete_cmd_postfix": "",
     "delete_cmd_prefix": "del ",
     "library": "var_list.py",
     "varRefreshCmd": "print(var_dic_list())"
    },
    "r": {
     "delete_cmd_postfix": ") ",
     "delete_cmd_prefix": "rm(",
     "library": "var_list.r",
     "varRefreshCmd": "cat(var_dic_list()) "
    }
   },
   "types_to_exclude": [
    "module",
    "function",
    "builtin_function_or_method",
    "instance",
    "_Feature"
   ],
   "window_display": false
  }
 },
 "nbformat": 4,
 "nbformat_minor": 2
}
