{
 "cells": [
  {
   "cell_type": "code",
   "execution_count": 1,
   "metadata": {},
   "outputs": [],
   "source": [
    "import requests\n",
    "from bs4 import BeautifulSoup"
   ]
  },
  {
   "cell_type": "markdown",
   "metadata": {},
   "source": [
    "## 네이버 카페글 검색/수집(거래글)"
   ]
  },
  {
   "cell_type": "code",
   "execution_count": 3,
   "metadata": {},
   "outputs": [],
   "source": [
    "page_url = 'https://search.naver.com/search.naver'\n",
    "params = 'where=articlec&ie=utf8&query=%EC%97%90%EC%96%B4%ED%8C%9F&prdtype=0&t=0&st=rel&date_option=0&date_from=&date_to=&srchby=text&dup_remove=1&cafe_url=&without_cafe_url=&board=&sm=tab_btn'"
   ]
  },
  {
   "cell_type": "code",
   "execution_count": 5,
   "metadata": {},
   "outputs": [
    {
     "data": {
      "text/plain": [
       "['where=articlec',\n",
       " 'ie=utf8',\n",
       " 'query=%EC%97%90%EC%96%B4%ED%8C%9F',\n",
       " 'prdtype=0',\n",
       " 't=0',\n",
       " 'st=rel',\n",
       " 'date_option=0',\n",
       " 'date_from=',\n",
       " 'date_to=',\n",
       " 'srchby=text',\n",
       " 'dup_remove=1',\n",
       " 'cafe_url=',\n",
       " 'without_cafe_url=',\n",
       " 'board=',\n",
       " 'sm=tab_btn']"
      ]
     },
     "execution_count": 5,
     "metadata": {},
     "output_type": "execute_result"
    }
   ],
   "source": [
    "params.split('&') # 쿼리스트링은 &로 쪼개 집니당"
   ]
  },
  {
   "cell_type": "code",
   "execution_count": 8,
   "metadata": {},
   "outputs": [
    {
     "data": {
      "text/plain": [
       "<Response [200]>"
      ]
     },
     "execution_count": 8,
     "metadata": {},
     "output_type": "execute_result"
    }
   ],
   "source": [
    "\n",
    "params = {\n",
    "    'where' : 'articlec', # 거래글, 일반글 이 모두 다르다.\n",
    "    'query' : '에어팟',\n",
    "}\n",
    "res = requests.get(page_url, params = params)\n",
    "res"
   ]
  },
  {
   "cell_type": "code",
   "execution_count": 9,
   "metadata": {},
   "outputs": [],
   "source": [
    "html = res.text\n",
    "soup = BeautifulSoup(html, 'html.parser') # 페이지 소스보기로 확인하고 진행하는거다"
   ]
  },
  {
   "cell_type": "code",
   "execution_count": 12,
   "metadata": {},
   "outputs": [
    {
     "data": {
      "text/plain": [
       "10"
      ]
     },
     "execution_count": 12,
     "metadata": {},
     "output_type": "execute_result"
    }
   ],
   "source": [
    "tag_list = soup.select('.sh_cafe_top')\n",
    "len(tag_list)"
   ]
  },
  {
   "cell_type": "code",
   "execution_count": null,
   "metadata": {},
   "outputs": [],
   "source": [
    "'https://search.naver.com/search.naver?where=articlec&ie=utf8&query=%EC%97%90%EC%96%B4%ED%8C%9F&prdtype=0&t=0&st=rel&date_option=0&date_from=&date_to=&srchby=text&dup_remove=1&cafe_url=&without_cafe_url=&board=&sm=tab_pge&start=11'\n",
    "'https://search.naver.com/search.naver?where=articlec&ie=utf8&query=%EC%97%90%EC%96%B4%ED%8C%9F&prdtype=0&t=0&st=rel&date_option=0&date_from=&date_to=&srchby=text&dup_remove=1&cafe_url=&without_cafe_url=&board=&sm=tab_pge&start=21'"
   ]
  },
  {
   "cell_type": "code",
   "execution_count": null,
   "metadata": {},
   "outputs": [],
   "source": [
    "# 스타트라는 인자만 바뀐것을 확인함."
   ]
  },
  {
   "cell_type": "code",
   "execution_count": 97,
   "metadata": {},
   "outputs": [
    {
     "data": {
      "text/plain": [
       "10"
      ]
     },
     "execution_count": 97,
     "metadata": {},
     "output_type": "execute_result"
    }
   ],
   "source": [
    "검색어 ='에어팟'\n",
    "page_url = 'https://search.naver.com/search.naver'\n",
    "page = 0\n",
    "params = {\n",
    "    'where' : 'articlec', # 거래글, 일반글 이 모두 다르다.\n",
    "    'query' : 검색어,\n",
    "    'start' : (page-1) * 10 + 1,\n",
    "}\n",
    "res = requests.get(page_url, params = params)\n",
    "html = res.text\n",
    "soup = BeautifulSoup(html, 'html.parser')\n",
    "tag_list = soup.select('.sh_cafe_top')\n",
    "len(tag_list)"
   ]
  },
  {
   "cell_type": "code",
   "execution_count": 50,
   "metadata": {},
   "outputs": [],
   "source": [
    "tag = tag_list[3]"
   ]
  },
  {
   "cell_type": "code",
   "execution_count": 51,
   "metadata": {},
   "outputs": [
    {
     "data": {
      "text/plain": [
       "('https://cafe.naver.com/appleiphone/5061001', '아이폰x64g + 에어팟 팝니다')"
      ]
     },
     "execution_count": 51,
     "metadata": {},
     "output_type": "execute_result"
    }
   ],
   "source": [
    "title_tag = tag.select_one('.sh_cafe_title')\n",
    "post_url = title_tag['href']\n",
    "post_title = title_tag.text\n",
    "post_url, post_title"
   ]
  },
  {
   "cell_type": "code",
   "execution_count": 52,
   "metadata": {},
   "outputs": [
    {
     "data": {
      "text/plain": [
       "'아이폰x64g + 에어팟 팝니다, 휴대폰은 색상 특성상 옆면이 크롬재질이라 케이스 끼고벗길때 있는 흠집?말고는 없습니다 케이스 끼시면 안보입니다. 나머지는 깔끔 ...'"
      ]
     },
     "execution_count": 52,
     "metadata": {},
     "output_type": "execute_result"
    }
   ],
   "source": [
    "summary = tag.select_one('.sh_cafe_passage').text\n",
    "summary"
   ]
  },
  {
   "cell_type": "code",
   "execution_count": 53,
   "metadata": {},
   "outputs": [
    {
     "data": {
      "text/plain": [
       "'750,000'"
      ]
     },
     "execution_count": 53,
     "metadata": {},
     "output_type": "execute_result"
    }
   ],
   "source": [
    "tag.select_one('.cafe_item_price .num').text"
   ]
  },
  {
   "cell_type": "code",
   "execution_count": 54,
   "metadata": {},
   "outputs": [
    {
     "data": {
      "text/plain": [
       "True"
      ]
     },
     "execution_count": 54,
     "metadata": {},
     "output_type": "execute_result"
    }
   ],
   "source": [
    "# is_sell = tag.select_one('.cafe_item_price del') is None\n",
    "# is_sell 아래 방식이 더 좋아요~"
   ]
  },
  {
   "cell_type": "code",
   "execution_count": 56,
   "metadata": {},
   "outputs": [
    {
     "data": {
      "text/plain": [
       "False"
      ]
     },
     "execution_count": 56,
     "metadata": {},
     "output_type": "execute_result"
    }
   ],
   "source": [
    "is_sell = 'is_sell' in tag.select_one('.cafe_item_status')['class']\n",
    "is_sell"
   ]
  },
  {
   "cell_type": "code",
   "execution_count": 62,
   "metadata": {},
   "outputs": [
    {
     "data": {
      "text/plain": [
       "('https://cafe.naver.com/appleiphone', '아사모 -[아이폰, 아이폰 Xr, Xs...')"
      ]
     },
     "execution_count": 62,
     "metadata": {},
     "output_type": "execute_result"
    }
   ],
   "source": [
    "cafe_tag = tag.select_one('.txt_block a[href*=cafe.naver.com]') # 카페명 뽑아오기\n",
    "cafe_url = cafe_tag['href']\n",
    "cafe_name = cafe_tag.text\n",
    "cafe_url, cafe_name"
   ]
  },
  {
   "cell_type": "code",
   "execution_count": 66,
   "metadata": {},
   "outputs": [
    {
     "data": {
      "text/plain": [
       "'어제 '"
      ]
     },
     "execution_count": 66,
     "metadata": {},
     "output_type": "execute_result"
    }
   ],
   "source": [
    "# 날짜 가져오기\n",
    "when = tag.select_one('.txt_inline').text\n",
    "when"
   ]
  },
  {
   "cell_type": "code",
   "execution_count": 71,
   "metadata": {},
   "outputs": [],
   "source": [
    "is_safe = tag.select_one('.txt_safe') is not None # 안전거래"
   ]
  },
  {
   "cell_type": "code",
   "execution_count": 75,
   "metadata": {},
   "outputs": [],
   "source": [
    "img_url = tag.select_one('.thumb img')['src']"
   ]
  },
  {
   "cell_type": "code",
   "execution_count": 107,
   "metadata": {},
   "outputs": [],
   "source": [
    "post_list = []\n",
    "for tag in tag_list:\n",
    "    title_tag = tag.select_one('.sh_cafe_title')\n",
    "    post_url = title_tag['href']\n",
    "    post_title = title_tag.text\n",
    "    summary = tag.select_one('.sh_cafe_passage').text\n",
    "    price = tag.select_one('.cafe_item_price .num').text\n",
    "    is_sell = 'sell' in tag.select_one('.cafe_item_status')['class']\n",
    "    cafe_tag = tag.select_one('.txt_block a[href*=cafe.naver.com]') # 카페명 뽑아오기\n",
    "    cafe_url = cafe_tag['href']\n",
    "    cafe_name = cafe_tag.text\n",
    "    when = tag.select_one('.txt_inline').text\n",
    "    is_safe = tag.select_one('.txt_safe') is not None\n",
    "    img_url = tag.select_one('.thumb img')['src']\n",
    "    \n",
    "    post_list.append({\n",
    "        'when' : when,\n",
    "        'post_url' : post_url,\n",
    "        'mobile_post_url' : post_url.replace('cafe.naver.com', 'm.cafe.naver.com'),\n",
    "        'post_title' : post_title,\n",
    "        'summary' : summary,\n",
    "        'price' : price,\n",
    "        'is_sell' : is_sell,\n",
    "        'is_safe' : is_safe,\n",
    "        'img_url' : img_url,\n",
    "        'cafe_url' : cafe_url,\n",
    "        'cafe_name' : cafe_name,\n",
    "    })"
   ]
  },
  {
   "cell_type": "code",
   "execution_count": 108,
   "metadata": {},
   "outputs": [
    {
     "name": "stdout",
     "output_type": "stream",
     "text": [
      "어제  아이폰x64g + 에어팟 팝니다 750,000원 False 아사모 -[아이폰, 아이폰 Xr, Xs...\n",
      "https://m.cafe.naver.com/appleiphone/5061001\n",
      "3일 전  에어팟 투명하드케이스 3,000원 False 아사모 -[아이폰, 아이폰 Xr, Xs...\n",
      "https://m.cafe.naver.com/appleiphone/5059254\n",
      "2일 전  미개봉 에어팟 무선 충전케이스 팝니다 93,000원 False 아사모 -[아이폰, 아이폰 Xr, Xs...\n",
      "https://m.cafe.naver.com/appleiphone/5059529\n"
     ]
    }
   ],
   "source": [
    "#완료된거는 빼겠다!\n",
    "for post in filter(lambda post: post['is_sell'], post_list):\n",
    "    print('{when} {post_title} {price}원 {is_safe} {cafe_name}'.format(**post))\n",
    "    print(post['mobile_post_url'])"
   ]
  },
  {
   "cell_type": "code",
   "execution_count": 92,
   "metadata": {},
   "outputs": [],
   "source": [
    "# 프레임이라는 태그로 중첨되어져 있어서 안보인다.\n",
    "# 리퀘스트는 가자 바깥 부분엔 요청해서 처리한다. 페이스 소스보기에서 ifram\n",
    "# m.을 붙여서 소스보기로 프레임을 볼 수 있다. 우리가 하는 식으로 볼 수 있다."
   ]
  },
  {
   "cell_type": "code",
   "execution_count": 94,
   "metadata": {},
   "outputs": [],
   "source": [
    "mobile_page_url = 'https://m.cafe.naver.com/appleiphone/5059232'"
   ]
  },
  {
   "cell_type": "code",
   "execution_count": 96,
   "metadata": {},
   "outputs": [
    {
     "data": {
      "text/plain": [
       "True"
      ]
     },
     "execution_count": 96,
     "metadata": {},
     "output_type": "execute_result"
    }
   ],
   "source": [
    "res = requests.get(mobile_page_url)\n",
    "'카페 멤버만' in res.text"
   ]
  },
  {
   "cell_type": "markdown",
   "metadata": {},
   "source": [
    "검색페이지를 거쳐서 들어가면 볼 수 있다"
   ]
  },
  {
   "cell_type": "code",
   "execution_count": 100,
   "metadata": {},
   "outputs": [
    {
     "data": {
      "text/plain": [
       "'%EA%B2%80%EC%83%89%EC%96%B4'"
      ]
     },
     "execution_count": 100,
     "metadata": {},
     "output_type": "execute_result"
    }
   ],
   "source": [
    "from urllib.parse import quote\n",
    "quote('검색어')"
   ]
  },
  {
   "cell_type": "code",
   "execution_count": 101,
   "metadata": {},
   "outputs": [],
   "source": [
    "mobile_page_url = 'https://m.cafe.naver.com/appleiphone/5059232'\n",
    "headers = {\n",
    "    'Referer' : 'https://m.cafe.naver.com/SectionMarketArticleSearch.nhn?page=1&sortBy=0&query='+quote('검색어')\n",
    "}"
   ]
  },
  {
   "cell_type": "code",
   "execution_count": 104,
   "metadata": {},
   "outputs": [
    {
     "data": {
      "text/plain": [
       "False"
      ]
     },
     "execution_count": 104,
     "metadata": {},
     "output_type": "execute_result"
    }
   ],
   "source": [
    "res = requests.get(mobile_page_url, headers = headers)\n",
    "'카페 멤버만' in res.text"
   ]
  },
  {
   "cell_type": "markdown",
   "metadata": {},
   "source": [
    "성공!!"
   ]
  }
 ],
 "metadata": {
  "kernelspec": {
   "display_name": "Python 3",
   "language": "python",
   "name": "python3"
  },
  "language_info": {
   "codemirror_mode": {
    "name": "ipython",
    "version": 3
   },
   "file_extension": ".py",
   "mimetype": "text/x-python",
   "name": "python",
   "nbconvert_exporter": "python",
   "pygments_lexer": "ipython3",
   "version": "3.7.0"
  },
  "toc": {
   "base_numbering": 1,
   "nav_menu": {},
   "number_sections": true,
   "sideBar": true,
   "skip_h1_title": false,
   "title_cell": "Table of Contents",
   "title_sidebar": "Contents",
   "toc_cell": false,
   "toc_position": {},
   "toc_section_display": true,
   "toc_window_display": false
  },
  "varInspector": {
   "cols": {
    "lenName": 16,
    "lenType": 16,
    "lenVar": 40
   },
   "kernels_config": {
    "python": {
     "delete_cmd_postfix": "",
     "delete_cmd_prefix": "del ",
     "library": "var_list.py",
     "varRefreshCmd": "print(var_dic_list())"
    },
    "r": {
     "delete_cmd_postfix": ") ",
     "delete_cmd_prefix": "rm(",
     "library": "var_list.r",
     "varRefreshCmd": "cat(var_dic_list()) "
    }
   },
   "types_to_exclude": [
    "module",
    "function",
    "builtin_function_or_method",
    "instance",
    "_Feature"
   ],
   "window_display": false
  }
 },
 "nbformat": 4,
 "nbformat_minor": 2
}
