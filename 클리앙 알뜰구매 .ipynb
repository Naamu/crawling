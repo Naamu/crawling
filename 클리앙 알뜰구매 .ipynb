{
 "cells": [
  {
   "cell_type": "code",
   "execution_count": 1,
   "metadata": {},
   "outputs": [],
   "source": [
    "import requests\n",
    "from bs4 import BeautifulSoup"
   ]
  },
  {
   "cell_type": "markdown",
   "metadata": {},
   "source": [
    "## 클리앙 알뜰구매 게시판"
   ]
  },
  {
   "cell_type": "code",
   "execution_count": 2,
   "metadata": {},
   "outputs": [],
   "source": [
    "page_url = 'https://www.clien.net/service/board/jirum'\n",
    "page = 1\n",
    "params = {\n",
    "    'po' : (page-1)\n",
    "}"
   ]
  },
  {
   "cell_type": "code",
   "execution_count": 4,
   "metadata": {},
   "outputs": [
    {
     "data": {
      "text/plain": [
       "<Response [200]>"
      ]
     },
     "execution_count": 4,
     "metadata": {},
     "output_type": "execute_result"
    }
   ],
   "source": [
    "res = requests.get(page_url, params=params)\n",
    "res"
   ]
  },
  {
   "cell_type": "code",
   "execution_count": 5,
   "metadata": {},
   "outputs": [],
   "source": [
    "html = res.text\n",
    "soup = BeautifulSoup(html, 'html.parser')"
   ]
  },
  {
   "cell_type": "code",
   "execution_count": 11,
   "metadata": {},
   "outputs": [
    {
     "data": {
      "text/plain": [
       "30"
      ]
     },
     "execution_count": 11,
     "metadata": {},
     "output_type": "execute_result"
    }
   ],
   "source": [
    "tag_list = soup.select('.contents_jirum .list_item')\n",
    "len(tag_list)"
   ]
  },
  {
   "cell_type": "code",
   "execution_count": 12,
   "metadata": {},
   "outputs": [],
   "source": [
    "tag = tag_list[0]"
   ]
  },
  {
   "cell_type": "code",
   "execution_count": 15,
   "metadata": {},
   "outputs": [
    {
     "data": {
      "text/plain": [
       "'/service/board/jirum/13483369?od=T31&po=0&category=&groupCd='"
      ]
     },
     "execution_count": 15,
     "metadata": {},
     "output_type": "execute_result"
    }
   ],
   "source": [
    "title_tag = tag.select_one('[data-role=list-title-text]') # 그냥 바로 속성명을 찾을 때는 대괄호인것\n",
    "title_tag['href']\n",
    "#title_tag.text"
   ]
  },
  {
   "cell_type": "code",
   "execution_count": 17,
   "metadata": {},
   "outputs": [],
   "source": [
    "from urllib.parse import urljoin"
   ]
  },
  {
   "cell_type": "code",
   "execution_count": 18,
   "metadata": {},
   "outputs": [
    {
     "data": {
      "text/plain": [
       "'https://www.clien.net/service/board/jirum/13483369?od=T31&po=0&category=&groupCd='"
      ]
     },
     "execution_count": 18,
     "metadata": {},
     "output_type": "execute_result"
    }
   ],
   "source": [
    "urljoin(page_url, title_tag['href']) # 개별 포스팅 주소"
   ]
  },
  {
   "cell_type": "code",
   "execution_count": 20,
   "metadata": {},
   "outputs": [
    {
     "name": "stdout",
     "output_type": "stream",
     "text": [
      "[티몬] 타워즈 타이파이터 서큘레이터 (9,999원) https://www.clien.net/service/board/jirum/13483369?od=T31&po=0&category=&groupCd=\n"
     ]
    }
   ],
   "source": [
    "post_url = urljoin(page_url, title_tag['href'])\n",
    "post_title = title_tag.text\n",
    "print(post_title, post_url)"
   ]
  },
  {
   "cell_type": "code",
   "execution_count": 21,
   "metadata": {},
   "outputs": [
    {
     "name": "stdout",
     "output_type": "stream",
     "text": [
      "gms010 13483369 17\n"
     ]
    }
   ],
   "source": [
    "author_id = tag['data-author-id']\n",
    "board_sn = tag['data-board-sn']\n",
    "comment_count = tag['data-comment-count']\n",
    "print(author_id, board_sn, comment_count)"
   ]
  },
  {
   "cell_type": "code",
   "execution_count": 28,
   "metadata": {},
   "outputs": [
    {
     "name": "stdout",
     "output_type": "stream",
     "text": [
      "국내\n"
     ]
    }
   ],
   "source": [
    "try : \n",
    "    nickname = tag.select_one('.nickname img')['alt'] # 이미지가 들어간 것들을 처리하기 위한 처리\n",
    "except TypeError:\n",
    "    nickname = tag.select_one('.nickname').text.strip()\n",
    "print(nickname)"
   ]
  },
  {
   "cell_type": "code",
   "execution_count": 30,
   "metadata": {
    "scrolled": true
   },
   "outputs": [
    {
     "data": {
      "text/plain": [
       "2806"
      ]
     },
     "execution_count": 30,
     "metadata": {},
     "output_type": "execute_result"
    }
   ],
   "source": [
    "hit = int(tag.select_one('.hit').text)\n",
    "hit"
   ]
  },
  {
   "cell_type": "code",
   "execution_count": 32,
   "metadata": {},
   "outputs": [],
   "source": [
    "from datetime import datetime"
   ]
  },
  {
   "cell_type": "code",
   "execution_count": 33,
   "metadata": {
    "scrolled": true
   },
   "outputs": [
    {
     "data": {
      "text/plain": [
       "'2019-05-12 17:20:00'"
      ]
     },
     "execution_count": 33,
     "metadata": {},
     "output_type": "execute_result"
    }
   ],
   "source": [
    "created_at_string = tag.select_one('.timestamp').text\n",
    "created_at_string"
   ]
  },
  {
   "cell_type": "code",
   "execution_count": 38,
   "metadata": {},
   "outputs": [
    {
     "data": {
      "text/plain": [
       "datetime.datetime(2019, 5, 12, 17, 20)"
      ]
     },
     "execution_count": 38,
     "metadata": {},
     "output_type": "execute_result"
    }
   ],
   "source": [
    "created_at = datetime.strptime(created_at_string, '%Y-%m-%d %H:%M:%S') # 문자를 날짜 정보로 변환\n",
    "created_at"
   ]
  },
  {
   "cell_type": "code",
   "execution_count": 49,
   "metadata": {},
   "outputs": [
    {
     "data": {
      "text/plain": [
       "{'post_url': 'https://www.clien.net/service/board/jirum/13483369?od=T31&po=0&category=&groupCd=',\n",
       " 'post_title': '[티몬] 타워즈 타이파이터 서큘레이터 (9,999원)',\n",
       " 'author_id': 'gms010',\n",
       " 'board_sn': '13483369',\n",
       " 'comment_count': '17',\n",
       " 'nickname': '국내',\n",
       " 'hit': 2806,\n",
       " 'created_at': datetime.datetime(2019, 5, 12, 17, 20)}"
      ]
     },
     "execution_count": 49,
     "metadata": {},
     "output_type": "execute_result"
    }
   ],
   "source": [
    "post_list = []\n",
    "for tag in tag_list:\n",
    "    title_tag = tag.select_one('[data-role=list-title-text]')\n",
    "    post_url = urljoin(page_url, title_tag['href'])\n",
    "    post_title = title_tag.text\n",
    "    \n",
    "    author_id = tag['data-author-id']\n",
    "    board_sn = tag['data-board-sn']\n",
    "    comment_count = tag['data-comment-count']\n",
    "    try : \n",
    "        nickname = tag.select_one('.nickname img')['alt'] \n",
    "    except TypeError:\n",
    "        nickname = tag.select_one('.nickname').text.strip()\n",
    "    \n",
    "    hit_string = tag.select_one('.hit').text\n",
    "    \n",
    "    if hit_string.endswith('k'): # 중간에 K로 끝나는 부분이 있어 오류가 나서 처리하는 코드\n",
    "        hit = float(hit_string[:-1]) * 1000\n",
    "    else:\n",
    "        hit = int(hit_string)\n",
    "    #print(hit_string, hit)\n",
    "    \n",
    "    created_at_string = tag.select_one('.timestamp').text\n",
    "    created_at = datetime.strptime(created_at_string, '%Y-%m-%d %H:%M:%S')\n",
    "    \n",
    "    \n",
    "    post_list.append({\n",
    "        'post_url' : post_url,\n",
    "        'post_title' : post_title,\n",
    "        'author_id' : author_id,\n",
    "        'board_sn' : board_sn,\n",
    "        'comment_count' : comment_count,\n",
    "        'nickname' : nickname,\n",
    "        'hit' : hit,\n",
    "        'created_at' : created_at,\n",
    "    })\n",
    "    \n",
    "    \n",
    "    \n",
    "post_list[0]"
   ]
  },
  {
   "cell_type": "markdown",
   "metadata": {},
   "source": [
    "특정게시물의 댓글 가져오기<br>\n",
    "댓글은 페이지 소스 보기 해서 보면 없다<br>\n",
    "그러면 네트워크 탭에서 XHR에서 새로고침해보면 commnet를 http 요청을 통해 받아 옴을 알수 있다.<br>\n",
    "새탭으로 띄어서 보자<br>"
   ]
  },
  {
   "cell_type": "markdown",
   "metadata": {},
   "source": [
    "## 댓글"
   ]
  },
  {
   "cell_type": "code",
   "execution_count": 51,
   "metadata": {},
   "outputs": [
    {
     "data": {
      "text/plain": [
       "['order=date', 'po=0', 'ps=100', 'writer=gms010', 'webTag=ST03']"
      ]
     },
     "execution_count": 51,
     "metadata": {},
     "output_type": "execute_result"
    }
   ],
   "source": [
    "comment_url='https://www.clien.net/service/board/jirum/13483369/comment'\n",
    "params = 'order=date&po=0&ps=100&writer=gms010&webTag=ST03'\n",
    "params.split('&')"
   ]
  },
  {
   "cell_type": "markdown",
   "metadata": {},
   "source": [
    "webTag 는 없어도 되는 것 같고<br>\n",
    "작성자가 댓글을 달면 메타 정보가 writer 인데 우리는 필요 없다.<br>\n",
    "po는 페이징이고 ps는 몇개단위로 보여질것인지"
   ]
  },
  {
   "cell_type": "code",
   "execution_count": 53,
   "metadata": {},
   "outputs": [],
   "source": [
    "comment_url='https://www.clien.net/service/board/jirum/13483369/comment'\n",
    "params = {\n",
    "    'order' : 'date',\n",
    "    'po' : 0,\n",
    "    'ps' : 100\n",
    "}"
   ]
  },
  {
   "cell_type": "code",
   "execution_count": 56,
   "metadata": {},
   "outputs": [],
   "source": [
    "post_url = 'https://www.clien.net/service/board/jirum/13483369?od=T31&po=0&category=&groupCd='\n",
    "comment_list_url = post_url.split('?', 1)[0] + '/comment'"
   ]
  },
  {
   "cell_type": "code",
   "execution_count": 57,
   "metadata": {},
   "outputs": [
    {
     "data": {
      "text/plain": [
       "{'post_url': 'https://www.clien.net/service/board/jirum/13483369?od=T31&po=0&category=&groupCd=',\n",
       " 'comment_list_url': 'https://www.clien.net/service/board/jirum/13483369/comment',\n",
       " 'post_title': '[티몬] 타워즈 타이파이터 서큘레이터 (9,999원)',\n",
       " 'author_id': 'gms010',\n",
       " 'board_sn': '13483369',\n",
       " 'comment_count': '17',\n",
       " 'nickname': '국내',\n",
       " 'hit': 2806,\n",
       " 'created_at': datetime.datetime(2019, 5, 12, 17, 20)}"
      ]
     },
     "execution_count": 57,
     "metadata": {},
     "output_type": "execute_result"
    }
   ],
   "source": [
    "post_list = []\n",
    "for tag in tag_list:\n",
    "    title_tag = tag.select_one('[data-role=list-title-text]')\n",
    "    post_url = urljoin(page_url, title_tag['href'])\n",
    "    comment_list_url = post_url.split('?', 1)[0] + '/comment'\n",
    "    post_title = title_tag.text\n",
    "    \n",
    "    author_id = tag['data-author-id']\n",
    "    board_sn = tag['data-board-sn']\n",
    "    comment_count = tag['data-comment-count']\n",
    "    try : \n",
    "        nickname = tag.select_one('.nickname img')['alt'] \n",
    "    except TypeError:\n",
    "        nickname = tag.select_one('.nickname').text.strip()\n",
    "    \n",
    "    hit_string = tag.select_one('.hit').text\n",
    "    \n",
    "    if hit_string.endswith('k'): # 중간에 K로 끝나는 부분이 있어 오류가 나서 처리하는 코드\n",
    "        hit = float(hit_string[:-1]) * 1000\n",
    "    else:\n",
    "        hit = int(hit_string)\n",
    "    #print(hit_string, hit)\n",
    "    \n",
    "    created_at_string = tag.select_one('.timestamp').text\n",
    "    created_at = datetime.strptime(created_at_string, '%Y-%m-%d %H:%M:%S')\n",
    "    \n",
    "    \n",
    "    post_list.append({\n",
    "        'post_url' : post_url,\n",
    "        'comment_list_url' : comment_list_url,\n",
    "        'post_title' : post_title,\n",
    "        'author_id' : author_id,\n",
    "        'board_sn' : board_sn,\n",
    "        'comment_count' : comment_count,\n",
    "        'nickname' : nickname,\n",
    "        'hit' : hit,\n",
    "        'created_at' : created_at,\n",
    "    })\n",
    "    \n",
    "post_list[0]"
   ]
  },
  {
   "cell_type": "code",
   "execution_count": 59,
   "metadata": {},
   "outputs": [
    {
     "data": {
      "text/plain": [
       "<Response [200]>"
      ]
     },
     "execution_count": 59,
     "metadata": {},
     "output_type": "execute_result"
    }
   ],
   "source": [
    "comment_list_url = post_url.split('?', 1)[0] + '/comment'\n",
    "params = {\n",
    "    'order' : 'date',\n",
    "    'po' : 0,\n",
    "    'ps' : 100\n",
    "}\n",
    "res = requests.get(comment_list_url, params=params)\n",
    "res"
   ]
  },
  {
   "cell_type": "code",
   "execution_count": 60,
   "metadata": {},
   "outputs": [],
   "source": [
    "html = res.text\n",
    "soup = BeautifulSoup(html, 'html.parser')"
   ]
  },
  {
   "cell_type": "code",
   "execution_count": 61,
   "metadata": {},
   "outputs": [
    {
     "data": {
      "text/plain": [
       "14"
      ]
     },
     "execution_count": 61,
     "metadata": {},
     "output_type": "execute_result"
    }
   ],
   "source": [
    "tag_list = soup.select('.comment_row')\n",
    "len(tag_list)"
   ]
  },
  {
   "cell_type": "code",
   "execution_count": 62,
   "metadata": {},
   "outputs": [],
   "source": [
    "tag = tag_list[0]"
   ]
  },
  {
   "cell_type": "code",
   "execution_count": 63,
   "metadata": {},
   "outputs": [],
   "source": [
    "author_id = tag['data-author-id']\n",
    "comment_id = tag['data-comment-sn']"
   ]
  },
  {
   "cell_type": "code",
   "execution_count": 64,
   "metadata": {},
   "outputs": [],
   "source": [
    "try : \n",
    "    nickname = tag.select_one('.nickname img')['alt'] \n",
    "except TypeError:\n",
    "    nickname = tag.select_one('.nickname').text.strip()"
   ]
  },
  {
   "cell_type": "code",
   "execution_count": 67,
   "metadata": {},
   "outputs": [
    {
     "data": {
      "text/plain": [
       "'감사합니다'"
      ]
     },
     "execution_count": 67,
     "metadata": {},
     "output_type": "execute_result"
    }
   ],
   "source": [
    "content = tag.select_one('.comment_content').text.strip()\n",
    "content"
   ]
  },
  {
   "cell_type": "code",
   "execution_count": 70,
   "metadata": {},
   "outputs": [
    {
     "data": {
      "text/plain": [
       "{'author_id': 'numseal',\n",
       " 'comment_id': '101047470',\n",
       " 'nickname': '넘실이',\n",
       " 'content': '감사합니다'}"
      ]
     },
     "execution_count": 70,
     "metadata": {},
     "output_type": "execute_result"
    }
   ],
   "source": [
    "comment_list=[]\n",
    "for tag in tag_list:\n",
    "    author_id = tag['data-author-id']\n",
    "    comment_id = tag['data-comment-sn']\n",
    "    try : \n",
    "        nickname = tag.select_one('.nickname img')['alt'] \n",
    "    except TypeError:\n",
    "        nickname = tag.select_one('.nickname').text.strip()\n",
    "    content = tag.select_one('.comment_content').text.strip()\n",
    "    comment_list.append({\n",
    "        'author_id' : author_id,\n",
    "        'comment_id' : comment_id,\n",
    "        'nickname' : nickname,\n",
    "        'content' : content,        \n",
    "    })\n",
    "comment_list[0]"
   ]
  },
  {
   "cell_type": "code",
   "execution_count": null,
   "metadata": {},
   "outputs": [],
   "source": []
  }
 ],
 "metadata": {
  "kernelspec": {
   "display_name": "Python 3",
   "language": "python",
   "name": "python3"
  },
  "language_info": {
   "codemirror_mode": {
    "name": "ipython",
    "version": 3
   },
   "file_extension": ".py",
   "mimetype": "text/x-python",
   "name": "python",
   "nbconvert_exporter": "python",
   "pygments_lexer": "ipython3",
   "version": "3.7.0"
  },
  "toc": {
   "base_numbering": 1,
   "nav_menu": {},
   "number_sections": true,
   "sideBar": true,
   "skip_h1_title": false,
   "title_cell": "Table of Contents",
   "title_sidebar": "Contents",
   "toc_cell": false,
   "toc_position": {},
   "toc_section_display": true,
   "toc_window_display": false
  },
  "varInspector": {
   "cols": {
    "lenName": 16,
    "lenType": 16,
    "lenVar": 40
   },
   "kernels_config": {
    "python": {
     "delete_cmd_postfix": "",
     "delete_cmd_prefix": "del ",
     "library": "var_list.py",
     "varRefreshCmd": "print(var_dic_list())"
    },
    "r": {
     "delete_cmd_postfix": ") ",
     "delete_cmd_prefix": "rm(",
     "library": "var_list.r",
     "varRefreshCmd": "cat(var_dic_list()) "
    }
   },
   "types_to_exclude": [
    "module",
    "function",
    "builtin_function_or_method",
    "instance",
    "_Feature"
   ],
   "window_display": false
  }
 },
 "nbformat": 4,
 "nbformat_minor": 2
}
